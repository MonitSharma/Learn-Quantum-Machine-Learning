{
  "nbformat": 4,
  "nbformat_minor": 0,
  "metadata": {
    "colab": {
      "provenance": [],
      "authorship_tag": "ABX9TyMnSz5d24F9NNR726S5JUJ2",
      "include_colab_link": true
    },
    "kernelspec": {
      "name": "python3",
      "display_name": "Python 3"
    },
    "language_info": {
      "name": "python"
    }
  },
  "cells": [
    {
      "cell_type": "markdown",
      "metadata": {
        "id": "view-in-github",
        "colab_type": "text"
      },
      "source": [
        "<a href=\"https://colab.research.google.com/github/MonitSharma/Learn-Quantum-Machine-Learning/blob/main/Quantum_gradients_with_backpropagation.ipynb\" target=\"_parent\"><img src=\"https://colab.research.google.com/assets/colab-badge.svg\" alt=\"Open In Colab\"/></a>"
      ]
    },
    {
      "cell_type": "markdown",
      "source": [
        "# Quantum gradients with backpropagation\n",
        "\n",
        "\n",
        "\n",
        "\n",
        "Any quantum device, whether a hardware device or a simulator, can be trained using the [parameter-shift rule](https://colab.research.google.com/github/MonitSharma/Learn-Quantum-Machine-Learning/blob/main/Quantum_Gradients_with_Backpropagation.ipynb) to compute quantum gradients. Indeed, the parameter-shift rule is ideally suited to hardware devices, as it does not require any knowledge about the internal workings of the device; it is sufficient to treat the device as a ‘black box’, and to query it with different input values in order to determine the gradient.\n",
        "\n",
        "When working with simulators, however, we do have access to the internal (classical) computations being performed. This allows us to take advantage of other methods of computing the gradient, such as backpropagation, which may be advantageous in certain regimes. In this tutorial, we will compare and contrast the parameter-shift rule against backpropagation, using the PennyLane `default.qubit` device."
      ],
      "metadata": {
        "id": "qjLW_cNiiaAc"
      }
    },
    {
      "cell_type": "markdown",
      "source": [
        "## The parameter-shift rule\n",
        "The parameter-shift rule states that, given a variational quantum circuit $U(\\theta)$ composed of parameterized Pauli rotations, and some measured observables $\\hat{B}$, the derivative of the expectation value:\n",
        "\n",
        "$$\\langle \\hat{B} \\rangle (\\boldsymbol\\theta) =\n",
        "\\langle 0 \\vert U(\\boldsymbol\\theta)^\\dagger \\hat{B} U(\\boldsymbol\\theta) \\vert 0\\rangle$$\n",
        "\n",
        "with respect to the input circuit parameters $\\theta$ is given by\n",
        "\n",
        "$$\\nabla_{\\theta_i}\\langle \\hat{B} \\rangle(\\boldsymbol\\theta)\n",
        "   =  \\frac{1}{2}\n",
        "         \\left[\n",
        "             \\langle \\hat{B} \\rangle\\left(\\boldsymbol\\theta + \\frac{\\pi}{2}\\hat{\\mathbf{e}}_i\\right)\n",
        "           - \\langle \\hat{B} \\rangle\\left(\\boldsymbol\\theta - \\frac{\\pi}{2}\\hat{\\mathbf{e}}_i\\right)\n",
        "         \\right].$$\n",
        "\n",
        "\n",
        "Thus, the gradient of the expectation value can be calculated by evaluating the same variational quantum circuit, but with shifted parameter values (hence the name, parameter-shift rule!).\n",
        "\n",
        "Let’s have a go implementing the parameter-shift rule manually in PennyLane.\n",
        "\n"
      ],
      "metadata": {
        "id": "jWY1nehmiqTU"
      }
    },
    {
      "cell_type": "code",
      "execution_count": 3,
      "metadata": {
        "id": "6xOKPs2CiR3o"
      },
      "outputs": [],
      "source": [
        "import pennylane as qml\n",
        "from pennylane import numpy as np\n",
        "from matplotlib import pyplot as plt\n",
        "\n",
        "# set the random seed\n",
        "np.random.seed(42)\n",
        "\n",
        "# create a device to execute the circuit on\n",
        "dev = qml.device(\"default.qubit\", wires=3)\n",
        "\n",
        "@qml.qnode(dev, diff_method=\"parameter-shift\")\n",
        "def circuit(params):\n",
        "    qml.RX(params[0], wires=0)\n",
        "    qml.RY(params[1], wires=1)\n",
        "    qml.RZ(params[2], wires=2)\n",
        "\n",
        "    qml.broadcast(qml.CNOT, wires=[0, 1, 2], pattern=\"ring\")\n",
        "\n",
        "    qml.RX(params[3], wires=0)\n",
        "    qml.RY(params[4], wires=1)\n",
        "    qml.RZ(params[5], wires=2)\n",
        "\n",
        "    qml.broadcast(qml.CNOT, wires=[0, 1, 2], pattern=\"ring\")\n",
        "    return qml.expval(qml.PauliY(0) @ qml.PauliZ(2))"
      ]
    },
    {
      "cell_type": "markdown",
      "source": [
        "Let’s test the variational circuit evaluation with some parameter input:"
      ],
      "metadata": {
        "id": "lkKD6Ehpjbv2"
      }
    },
    {
      "cell_type": "code",
      "source": [
        "# initial parameters\n",
        "params = np.random.random([6], requires_grad=True)\n",
        "\n",
        "print(\"Parameters:\", params)\n",
        "print(\"Expectation value:\", circuit(params))"
      ],
      "metadata": {
        "colab": {
          "base_uri": "https://localhost:8080/"
        },
        "id": "lxBtkyeYjZ-S",
        "outputId": "c35ac855-c88c-4bfb-b92b-9e977605b9b0"
      },
      "execution_count": 4,
      "outputs": [
        {
          "output_type": "stream",
          "name": "stdout",
          "text": [
            "Parameters: [0.37454012 0.95071431 0.73199394 0.59865848 0.15601864 0.15599452]\n",
            "Expectation value: -0.11971365706871566\n"
          ]
        }
      ]
    },
    {
      "cell_type": "markdown",
      "source": [
        "We can also draw the executed quantum ciruit:\n",
        "\n"
      ],
      "metadata": {
        "id": "jDKbiv2zj9kV"
      }
    },
    {
      "cell_type": "code",
      "source": [
        "fig, ax = qml.draw_mpl(circuit, decimals=2)(params)\n",
        "plt.show()"
      ],
      "metadata": {
        "colab": {
          "base_uri": "https://localhost:8080/",
          "height": 319
        },
        "id": "pgbWDrsPj5-J",
        "outputId": "32206d05-4c14-4c9a-e0db-486fcc316f21"
      },
      "execution_count": 5,
      "outputs": [
        {
          "output_type": "display_data",
          "data": {
            "text/plain": [
              "<Figure size 792x288 with 1 Axes>"
            ],
            "image/png": "[encoded data removed]"
          },
          "metadata": {}
        }
      ]
    },
    {
      "cell_type": "markdown",
      "source": [
        "Now that we have defined our variational circuit QNode, we can construct a function that computes the gradient of the ith parameter using the parameter-shift rule."
      ],
      "metadata": {
        "id": "VyYiW99LkNN2"
      }
    },
    {
      "cell_type": "code",
      "source": [
        "def parameter_shift_term(qnode, params, i):\n",
        "    shifted = params.copy()\n",
        "    shifted[i] += np.pi/2\n",
        "    forward = qnode(shifted)  # forward evaluation\n",
        "\n",
        "    shifted[i] -= np.pi\n",
        "    backward = qnode(shifted) # backward evaluation\n",
        "\n",
        "    return 0.5 * (forward - backward)\n",
        "\n",
        "# gradient with respect to the first parameter\n",
        "print(parameter_shift_term(circuit, params, 0))"
      ],
      "metadata": {
        "colab": {
          "base_uri": "https://localhost:8080/"
        },
        "id": "2MoO46BqkGKR",
        "outputId": "73fe410e-ee94-467e-acab-0b755bde30e3"
      },
      "execution_count": 6,
      "outputs": [
        {
          "output_type": "stream",
          "name": "stdout",
          "text": [
            "-0.06518877224958124\n"
          ]
        }
      ]
    },
    {
      "cell_type": "markdown",
      "source": [
        "In order to compute the gradient with respect to all parameters, we need to loop over the index $i$:"
      ],
      "metadata": {
        "id": "YtrgoD4ikbvw"
      }
    },
    {
      "cell_type": "code",
      "source": [
        "def parameter_shift(qnode, params):\n",
        "    gradients = np.zeros([len(params)])\n",
        "\n",
        "    for i in range(len(params)):\n",
        "        gradients[i] = parameter_shift_term(qnode, params, i)\n",
        "\n",
        "    return gradients\n",
        "\n",
        "print(parameter_shift(circuit, params))"
      ],
      "metadata": {
        "colab": {
          "base_uri": "https://localhost:8080/"
        },
        "id": "hIdUBms0kU1k",
        "outputId": "04d3ec07-544a-49bb-9d47-33b2a675494c"
      },
      "execution_count": 7,
      "outputs": [
        {
          "output_type": "stream",
          "name": "stdout",
          "text": [
            "[-6.51887722e-02 -2.72891905e-02  0.00000000e+00 -9.33934621e-02\n",
            " -7.61067572e-01  4.16333634e-17]\n"
          ]
        }
      ]
    },
    {
      "cell_type": "markdown",
      "source": [
        "We can compare this to PennyLane’s built-in quantum gradient support by using the `qml.grad` function, which allows us to compute gradients of hybrid quantum-classical cost functions. Remember, when we defined the QNode, we specified that we wanted it to be differentiable using the parameter-shift method (`diff_method=\"parameter-shift\"`)."
      ],
      "metadata": {
        "id": "1TbuI5ZjkpBP"
      }
    },
    {
      "cell_type": "code",
      "source": [
        "grad_function = qml.grad(circuit)\n",
        "print(grad_function(params)[0])"
      ],
      "metadata": {
        "colab": {
          "base_uri": "https://localhost:8080/"
        },
        "id": "AN7KOIqFkjgP",
        "outputId": "74b559df-c90c-45dd-e2e2-7666cd66fe51"
      },
      "execution_count": 8,
      "outputs": [
        {
          "output_type": "stream",
          "name": "stdout",
          "text": [
            "-0.06518877224958125\n"
          ]
        }
      ]
    },
    {
      "cell_type": "markdown",
      "source": [
        "Alternatively, we can directly compute quantum gradients of QNodes using PennyLane’s built in `qml.gradients` module:"
      ],
      "metadata": {
        "id": "JjoYi68pk4Pm"
      }
    },
    {
      "cell_type": "code",
      "source": [
        "print(qml.gradients.param_shift(circuit)(params))"
      ],
      "metadata": {
        "colab": {
          "base_uri": "https://localhost:8080/"
        },
        "id": "vN2bnO2vk1GZ",
        "outputId": "8438c5b3-9c47-455b-b2a8-4922757231c2"
      },
      "execution_count": 9,
      "outputs": [
        {
          "output_type": "stream",
          "name": "stdout",
          "text": [
            "[-6.51887722e-02 -2.72891905e-02 -2.77555756e-17 -9.33934621e-02\n",
            " -7.61067572e-01  4.16333634e-17]\n"
          ]
        }
      ]
    },
    {
      "cell_type": "markdown",
      "source": [
        "If you count the number of quantum evaluations, you will notice that we had to evaluate the circuit 2*len(params) number of times in order to compute the quantum gradient with respect to all parameters. While reasonably fast for a small number of parameters, as the number of parameters in our quantum circuit grows, so does both\n",
        "\n",
        "1. the circuit depth (and thus the time taken to evaluate each expectation value or ‘forward’ pass), and\n",
        "\n",
        "2. the number of parameter-shift evaluations required.\n",
        "\n",
        "Both of these factors increase the time taken to compute the gradient with respect to all parameters.\n",
        "\n"
      ],
      "metadata": {
        "id": "975XzDkjlDrN"
      }
    },
    {
      "cell_type": "markdown",
      "source": [
        "## Benchmarking\n",
        "\n",
        "Let’s consider an example with a significantly larger number of parameters. We’ll make use of the `StronglyEntanglingLayers` template to make a more complicated QNode."
      ],
      "metadata": {
        "id": "8V5dsHzIlORa"
      }
    },
    {
      "cell_type": "code",
      "source": [
        "dev = qml.device(\"default.qubit\", wires=4)\n",
        "\n",
        "@qml.qnode(dev, diff_method=\"parameter-shift\")\n",
        "def circuit(params):\n",
        "    qml.StronglyEntanglingLayers(params, wires=[0, 1, 2, 3])\n",
        "    return qml.expval(qml.PauliZ(0) @ qml.PauliZ(1) @ qml.PauliZ(2) @ qml.PauliZ(3))\n",
        "\n",
        "# initialize circuit parameters\n",
        "param_shape = qml.StronglyEntanglingLayers.shape(n_wires=4, n_layers=15)\n",
        "params = np.random.normal(scale=0.1, size=param_shape, requires_grad=True)\n",
        "print(params.size)\n",
        "print(circuit(params))"
      ],
      "metadata": {
        "colab": {
          "base_uri": "https://localhost:8080/"
        },
        "id": "MMETuAGuk9Wj",
        "outputId": "4b21610f-0972-42ac-d96b-453b5694ad14"
      },
      "execution_count": 10,
      "outputs": [
        {
          "output_type": "stream",
          "name": "stdout",
          "text": [
            "180\n",
            "0.8947771876917631\n"
          ]
        }
      ]
    },
    {
      "cell_type": "markdown",
      "source": [
        "This circuit has 180 parameters. Let’s see how long it takes to perform a forward pass of the circuit."
      ],
      "metadata": {
        "id": "FYVEjrnBlj9P"
      }
    },
    {
      "cell_type": "code",
      "source": [
        "import timeit\n",
        "\n",
        "reps = 3\n",
        "num = 10\n",
        "times = timeit.repeat(\"circuit(params)\", globals=globals(), number=num, repeat=reps)\n",
        "forward_time = min(times) / num\n",
        "\n",
        "print(f\"Forward pass (best of {reps}): {forward_time} sec per loop\")"
      ],
      "metadata": {
        "colab": {
          "base_uri": "https://localhost:8080/"
        },
        "id": "0X8QEKxalaU3",
        "outputId": "8836c663-ba0f-435c-c08c-75c7376c009d"
      },
      "execution_count": 11,
      "outputs": [
        {
          "output_type": "stream",
          "name": "stdout",
          "text": [
            "Forward pass (best of 3): 0.04443310940000629 sec per loop\n"
          ]
        }
      ]
    },
    {
      "cell_type": "markdown",
      "source": [
        "We can now estimate the time taken to compute the full gradient vector, and see how this compares."
      ],
      "metadata": {
        "id": "t_vVYgS9ltiy"
      }
    },
    {
      "cell_type": "code",
      "source": [
        "# create the gradient function\n",
        "grad_fn = qml.grad(circuit)\n",
        "\n",
        "times = timeit.repeat(\"grad_fn(params)\", globals=globals(), number=num, repeat=reps)\n",
        "backward_time = min(times) / num\n",
        "\n",
        "print(f\"Gradient computation (best of {reps}): {backward_time} sec per loop\")"
      ],
      "metadata": {
        "colab": {
          "base_uri": "https://localhost:8080/"
        },
        "id": "hDG0YAoSloRk",
        "outputId": "5b6dd7c9-849b-402e-cbdc-3982e50a1144"
      },
      "execution_count": 12,
      "outputs": [
        {
          "output_type": "stream",
          "name": "stdout",
          "text": [
            "Gradient computation (best of 3): 13.353299238300007 sec per loop\n"
          ]
        }
      ]
    },
    {
      "cell_type": "markdown",
      "source": [
        "Based on the parameter-shift rule, we expect that the amount of time to compute the quantum gradients should be approximately $2pΔt_f$ where $p$ is the number of parameters and $Δt_f$ if the time taken for the forward pass. Let’s verify this:"
      ],
      "metadata": {
        "id": "G5mpQsbal7bT"
      }
    },
    {
      "cell_type": "code",
      "source": [
        "print(2 * forward_time * params.size)"
      ],
      "metadata": {
        "colab": {
          "base_uri": "https://localhost:8080/"
        },
        "id": "kYnTluq_lyhV",
        "outputId": "ac680292-11c0-4c55-f0da-e5aa68bc9934"
      },
      "execution_count": 13,
      "outputs": [
        {
          "output_type": "stream",
          "name": "stdout",
          "text": [
            "15.995919384002265\n"
          ]
        }
      ]
    },
    {
      "cell_type": "markdown",
      "source": [
        "## Backpropagation\n",
        "\n",
        "An alternative to the parameter-shift rule for computing gradients is reverse-mode autodifferentiation. Unlike the parameter-shift method, which requires $2p$ circuit evaluations for $p$ parameters, reverse-mode requires only a single forward pass of the differentiable function to compute the gradient of all variables, at the expense of increased memory usage. During the forward pass, the results of all intermediate subexpressions are stored; the computation is then traversed in reverse, with the gradient computed by repeatedly applying the chain rule. In most classical machine learning settings (where we are training scalar loss functions consisting of a large number of parameters), reverse-mode autodifferentiation is the preferred method of autodifferentiation—the reduction in computational time enables larger and more complex models to be successfully trained. The backpropagation algorithm is a particular special-case of reverse-mode autodifferentiation, which has helped lead to the machine learning explosion we see today.\n",
        "\n",
        "In quantum machine learning, however, the inability to store and utilize the results of intermediate quantum operations on hardware remains a barrier to using backprop; while reverse-mode autodifferentiation works fine for small quantum simulations, only the parameter-shift rule can be used to compute gradients on quantum hardware directly. Nevertheless, when training quantum models via classical simulation, it’s useful to explore the regimes where reverse-mode differentiation may be a better choice than the parameter-shift rule.\n"
      ],
      "metadata": {
        "id": "HVgmGSyrmI2_"
      }
    },
    {
      "cell_type": "markdown",
      "source": [
        "## Benchmarking\n",
        "\n",
        "When creating a QNode, PennyLane supports various methods of differentiation, including `\"parameter-shift\"` (which we used previously), `\"finite-diff\"`, `\"reversible\"`, and `\"backprop\"`. While `\"parameter-shift\"` works with all devices (simulator or hardware), `\"backprop\"` will only work for specific simulator devices that are designed to support backpropagation.\n",
        "\n",
        "One such device is default.qubit. It has backends written using TensorFlow, JAX, and Autograd, so when used with the TensorFlow, JAX, and Autograd interfaces respectively, supports backpropagation. In this demo, we will use the default Autograd interface."
      ],
      "metadata": {
        "id": "fBj-cVw5mgBv"
      }
    },
    {
      "cell_type": "code",
      "source": [
        "dev = qml.device(\"default.qubit\", wires=4)"
      ],
      "metadata": {
        "id": "h8RUd1UfmF5p"
      },
      "execution_count": 14,
      "outputs": []
    },
    {
      "cell_type": "markdown",
      "source": [
        "When defining the QNode, we specify `diff_method=\"backprop\"` to ensure that we are using backpropagation mode. Note that this is the default differentiation mode for the `default.qubit` device."
      ],
      "metadata": {
        "id": "gmTu_clNnHyQ"
      }
    },
    {
      "cell_type": "code",
      "source": [
        "@qml.qnode(dev, diff_method=\"backprop\")\n",
        "def circuit(params):\n",
        "    qml.StronglyEntanglingLayers(params, wires=[0, 1, 2, 3])\n",
        "    return qml.expval(qml.PauliZ(0) @ qml.PauliZ(1) @ qml.PauliZ(2) @ qml.PauliZ(3))\n",
        "\n",
        "# initialize circuit parameters\n",
        "param_shape = qml.StronglyEntanglingLayers.shape(n_wires=4, n_layers=15)\n",
        "params = np.random.normal(scale=0.1, size=param_shape, requires_grad=True)\n",
        "print(circuit(params))"
      ],
      "metadata": {
        "colab": {
          "base_uri": "https://localhost:8080/"
        },
        "id": "r-dIC7QJnFht",
        "outputId": "2106c78c-0ece-4c60-b1ab-bee417fda4ed"
      },
      "execution_count": 15,
      "outputs": [
        {
          "output_type": "stream",
          "name": "stdout",
          "text": [
            "0.9358535378025427\n"
          ]
        }
      ]
    },
    {
      "cell_type": "markdown",
      "source": [
        "Let’s see how long it takes to perform a forward pass of the circuit."
      ],
      "metadata": {
        "id": "NPp93gbzneCn"
      }
    },
    {
      "cell_type": "code",
      "source": [
        "import timeit\n",
        "\n",
        "reps = 3\n",
        "num = 10\n",
        "times = timeit.repeat(\"circuit(params)\", globals=globals(), number=num, repeat=reps)\n",
        "forward_time = min(times) / num\n",
        "print(f\"Forward pass (best of {reps}): {forward_time} sec per loop\")"
      ],
      "metadata": {
        "colab": {
          "base_uri": "https://localhost:8080/"
        },
        "id": "ffvsfOYInRxU",
        "outputId": "c81a474c-6027-42d0-fff3-b89a26ed7cd9"
      },
      "execution_count": 16,
      "outputs": [
        {
          "output_type": "stream",
          "name": "stdout",
          "text": [
            "Forward pass (best of 3): 0.08178746660000798 sec per loop\n"
          ]
        }
      ]
    },
    {
      "cell_type": "markdown",
      "source": [
        "Comparing this to the forward pass from `default.qubit`, we note that there is some potential overhead from using backpropagation. We can now time how long it takes to perform a gradient computation via backpropagation:"
      ],
      "metadata": {
        "id": "WiwSkNw1niKD"
      }
    },
    {
      "cell_type": "code",
      "source": [
        "times = timeit.repeat(\"qml.grad(circuit)(params)\", globals=globals(), number=num, repeat=reps)\n",
        "backward_time = min(times) / num\n",
        "print(f\"Backward pass (best of {reps}): {backward_time} sec per loop\")"
      ],
      "metadata": {
        "colab": {
          "base_uri": "https://localhost:8080/"
        },
        "id": "WW2B47ylndc8",
        "outputId": "496d917e-d510-4a26-b845-e19b78b645c1"
      },
      "execution_count": 17,
      "outputs": [
        {
          "output_type": "stream",
          "name": "stdout",
          "text": [
            "Backward pass (best of 3): 0.20334364399998323 sec per loop\n"
          ]
        }
      ]
    },
    {
      "cell_type": "markdown",
      "source": [
        "Unlike with the parameter-shift rule, the time taken to perform the backwards pass appears of the order of a single forward pass! The can significantly speed up training of simulated circuits with many parameters."
      ],
      "metadata": {
        "id": "Xx-LnD4AnsIO"
      }
    },
    {
      "cell_type": "markdown",
      "source": [
        "## Time Comparison\n",
        "\n",
        "Let’s compare the two differentiation approaches as the number of trainable parameters in the variational circuit increases, by timing both the forward pass and the gradient computation as the number of layers is allowed to increase.\n"
      ],
      "metadata": {
        "id": "--1iKEhenti9"
      }
    },
    {
      "cell_type": "code",
      "source": [
        "dev = qml.device(\"default.qubit\", wires=4)\n",
        "\n",
        "def circuit(params):\n",
        "    qml.StronglyEntanglingLayers(params, wires=[0, 1, 2, 3])\n",
        "    return qml.expval(qml.PauliZ(0) @ qml.PauliZ(1) @ qml.PauliZ(2) @ qml.PauliZ(3))"
      ],
      "metadata": {
        "id": "3SmH9QNYnoxW"
      },
      "execution_count": 18,
      "outputs": []
    },
    {
      "cell_type": "markdown",
      "source": [
        "We’ll continue to use the same ansatz as before, but to reduce the time taken to collect the data, we’ll reduce the number and repetitions of timings per data point. Below, we loop over a variational circuit depth ranging from 0 (no gates/ trainable parameters) to 20. Each layer will contain 3N parameters, where N is the number of wires (in this case, we have N=4)."
      ],
      "metadata": {
        "id": "nS7x-DhuoWID"
      }
    },
    {
      "cell_type": "code",
      "source": [
        "reps = 2\n",
        "num = 3\n",
        "\n",
        "forward_shift = []\n",
        "gradient_shift = []\n",
        "forward_backprop = []\n",
        "gradient_backprop = []\n",
        "\n",
        "for depth in range(0, 21):\n",
        "    param_shape = qml.StronglyEntanglingLayers.shape(n_wires=4, n_layers=depth)\n",
        "    params = np.random.normal(scale=0.1, size=param_shape, requires_grad=True)\n",
        "    num_params = params.size\n",
        "\n",
        "    # forward pass timing\n",
        "    # ===================\n",
        "\n",
        "    qnode_shift = qml.QNode(circuit, dev, diff_method=\"parameter-shift\")\n",
        "    qnode_backprop = qml.QNode(circuit, dev, diff_method=\"backprop\")\n",
        "\n",
        "    # parameter-shift\n",
        "    t = timeit.repeat(\"qnode_shift(params)\", globals=globals(), number=num, repeat=reps)\n",
        "    forward_shift.append([num_params, min(t) / num])\n",
        "\n",
        "    # backprop\n",
        "    t = timeit.repeat(\"qnode_backprop(params)\", globals=globals(), number=num, repeat=reps)\n",
        "    forward_backprop.append([num_params, min(t) / num])\n",
        "\n",
        "    if num_params == 0:\n",
        "        continue\n",
        "\n",
        "    # Gradient timing\n",
        "    # ===============\n",
        "\n",
        "    qnode_shift = qml.QNode(circuit, dev, diff_method=\"parameter-shift\")\n",
        "    qnode_backprop = qml.QNode(circuit, dev, diff_method=\"backprop\")\n",
        "\n",
        "    # parameter-shift\n",
        "    t = timeit.repeat(\"qml.grad(qnode_shift)(params)\", globals=globals(), number=num, repeat=reps)\n",
        "    gradient_shift.append([num_params, min(t) / num])\n",
        "\n",
        "    # backprop\n",
        "    t = timeit.repeat(\"qml.grad(qnode_backprop)(params)\", globals=globals(), number=num, repeat=reps)\n",
        "    gradient_backprop.append([num_params, min(t) / num])\n",
        "\n",
        "gradient_shift = np.array(gradient_shift).T\n",
        "gradient_backprop = np.array(gradient_backprop).T\n",
        "forward_shift = np.array(forward_shift).T\n",
        "forward_backprop = np.array(forward_backprop).T"
      ],
      "metadata": {
        "id": "ayVm-Ll_ny1X"
      },
      "execution_count": 19,
      "outputs": []
    },
    {
      "cell_type": "markdown",
      "source": [
        "We now import matplotlib, and plot the results\n"
      ],
      "metadata": {
        "id": "yh5GiSxgoddI"
      }
    },
    {
      "cell_type": "code",
      "source": [
        "plt.style.use(\"bmh\")\n",
        "\n",
        "fig, ax = plt.subplots(1, 1, figsize=(6, 4))\n",
        "\n",
        "ax.plot(*gradient_shift, '.-', label=\"Parameter-shift\")\n",
        "ax.plot(*gradient_backprop, '.-', label=\"Backprop\")\n",
        "ax.set_ylabel(\"Time (s)\")\n",
        "ax.set_xlabel(\"Number of parameters\")\n",
        "ax.legend()\n",
        "\n",
        "plt.show()"
      ],
      "metadata": {
        "colab": {
          "base_uri": "https://localhost:8080/",
          "height": 279
        },
        "id": "3Mav4u7OocWh",
        "outputId": "8827aa07-b524-40e1-88e4-b946550bbaee"
      },
      "execution_count": 20,
      "outputs": [
        {
          "output_type": "display_data",
          "data": {
            "text/plain": [
              "<Figure size 432x288 with 1 Axes>"
            ],
            "image/png": "[encoded data removed]"
          },
          "metadata": {
            "needs_background": "light"
          }
        }
      ]
    },
    {
      "cell_type": "markdown",
      "source": [
        "We can see that the computational time for the parameter-shift rule increases with increasing number of parameters, as expected, whereas the computational time for backpropagation appears much more constant, with perhaps a minute linear increase with p. Note that the plots are not perfectly linear, with some ‘bumpiness’ or noisiness. This is likely due to low-level operating system jitter, and other environmental fluctuations—increasing the number of repeats can help smooth out the plot.\n",
        "\n",
        "For a better comparison, we can scale the time required for computing the quantum gradients against the time taken for the corresponding forward pass:"
      ],
      "metadata": {
        "id": "YMY0ywgBoneA"
      }
    },
    {
      "cell_type": "code",
      "source": [
        "gradient_shift[1] /= forward_shift[1, 1:]\n",
        "gradient_backprop[1] /= forward_backprop[1, 1:]\n",
        "\n",
        "fig, ax = plt.subplots(1, 1, figsize=(6, 4))\n",
        "\n",
        "ax.plot(*gradient_shift, '.-', label=\"Parameter-shift\")\n",
        "ax.plot(*gradient_backprop, '.-', label=\"Backprop\")\n",
        "\n",
        "# perform a least squares regression to determine the linear best fit/gradient\n",
        "# for the normalized time vs. number of parameters\n",
        "x = gradient_shift[0]\n",
        "m_shift, c_shift = np.polyfit(*gradient_shift, deg=1)\n",
        "m_back, c_back = np.polyfit(*gradient_backprop, deg=1)\n",
        "\n",
        "ax.plot(x, m_shift * x + c_shift, '--', label=f\"{m_shift:.2f}p{c_shift:+.2f}\")\n",
        "ax.plot(x, m_back * x + c_back, '--', label=f\"{m_back:.2f}p{c_back:+.2f}\")\n",
        "\n",
        "ax.set_ylabel(\"Normalized time\")\n",
        "ax.set_xlabel(\"Number of parameters\")\n",
        "ax.set_xscale(\"log\")\n",
        "ax.set_yscale(\"log\")\n",
        "ax.legend()\n",
        "\n",
        "plt.show()"
      ],
      "metadata": {
        "colab": {
          "base_uri": "https://localhost:8080/",
          "height": 283
        },
        "id": "AW-DSZo1oisL",
        "outputId": "f45908bd-ae19-4ec2-cb63-39313898de24"
      },
      "execution_count": 21,
      "outputs": [
        {
          "output_type": "display_data",
          "data": {
            "text/plain": [
              "<Figure size 432x288 with 1 Axes>"
            ],
            "image/png": "[encoded data removed]"
          },
          "metadata": {
            "needs_background": "light"
          }
        }
      ]
    },
    {
      "cell_type": "markdown",
      "source": [
        "We can now see clearly that there is constant overhead for backpropagation with `default.qubit`, but the parameter-shift rule scales as `∼2p`."
      ],
      "metadata": {
        "id": "N0OHl1NZovmB"
      }
    }
  ]
}