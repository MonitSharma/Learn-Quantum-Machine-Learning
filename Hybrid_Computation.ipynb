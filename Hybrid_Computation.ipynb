{
  "cells": [
    {
      "cell_type": "markdown",
      "metadata": {
        "colab_type": "text",
        "id": "view-in-github"
      },
      "source": [
        "<a href=\"https://colab.research.google.com/github/MonitSharma/Learn-Quantum-Machine-Learning/blob/main/Hybrid_Computation.ipynb\" target=\"_parent\"><img src=\"https://colab.research.google.com/assets/colab-badge.svg\" alt=\"Open In Colab\"/></a>"
      ]
    },
    {
      "cell_type": "markdown",
      "metadata": {
        "id": "EvWVLt22zN-q"
      },
      "source": [
        "# Plugins and Hybrid Computation\n",
        "\n",
        "Here you'll be introduced to the notion of Hybrid Computation by combining several PennyLane plugins. Including [Strawberry Field Plugin](https://pennylane-sf.readthedocs.io/) which is used to explore a non-Gaussian photonic circuit. We combine this photonic circuit with a qubit circuit - along with some classical processing - to create and optimize a fully hybrid computation. \n",
        "\n",
        "-----\n",
        "\n",
        "\n",
        "Be sure to read through the introductory [qubit rotation](https://colab.research.google.com/github/MonitSharma/Learn-Quantum-Machine-Learning/blob/main/Qubit_Rotation.ipynb) and [Gaussian transformation](https://colab.research.google.com/github/MonitSharma/Learn-Quantum-Machine-Learning/blob/main/Gaussian_Transformation.ipynb) tutorials before going through with this one."
      ]
    },
    {
      "cell_type": "markdown",
      "metadata": {},
      "source": [
        "**Only Compatible with Pennylane Version $0.29$ or below**"
      ]
    },
    {
      "cell_type": "markdown",
      "metadata": {
        "id": "ePUxnjBLoPxb"
      },
      "source": [
        "\n",
        "\n",
        "This will require the `pennylane-SF` plugon, in order to access the Strawberry Fields Fock backend using Pennylane. You can install it via \n",
        "\n",
        "`pip install pennylane-sf`"
      ]
    },
    {
      "cell_type": "markdown",
      "metadata": {
        "id": "Xumb2nomopCl"
      },
      "source": [
        "## A Non-Gaussian Circuit\n",
        "\n",
        "We first consider a photonic circuit which is similar to the qubit rotation circuit:\n",
        "\n",
        "\n",
        "![alt text](https://pennylane.ai/qml/_images/photon_redirection.png)\n",
        "\n",
        "-------\n",
        "\n",
        "\n",
        "Breaking this down, step-by-steo\n",
        "\n",
        "2. **We start the computaion with two qumode subsystems** : In PennyLane, we use the shorthand ‘wires’ to refer to quantum subsystems, whether they are qumodes, qubits, or any other kind of quantum register.\n",
        "\n",
        "\n",
        "2. **Prepare the state $|1,0⟩$** : That is, the first wire (wire 0) is prepared in a single-photon state, while the second wire (wire 1) is prepared in the vacuum state. The former state is non-Gaussian, necessitating the use of the `'strawberryfields.fock'` backend device.\n",
        "\n",
        "\n",
        "3. **Bith wires are then incident on a beamsplitter** with free parameters $\\theta$ and $\\phi$. Here, we have the convention that the beam splitter transmission amplitudes is $t = \\cos \\theta$ , and the reflection amplitude is $r = e^{\\iota \\phi} \\sin \\theta$.\n",
        "\n",
        "4. **Finally, we measure the mean photon number** $\\langle n ⟩$ of the second wire, where $ n = a^{\\dagger} a$ is the number operator, acting on the Fock basis number states, such that $\\hat{n}\\left|n\\right\\rangle = n\\left|n\\right\\rangle$\n",
        "\n",
        "\n",
        "-------\n",
        "\n",
        "\n",
        "The aim of this tutorial is to optimize the beamsplitter parameters \n",
        "$(\n",
        "θ\n",
        ",\n",
        "ϕ\n",
        ")$\n",
        " such that the expected photon number of the second wire is **maximized**. Since the beamsplitter is a passive optical element that preserves the total photon number, this to the output state \n",
        "$|\n",
        "0\n",
        ",\n",
        "1\n",
        "⟩$\n",
        " — i.e., when the incident photon from the first wire has been ‘redirected’ to the second wire.\n",
        "\n",
        "\n",
        "\n",
        "\n",
        "  \n",
        "\n",
        "\n"
      ]
    },
    {
      "cell_type": "markdown",
      "metadata": {
        "id": "D89-r2etqRTJ"
      },
      "source": [
        "## Exact Calculations\n",
        "\n",
        "To compare with later numerical values, we can consider what happens analytically. The initial state of the circuit is $\\left|\\psi_0\\right\\rangle=\\left|1,0\\right\\rangle$ , and the output state of the system is of the form $\\left|\\psi\\right\\rangle = a\\left|1, 0\\right\\rangle + b\\left|0,1\\right\\rangle$ where $|a|^2+|b|^2=1$. We may thus write the output state as a vector in the computational basis, $\\left|\\psi\\right\\rangle = \\begin{bmatrix}a & b\\end{bmatrix}^T$\n",
        "\n",
        "------\n",
        "\n",
        "The beamsplitter acts on this two-dimensional subspace as follows:\n",
        "\n",
        "$$\\begin{split}\\left|\\psi\\right\\rangle = B(\\theta, \\phi)\\left|1, 0\\right\\rangle = \\begin{bmatrix}\n",
        "    \\cos\\theta & -e^{-i\\phi}\\sin\\theta\\\\\n",
        "    e^{i\\phi}\\sin\\theta & \\cos\\theta\n",
        "\\end{bmatrix}\\begin{bmatrix} 1\\\\ 0\\end{bmatrix} = \\begin{bmatrix}\n",
        "    \\cos\\theta\\\\\n",
        "    e^{i\\phi} \\sin\\theta\n",
        "\\end{bmatrix}\\end{split}$$\n",
        "\n",
        "Furthermore, the mean photon number of the second wire is ⁉\n",
        "$$\\left\\langle{\\hat{n}_1}\\right\\rangle = \\langle{\\psi}\\mid{\\hat{n}_1}\\mid{\\psi}\\rangle = |e^{i\\phi} \\sin\\theta|^2\n",
        "\\langle{0,1}\\mid{\\hat{n}_1}\\mid{0,1}\\rangle = \\sin^2 \\theta.$$\n",
        "\n",
        "\n",
        "Therefore, we can see that:\n",
        "\n",
        "1. $0\\leq \\left\\langle \\hat{n}_1\\right\\rangle\\leq 1$ : the output of the quantum circuit is bounded between $0$ and $1$\n",
        "\n",
        "2. $\\frac{\\partial}{\\partial \\phi} \\left\\langle \\hat{n}_1\\right\\rangle=0$ : the output of the quantum circuit is independent of the beamsplitter phase $\\phi$\n",
        "\n",
        "3. The output of the quantum circuit above is maximized when $\\theta=(2m+1)\\pi/2$ for $m\\in\\mathbb{Z}_0$\n",
        "\n",
        "\n",
        "\n",
        "\n",
        "\n"
      ]
    },
    {
      "cell_type": "markdown",
      "metadata": {
        "id": "nTKkmn1uraWW"
      },
      "source": [
        "## Loading the plugin device\n",
        "\n",
        "While PennyLane provides a basic qubit simulator (`'default.qubit'`) and a basic CV Gaussian simulator (`'default.gaussian'`), the true power of PennyLane comes from its plugin ecosystem, allowing quantum computations to be run on a variety of quantum simulator and hardware devices.\n",
        "\n",
        "For this circuit, we will be using the `'strawberryfields.fock'` device to construct a QNode. This allows the underlying quantum computation to be performed using the Strawberry Fields Fock backend.\n",
        "\n",
        "As usual, we begin by importing PennyLane and the wrapped version of NumPy provided by PennyLane"
      ]
    },
    {
      "cell_type": "code",
      "execution_count": 3,
      "metadata": {
        "id": "NbtTfCqxolZE"
      },
      "outputs": [],
      "source": [
        "import pennylane as qml\n",
        "from pennylane import numpy as np"
      ]
    },
    {
      "cell_type": "markdown",
      "metadata": {
        "id": "pkkWXqAqro1I"
      },
      "source": [
        "Next, we create a device to run the quantum node. This is easy in PennyLane; as soon as the PennyLane-SF plugin is installed, the `'strawberryfields.fock'` device can be loaded — no additional commands or library imports required."
      ]
    },
    {
      "cell_type": "code",
      "execution_count": 4,
      "metadata": {
        "id": "OkWIcXROrm7L"
      },
      "outputs": [],
      "source": [
        "dev_fock = qml.device(\"strawberryfields.fock\", wires=2, cutoff_dim=2)"
      ]
    },
    {
      "cell_type": "markdown",
      "metadata": {
        "id": "NkGTd2Z5ruRk"
      },
      "source": [
        "Compared to the default devices provided with PennyLane, the `'strawberryfields.fock'` device requires the additional keyword argument:\n",
        "\n",
        "*  `cutoff_dim` : the Fock space trunction used to perform the quantum simulation"
      ]
    },
    {
      "cell_type": "markdown",
      "metadata": {
        "id": "ktDU4b0Qr4zT"
      },
      "source": [
        "## Constructing the QNode\n",
        "\n",
        "Now that we have initialized the device, we can construct our quantum node. Like the other tutorials, we use the `qnode` decorator to convert our quantum function (encoded by the circuit above) into a quantum node running on Strawberry Fields."
      ]
    },
    {
      "cell_type": "code",
      "execution_count": 5,
      "metadata": {
        "id": "R3sAFDy_rski"
      },
      "outputs": [],
      "source": [
        "@qml.qnode(dev_fock, diff_method=\"parameter-shift\")\n",
        "def photon_redirection(params):\n",
        "    qml.FockState(1, wires=0)\n",
        "    qml.Beamsplitter(params[0], params[1], wires=[0, 1])\n",
        "    return qml.expval(qml.NumberOperator(1))"
      ]
    },
    {
      "cell_type": "markdown",
      "metadata": {
        "id": "AsJ9N58dsAb3"
      },
      "source": [
        "The `'strawberryfields.fock'` device supports all CV objects provided by PennyLane"
      ]
    },
    {
      "cell_type": "markdown",
      "metadata": {
        "id": "hmCaKvEasEq-"
      },
      "source": [
        "## Optimization\n",
        "\n",
        "Let’s now use one of the built-in PennyLane optimizers in order to carry out photon redirection. Since we wish to maximize the mean photon number of the second wire, we can define our cost function to minimize the negative of the circuit output."
      ]
    },
    {
      "cell_type": "code",
      "execution_count": 6,
      "metadata": {
        "id": "-0_4M0o3r_zs"
      },
      "outputs": [],
      "source": [
        "def cost(params):\n",
        "    return -photon_redirection(params)"
      ]
    },
    {
      "cell_type": "markdown",
      "metadata": {
        "id": "aoQnL2l0sKQ9"
      },
      "source": [
        "To begin our optimization, let’s choose the following small initial values of \n",
        "$θ$\n",
        " and \n",
        "$ϕ$\n",
        ":"
      ]
    },
    {
      "cell_type": "code",
      "execution_count": 7,
      "metadata": {
        "colab": {
          "base_uri": "https://localhost:8080/"
        },
        "id": "QsFqCx7UsI5I",
        "outputId": "a0ada891-c7e4-446c-a312-b952e7809149"
      },
      "outputs": [
        {
          "name": "stdout",
          "output_type": "stream",
          "text": [
            "-9.999666671111081e-05\n"
          ]
        }
      ],
      "source": [
        "init_params = np.array([0.01, 0.01], requires_grad=True)\n",
        "print(cost(init_params))"
      ]
    },
    {
      "cell_type": "markdown",
      "metadata": {
        "id": "hSLjDu2ysQWI"
      },
      "source": [
        "Here, we choose the values of $\\theta$ and $\\phi$ to be very close to zero, this results in $B(\\theta, \\phi) \\sim I$, and the output of the quantum circuit will be very close to $\\left|1, 0\\right\\rangle$ -i.e , the circuit leaves the photons in the first mode.\n",
        "\n",
        "\n",
        "Why don't we choose $\\theta = 0$ and $\\phi = 0$?\n",
        "\n",
        "\n",
        "At this point in the parameter space $\\left\\langle \\hat{n}_1\\right\\rangle = 0$ and $\\frac{d}{d\\theta}\\left\\langle{\\hat{n}_1}\\right\\rangle|_{\\theta=0}=2\\sin\\theta\\cos\\theta|_{\\theta=0}=0$. \n",
        "Since the gradient is zero at those initial parameter values, the optimization algorithm would never descend from the maximum.\n",
        "\n",
        "\n",
        "This can also be verified directly using PennyLane:"
      ]
    },
    {
      "cell_type": "code",
      "execution_count": 8,
      "metadata": {
        "colab": {
          "base_uri": "https://localhost:8080/"
        },
        "id": "ypIQrjJ7sOSH",
        "outputId": "0305a256-0b3c-4285-d558-55f925f44c2c"
      },
      "outputs": [
        {
          "name": "stdout",
          "output_type": "stream",
          "text": [
            "[array(0.), array(0.)]\n"
          ]
        }
      ],
      "source": [
        "dphoton_redirection = qml.grad(photon_redirection, argnum=0)\n",
        "print(dphoton_redirection([0.0, 0.0]))"
      ]
    },
    {
      "cell_type": "markdown",
      "metadata": {
        "id": "l6jyfS3JtEp5"
      },
      "source": [
        "Now, let’s use the `GradientDescentOptimizer`, and update the circuit parameters over $100$ optimization steps"
      ]
    },
    {
      "cell_type": "code",
      "execution_count": 9,
      "metadata": {
        "colab": {
          "base_uri": "https://localhost:8080/"
        },
        "id": "n226G7ydtDMN",
        "outputId": "92f7ef4a-ec52-4940-c4ac-8aabc2121fb1"
      },
      "outputs": [
        {
          "name": "stdout",
          "output_type": "stream",
          "text": [
            "Cost after step     5: -0.0349558\n",
            "Cost after step    10: -0.9969017\n",
            "Cost after step    15: -1.0000000\n",
            "Cost after step    20: -1.0000000\n",
            "Cost after step    25: -1.0000000\n",
            "Cost after step    30: -1.0000000\n",
            "Cost after step    35: -1.0000000\n",
            "Cost after step    40: -1.0000000\n",
            "Cost after step    45: -1.0000000\n",
            "Cost after step    50: -1.0000000\n",
            "Cost after step    55: -1.0000000\n",
            "Cost after step    60: -1.0000000\n",
            "Cost after step    65: -1.0000000\n",
            "Cost after step    70: -1.0000000\n",
            "Cost after step    75: -1.0000000\n",
            "Cost after step    80: -1.0000000\n",
            "Cost after step    85: -1.0000000\n",
            "Cost after step    90: -1.0000000\n",
            "Cost after step    95: -1.0000000\n",
            "Cost after step   100: -1.0000000\n",
            "Optimized rotation angles: [1.57079633 0.01      ]\n"
          ]
        }
      ],
      "source": [
        "# initialise the optimizer\n",
        "opt = qml.GradientDescentOptimizer(stepsize=0.4)\n",
        "\n",
        "# set the number of steps\n",
        "steps = 100\n",
        "# set the initial parameter values\n",
        "params = init_params\n",
        "\n",
        "for i in range(steps):\n",
        "    # update the circuit parameters\n",
        "    params = opt.step(cost, params)\n",
        "\n",
        "    if (i + 1) % 5 == 0:\n",
        "        print(\"Cost after step {:5d}: {: .7f}\".format(i + 1, cost(params)))\n",
        "\n",
        "print(\"Optimized rotation angles: {}\".format(params))"
      ]
    },
    {
      "cell_type": "markdown",
      "metadata": {
        "id": "0APjrVEMtNMo"
      },
      "source": [
        "Comparing this to the exact calculation above, this is close to the optimum value of $θ\n",
        "=\n",
        "π\n",
        "/\n",
        "2$\n",
        ", while the value of \n",
        "$ϕ$\n",
        " has not changed — consistent with the fact that \n",
        "$\\left\\langle \\hat{n}_1\\right\\rangle$\n",
        " is independent of \n",
        "$ϕ$\n",
        "."
      ]
    },
    {
      "cell_type": "markdown",
      "metadata": {
        "id": "VaSlVmKwtVHe"
      },
      "source": [
        "## Hybrid Computation\n",
        "\n",
        "\n",
        "To really highlight the capabilities of PennyLane, let’s now combine the qubit-rotation QNode from the qubit rotation tutorial with the CV photon-redirection QNode from above, as well as some classical processing, to produce a truly hybrid computational model.\n",
        "\n",
        "First, we define a computation consisting of three steps: two quantum nodes (the qubit rotation and photon redirection circuits, running on the `'default.qubit'` and `'strawberryfields.fock'` devices, respectively), along with a classical function, that simply returns the squared difference of its two inputs using NumPy:\n"
      ]
    },
    {
      "cell_type": "code",
      "execution_count": 10,
      "metadata": {
        "id": "qaXG0949tJlB"
      },
      "outputs": [],
      "source": [
        "# create the devices\n",
        "dev_qubit = qml.device(\"default.qubit\", wires=1)\n",
        "dev_fock = qml.device(\"strawberryfields.fock\", wires=2, cutoff_dim=10)\n",
        "\n",
        "\n",
        "@qml.qnode(dev_qubit)\n",
        "def qubit_rotation(phi1, phi2):\n",
        "    \"\"\"Qubit rotation QNode\"\"\"\n",
        "    qml.RX(phi1, wires=0)\n",
        "    qml.RY(phi2, wires=0)\n",
        "    return qml.expval(qml.PauliZ(0))\n",
        "\n",
        "\n",
        "@qml.qnode(dev_fock, diff_method=\"parameter-shift\")\n",
        "def photon_redirection(params):\n",
        "    \"\"\"The photon redirection QNode\"\"\"\n",
        "    qml.FockState(1, wires=0)\n",
        "    qml.Beamsplitter(params[0], params[1], wires=[0, 1])\n",
        "    return qml.expval(qml.NumberOperator(1))\n",
        "\n",
        "\n",
        "def squared_difference(x, y):\n",
        "    \"\"\"Classical node to compute the squared\n",
        "    difference between two inputs\"\"\"\n",
        "    return np.abs(x - y) ** 2"
      ]
    },
    {
      "cell_type": "markdown",
      "metadata": {
        "id": "kggEcb6Btgji"
      },
      "source": [
        "Now, we can define an objective function associated with the optimization, linking together our three subcomponents. Here, we wish to perform the following hybrid quantum-classical optimization:\n",
        "\n",
        "\n",
        "\n",
        "![alt text](https://pennylane.ai/qml/_images/hybrid_graph.png)\n",
        "\n",
        "\n",
        "\n",
        "\n",
        "\n",
        "1. The qubit-rotation circuit will contain fixed rotation angles $ϕ_1$\n",
        " and \n",
        "$ϕ_2$.\n",
        "\n",
        "2. The photon-redirection circuit will contain two free parameters, the beamsplitter angles \n",
        "$θ$\n",
        " and \n",
        "$ϕ$\n",
        ", which are to be optimized.\n",
        "\n",
        "\n",
        "3.  The outputs of both QNodes will then be fed into the classical node, returning the squared difference of the two quantum functions.\n",
        "\n",
        "4. Finally, the optimizer will calculate the gradient of the entire computation with respect to the free parameters \n",
        "$θ$\n",
        " and \n",
        "$ϕ$\n",
        ", and update their values\n",
        "\n",
        "\n",
        "In essence, we are optimizing the photon-redirection circuit to return the **same expectation value** as the qubit-rotation circuit, even though they are two completely independent quantum systems.\n",
        "\n",
        "\n",
        "We can translate this computational graph to the following function, which combines the three nodes into a single hybrid computation. Below, we choose default values $ϕ_1=0.5\n",
        ", \n",
        "ϕ_\n",
        "2\n",
        "=\n",
        "0.1\n",
        "$:\n",
        "\n",
        "\n",
        "\n"
      ]
    },
    {
      "cell_type": "code",
      "execution_count": 11,
      "metadata": {
        "id": "kg2ceRpcte0B"
      },
      "outputs": [],
      "source": [
        "def cost(params, phi1=0.5, phi2=0.1):\n",
        "    \"\"\"Returns the squared difference between\n",
        "    the photon-redirection and qubit-rotation QNodes, for\n",
        "    fixed values of the qubit rotation angles phi1 and phi2\"\"\"\n",
        "    qubit_result = qubit_rotation(phi1, phi2)\n",
        "    photon_result = photon_redirection(params)\n",
        "    return squared_difference(qubit_result, photon_result)"
      ]
    },
    {
      "cell_type": "markdown",
      "metadata": {
        "id": "avlZ9l2WuBtQ"
      },
      "source": [
        "Now, we use the built-in GradientDescentOptimizer to perform the optimization for $100$ steps. As before, we choose initial beamsplitter parameters of \n",
        "$θ\n",
        "=\n",
        "0.01\n",
        ", \n",
        "ϕ\n",
        "=\n",
        "0.01\n",
        "$."
      ]
    },
    {
      "cell_type": "code",
      "execution_count": 12,
      "metadata": {
        "colab": {
          "base_uri": "https://localhost:8080/"
        },
        "id": "cEm--OpNuAMY",
        "outputId": "744e42b5-3024-49f1-ac99-da53deb80091"
      },
      "outputs": [
        {
          "name": "stdout",
          "output_type": "stream",
          "text": [
            "Cost after step     5:  0.2154539\n",
            "Cost after step    10:  0.0000982\n",
            "Cost after step    15:  0.0000011\n",
            "Cost after step    20:  0.0000000\n",
            "Cost after step    25:  0.0000000\n",
            "Cost after step    30:  0.0000000\n",
            "Cost after step    35:  0.0000000\n",
            "Cost after step    40:  0.0000000\n",
            "Cost after step    45:  0.0000000\n",
            "Cost after step    50:  0.0000000\n",
            "Cost after step    55:  0.0000000\n",
            "Cost after step    60:  0.0000000\n",
            "Cost after step    65:  0.0000000\n",
            "Cost after step    70:  0.0000000\n",
            "Cost after step    75:  0.0000000\n",
            "Cost after step    80:  0.0000000\n",
            "Cost after step    85:  0.0000000\n",
            "Cost after step    90:  0.0000000\n",
            "Cost after step    95:  0.0000000\n",
            "Cost after step   100:  0.0000000\n",
            "Optimized rotation angles: [1.20671364 0.01      ]\n"
          ]
        }
      ],
      "source": [
        "# initialise the optimizer\n",
        "opt = qml.GradientDescentOptimizer(stepsize=0.4)\n",
        "\n",
        "# set the number of steps\n",
        "steps = 100\n",
        "# set the initial parameter values\n",
        "params = np.array([0.01, 0.01], requires_grad=True)\n",
        "\n",
        "for i in range(steps):\n",
        "    # update the circuit parameters\n",
        "    params = opt.step(cost, params)\n",
        "\n",
        "    if (i + 1) % 5 == 0:\n",
        "        print(\"Cost after step {:5d}: {: .7f}\".format(i + 1, cost(params)))\n",
        "\n",
        "print(\"Optimized rotation angles: {}\".format(params))\n"
      ]
    },
    {
      "cell_type": "markdown",
      "metadata": {
        "id": "3cQsnLZmuLT1"
      },
      "source": [
        "Substituting this into the photon redirection QNode shows that it now produces the same output as the qubit rotation QNode:"
      ]
    },
    {
      "cell_type": "code",
      "execution_count": 13,
      "metadata": {
        "colab": {
          "base_uri": "https://localhost:8080/"
        },
        "id": "o0uGkg2auIsF",
        "outputId": "351170fe-520c-48ee-9430-28c730e3162c"
      },
      "outputs": [
        {
          "name": "stdout",
          "output_type": "stream",
          "text": [
            "0.8731983021146449\n",
            "0.8731983044562817\n"
          ]
        }
      ],
      "source": [
        "result = [1.20671364, 0.01]\n",
        "print(photon_redirection(result))\n",
        "print(qubit_rotation(0.5, 0.1))"
      ]
    },
    {
      "cell_type": "markdown",
      "metadata": {
        "id": "hTrDAM2nuPnT"
      },
      "source": [
        "This is just a simple example of the kind of hybrid computation that can be carried out in PennyLane. Quantum nodes (bound to different devices) and classical functions can be combined in many different and interesting ways."
      ]
    }
  ],
  "metadata": {
    "colab": {
      "authorship_tag": "ABX9TyM9UE2Mc61HUiOK+73FZsQk",
      "include_colab_link": true,
      "provenance": []
    },
    "kernelspec": {
      "display_name": "Python 3",
      "name": "python3"
    },
    "language_info": {
      "name": "python",
      "version": "3.12.2"
    }
  },
  "nbformat": 4,
  "nbformat_minor": 0
}
