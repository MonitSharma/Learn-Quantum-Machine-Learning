{
  "cells": [
    {
      "cell_type": "markdown",
      "metadata": {
        "colab_type": "text",
        "id": "view-in-github"
      },
      "source": [
        "<a href=\"https://colab.research.google.com/github/MonitSharma/Learn-Quantum-Machine-Learning/blob/main/Gaussian_Transformation.ipynb\" target=\"_parent\"><img src=\"https://colab.research.google.com/assets/colab-badge.svg\" alt=\"Open In Colab\"/></a>"
      ]
    },
    {
      "cell_type": "markdown",
      "metadata": {
        "id": "Wo8gh7fA0CM9"
      },
      "source": [
        "# Gaussian Transformation\n",
        "\n",
        "Here we'll learn about the basic principles of continuous variable (CV) photonic devices.\n",
        "\n",
        "\n",
        "Read [this](https://strawberryfields.readthedocs.io/en/latest/) documentation to learn more on it."
      ]
    },
    {
      "cell_type": "markdown",
      "metadata": {
        "id": "b2cDyZU00Uzh"
      },
      "source": [
        "## The quantum circuit\n",
        "----\n",
        "\n",
        "For this basic tutorial, we will consider a special subset of CV operations: the Gaussian transformations. We work with the following simple Gaussian circuit:\n",
        "\n",
        "\n",
        "![alt text](https://pennylane.ai/qml/_images/gaussian_transformation.svg)\n",
        "\n",
        "\n",
        "What is this circuit doing?\n",
        "\n",
        "1. **We begin with one wire in the vaccum state** : Note that we use the same notation $|0⟩$ for the initial states. In a photonic CV system, this state is the *vaccum state* i.e a state with no photons in the wire.\n",
        "\n",
        "\n",
        "2. **We displace the wire(qumode)** : The displacement gate linearly shifts the state of the qumode in phase space. The vacuum state is centered at the origin in phase space, while the displaced state will be centered at the point $α$.\n",
        "\n",
        "3. **We rotate the qumode** : This is another linear transformation in phase space, albeit a rotation (by angle $ϕ$) instead of a displacement.\n",
        "\n",
        "4. **Finally, we measure the mean photon number** : $\\langle\\hat{n}\\rangle =\n",
        "\\langle\\hat{a}^\\dagger \\hat{a}\\rangle$ This quantity, which tells us the average amount of photons in the final state, is proportional to the energy of the photonic system.\n",
        "\n",
        "\n",
        "\n",
        "\n",
        "\n",
        "\n",
        "\n",
        "----\n",
        "Our aim here is to optimize the circuit parameters $(\\alpha, \\phi)$ such that the mean photon number is equal to one. The rotating gate is actually a *passive transformation*, meaning that it does not change the energy of the system. The displacement gate is an *active transformation*, which modifies the energy of the photonic system."
      ]
    },
    {
      "cell_type": "markdown",
      "metadata": {
        "id": "v1rphGsv17TA"
      },
      "source": [
        "## Constructing the QNode\n",
        "\n",
        "Import Pennylane and NumPy"
      ]
    },
    {
      "cell_type": "code",
      "execution_count": 1,
      "metadata": {
        "id": "X5PQCKxW0fv1"
      },
      "outputs": [],
      "source": [
        "import pennylane as qml\n",
        "from pennylane import numpy as np"
      ]
    },
    {
      "cell_type": "markdown",
      "metadata": {
        "id": "fIqx_6Ve2D1Y"
      },
      "source": [
        "Next, we instantiate a device which will be used to evaluate the circuit. Because our circuit contains only Gaussian operations, we can make use of the built-in `default.gaussian` device."
      ]
    },
    {
      "cell_type": "code",
      "execution_count": 2,
      "metadata": {
        "id": "oeoFDYCd2BYe"
      },
      "outputs": [],
      "source": [
        "dev_gaussian = qml.device(\"default.gaussian\", wires=1)"
      ]
    },
    {
      "cell_type": "markdown",
      "metadata": {
        "id": "aRy5muAV2LHr"
      },
      "source": [
        "After initializing the device, we can construct our quantum node. As before, we use the `qnode()` to convert our quantum function (encoded by the circuit above) into a quantum node running on the `default.gaussian` device."
      ]
    },
    {
      "cell_type": "code",
      "execution_count": 3,
      "metadata": {
        "id": "WeTUdD1w2JVo"
      },
      "outputs": [],
      "source": [
        "@qml.qnode(dev_gaussian)\n",
        "def mean_photon_gaussian(mag_alpha, phase_alpha, phi):\n",
        "    qml.Displacement(mag_alpha, phase_alpha, wires=0)\n",
        "    qml.Rotation(phi, wires=0)\n",
        "    return qml.expval(qml.NumberOperator(0))"
      ]
    },
    {
      "cell_type": "markdown",
      "metadata": {
        "id": "W2H_pYWr2TC5"
      },
      "source": [
        "Notice that we have broken up the complex number $α$\n",
        " into two real numbers `mag_alpha` and `phase_alpha`, which form a polar representation of $α$\n",
        ". This is so that the notion of a gradient is clear and well-defined."
      ]
    },
    {
      "cell_type": "markdown",
      "metadata": {
        "id": "G2SWZbav2ZcG"
      },
      "source": [
        "## Optimization\n",
        "\n",
        "As in the [qubit rotation](https://colab.research.google.com/github/MonitSharma/Learn-Quantum-Machine-Learning/blob/main/Qubit_Rotation.ipynb) tutorial, let’s now use one of the built-in PennyLane optimizers in order to optimize the quantum circuit towards the desired output. We want the mean photon number to be exactly one, so we will use a squared-difference cost function:"
      ]
    },
    {
      "cell_type": "code",
      "execution_count": 4,
      "metadata": {
        "id": "K9bFyeE52RNr"
      },
      "outputs": [],
      "source": [
        "def cost(params):\n",
        "    return (mean_photon_gaussian(params[0], params[1], params[2]) - 1.0) ** 2\n"
      ]
    },
    {
      "cell_type": "markdown",
      "metadata": {
        "id": "MtuCyrtk2mYZ"
      },
      "source": [
        "At the beginning of the optimization, we choose arbitrary small initial parameters:"
      ]
    },
    {
      "cell_type": "code",
      "execution_count": 5,
      "metadata": {
        "colab": {
          "base_uri": "https://localhost:8080/"
        },
        "id": "Q4d1C6dw2kcT",
        "outputId": "a0c748c6-9618-4036-8140-c368c6056f8c"
      },
      "outputs": [
        {
          "name": "stdout",
          "output_type": "stream",
          "text": [
            "0.9995500506249999\n"
          ]
        }
      ],
      "source": [
        "init_params = np.array([0.015, 0.02, 0.005], requires_grad=True)\n",
        "print(cost(init_params))"
      ]
    },
    {
      "cell_type": "markdown",
      "metadata": {
        "id": "V6ngLFOe2qxz"
      },
      "source": [
        "When the gate parameters are near to zero, the gates are close to the identity transformation, which leaves the initial state largely unchanged. Since the initial state contains no photons, the mean photon number of the circuit output is approximately zero, and the cost is close to one.\n",
        "\n",
        "-----\n",
        "We avoided initial parameters which are exactly zero because that corresponds to a critical point with zero gradient.\n",
        "\n",
        "-------\n",
        "\n",
        "Now, let’s use the `GradientDescentOptimizer`, and update the circuit parameters over 100 optimization steps.\n",
        "\n",
        "\n"
      ]
    },
    {
      "cell_type": "code",
      "execution_count": 6,
      "metadata": {
        "colab": {
          "base_uri": "https://localhost:8080/"
        },
        "id": "h5Wi_2AA2olc",
        "outputId": "3c61c917-2ae0-42c9-92ff-70d4eb64538c"
      },
      "outputs": [
        {
          "name": "stdout",
          "output_type": "stream",
          "text": [
            "Cost after step     1: 0.999118\n",
            "Cost after step     2: 0.998273\n",
            "Cost after step     3: 0.996618\n",
            "Cost after step     4: 0.993382\n",
            "Cost after step     5: 0.987074\n",
            "Cost after step     6: 0.974837\n",
            "Cost after step     7: 0.951332\n",
            "Cost after step     8: 0.907043\n",
            "Cost after step     9: 0.826649\n",
            "Cost after step    10: 0.690812\n",
            "Cost after step    11: 0.490303\n",
            "Cost after step    12: 0.258845\n",
            "Cost after step    13: 0.083224\n",
            "Cost after step    14: 0.013179\n",
            "Cost after step    15: 0.001001\n",
            "Cost after step    16: 0.000049\n",
            "Cost after step    17: 0.000002\n",
            "Cost after step    18: 0.000000\n",
            "Cost after step    19: 0.000000\n",
            "Cost after step    20: 0.000000\n",
            "Optimized mag_alpha:0.999994\n",
            "Optimized phase_alpha:0.020000\n",
            "Optimized phi:0.005000\n"
          ]
        }
      ],
      "source": [
        "# initialise the optimizer\n",
        "opt = qml.GradientDescentOptimizer(stepsize=0.1)\n",
        "\n",
        "# set the number of steps\n",
        "steps = 20\n",
        "# set the initial parameter values\n",
        "params = init_params\n",
        "\n",
        "for i in range(steps):\n",
        "    # update the circuit parameters\n",
        "    params = opt.step(cost, params)\n",
        "\n",
        "    print(\"Cost after step {:5d}: {:8f}\".format(i + 1, cost(params)))\n",
        "\n",
        "print(\"Optimized mag_alpha:{:8f}\".format(params[0]))\n",
        "print(\"Optimized phase_alpha:{:8f}\".format(params[1]))\n",
        "print(\"Optimized phi:{:8f}\".format(params[2]))"
      ]
    },
    {
      "cell_type": "markdown",
      "metadata": {
        "id": "EFN1mc8824HM"
      },
      "source": [
        "The optimization converges after about 20 steps to a cost function value of zero.\n",
        "\n",
        "We observe that the two angular parameters phase_alpha and phi do not change during the optimization. Only the magnitude of the complex displacement $|α|$ affects the mean photon number of the circuit.\n",
        "\n",
        "\n",
        "Next we will learn how to utilize the extensive plugin ecosystem of Pennylane, build continuous variable quantum nodes."
      ]
    }
  ],
  "metadata": {
    "colab": {
      "authorship_tag": "ABX9TyOXzUywhEI6EA0KtJqWmdod",
      "include_colab_link": true,
      "provenance": []
    },
    "kernelspec": {
      "display_name": "Python 3",
      "name": "python3"
    },
    "language_info": {
      "codemirror_mode": {
        "name": "ipython",
        "version": 3
      },
      "file_extension": ".py",
      "mimetype": "text/x-python",
      "name": "python",
      "nbconvert_exporter": "python",
      "pygments_lexer": "ipython3",
      "version": "3.12.2"
    }
  },
  "nbformat": 4,
  "nbformat_minor": 0
}
