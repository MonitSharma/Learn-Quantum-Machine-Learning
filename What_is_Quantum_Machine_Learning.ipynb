{
  "nbformat": 4,
  "nbformat_minor": 0,
  "metadata": {
    "colab": {
      "provenance": [],
      "authorship_tag": "ABX9TyMsDU5+w5JKL9UCFjNhoxkh",
      "include_colab_link": true
    },
    "kernelspec": {
      "name": "python3",
      "display_name": "Python 3"
    },
    "language_info": {
      "name": "python"
    }
  },
  "cells": [
    {
      "cell_type": "markdown",
      "metadata": {
        "id": "view-in-github",
        "colab_type": "text"
      },
      "source": [
        "<a href=\"https://colab.research.google.com/github/MonitSharma/Learn-Quantum-Machine-Learning/blob/main/What_is_Quantum_Machine_Learning.ipynb\" target=\"_parent\"><img src=\"https://colab.research.google.com/assets/colab-badge.svg\" alt=\"Open In Colab\"/></a>"
      ]
    },
    {
      "cell_type": "markdown",
      "source": [
        "# What is Quantum Machine Learning?"
      ],
      "metadata": {
        "id": "1E4Vn0jWPWUM"
      }
    },
    {
      "cell_type": "markdown",
      "source": [
        "Quantum machine learning is a research area that **explores the interplay of ideas from quantum computing and machine learning**\n",
        "\n",
        "For example, we might want to find out whether quantum computers can speed up the time it takes to train or evaluate a machine learning model. On the other hand, we can leverage techniques from machine learning to help us uncover quantum error-correcting codes, estimate the properties of quantum systems, or develop new quantum algorithms."
      ],
      "metadata": {
        "id": "wQx6GC9DPZxj"
      }
    },
    {
      "cell_type": "markdown",
      "source": [
        "## Quantum Computers as AI accelarators\n",
        "\n",
        "The limits of what machines can learn have always been defined by the computer hardware we run our algorithms on—for example, the success of modern-day deep learning with neural networks is enabled by parallel GPU clusters.\n",
        "\n",
        "**Quantum machine learning extends the pool of hardware for machine learning by an entirely new type of computing device—the quantum computer.** Information processing with quantum computers relies on substantially different laws of physics known as quantum theory.\n"
      ],
      "metadata": {
        "id": "Ra8A9zg0PqlA"
      }
    },
    {
      "cell_type": "markdown",
      "source": [
        "![alt text](https://pennylane.ai/qml/_images/gpu_to_qpu.png)\n"
      ],
      "metadata": {
        "id": "_avoabvQP3Qs"
      }
    },
    {
      "cell_type": "markdown",
      "source": [
        "## Machine Learning on near-term quantum devices\n",
        "\n",
        "![alt text](https://pennylane.ai/qml/_images/quantum_devices_ai.png)\n",
        "\n",
        "\n",
        "\n",
        "Some research focuses on ideal, universal quantum computers (“fault-tolerant QPUs”) which are still years away. **But there is rapidly-growing interest in quantum machine learning on near-term [quantum devices](https://www.cornell.edu/video/john-preskill-quantum-computing-nisq-era-beyond)**.\n",
        "\n",
        "We can understand these deivces as special purpose hardware like Application-Specific Integrated Circuits (ASICs) and Field-Programmable Gate Arrays (FPGAs) which are more limited in their functonality"
      ],
      "metadata": {
        "id": "oTfP2F8gQAdY"
      }
    },
    {
      "cell_type": "markdown",
      "source": [
        "### Quantum Devices as special-purpose AI accelarators\n",
        "\n",
        "![alt text](https://miro.medium.com/max/828/1*1qJmyhJ9mkpiF69Tko7vPg.png)\n",
        "\n",
        "An example of \"quantum ASIC\" is an integrated nanophotonics chip that implements Boson sampling for a fixed number of modes. Boson sampling quickly becomes intractable on classical computers if we increase number of modes.\n",
        "\n"
      ],
      "metadata": {
        "id": "w8RWCSucQ6Hn"
      }
    },
    {
      "cell_type": "markdown",
      "source": [
        "Many current quantum technologies resemble special-purpose hardware like **Application-Specific Integrated Circuits** (ASICs) rather than a general purpose CPU. They are hardwired to implement alimited class of quantum algorithms.\n",
        "\n",
        "-----\n",
        "\n",
        "\n",
        "### Application Specific Integrated Circuit\n",
        "\n",
        "![alt text](https://upload.wikimedia.org/wikipedia/commons/thumb/7/79/SSDTR-ASIC_technology.jpg/330px-SSDTR-ASIC_technology.jpg)\n",
        "\n",
        "A tray of application-specific integrated circuit chips.\n",
        "\n",
        "\n",
        "\n",
        "\n",
        "\n",
        "----\n",
        "An ASIC is an integrated circuit chip customized for a particular use, rather than intended for general-purpose use. For example, a chip designed to run in a digital voice recoder or a high-efficiency video codec is an ASIC."
      ],
      "metadata": {
        "id": "D-0-xCBSRVBb"
      }
    },
    {
      "cell_type": "markdown",
      "source": [
        "----\n",
        "More advanced quantum devices can be programmed to run simole quantum circuits, which makes them more similar to **Field-Programmable Gate Arrays** (FPGAs), integrated circuits that are programmed using a low-level, hardware-specific Hardware Description Langauge.\n",
        "\n",
        "-----\n",
        "#### Field-Programmable gate array\n",
        "A FPGA is an integrated circuit designed to be configured by a customer or a designer after manufacturing.\n",
        "\n",
        "![alt text](https://upload.wikimedia.org/wikipedia/commons/thumb/f/fa/Altera_StratixIVGX_FPGA.jpg/330px-Altera_StratixIVGX_FPGA.jpg)\n",
        "\n",
        "\n",
        "----\n"
      ],
      "metadata": {
        "id": "Zom3tzcfSTnA"
      }
    },
    {
      "cell_type": "markdown",
      "source": [
        "In both the cases, an intimate knowledge of the hardware design and limitations is needed to run effective algorithms.\n",
        "\n",
        "![alt text](https://miro.medium.com/max/828/1*OF2zPLtuX6146AJOC8oPGA.png)\n",
        "\n",
        "Schematic drawing of an FPGA(left) and IBM's $16$ qubit quantum chip(right). Near-term quantum devices can be compared to FPGAs, in that they also consist of locally programmable gates with a hardware-oriented programming language.\n",
        "\n",
        "----\n",
        "----\n",
        "ASICs and FPGAs find growing use in machine learning and artificial intelligence, where their slim architectures reduce the overhead of a central processor and naturally suit the task they specialize in. If current quantum technologies resemble this classical special-purpose hardware, they could find applications in machine learning in a similar fashion. And this even without universal quantum computing and exponential quantum speedups."
      ],
      "metadata": {
        "id": "lK340fjSS-e1"
      }
    },
    {
      "cell_type": "markdown",
      "source": [
        "## Using quantum computers like neural networks\n",
        "\n",
        "In the modern viewpoint, quantum computers can be used and trained like neural networks. We can systematically adapt the physical control parameters, such as an electromagnetic field strength or a laser pulse frequency, to solve a problem.\n",
        "\n",
        "\n",
        "![alt text](https://pennylane.ai/qml/_images/trainable_circuit.png)\n",
        "\n",
        "For example, a trained circuit can be used to classify the content of images, by encoding the image into the physical state of the device and taking measurements."
      ],
      "metadata": {
        "id": "ZshVG-THT89x"
      }
    },
    {
      "cell_type": "markdown",
      "source": [
        "## The Bigger Picture : differentiable programming\n",
        "\n",
        "But the story is bigger than just using quantum computers to tackle machine learning problems. Quantum circuits are differentiable, and a quantum computer itself can compute the change in control parameters needed to become better at a given task.\n",
        "\n",
        "---\n",
        "\n",
        "### What is Differentiable Programming?\n",
        "\n",
        "**Differentiable programming** is a programming paradigm in which a numeric computer program can be differentiated throughout via automatic differentiation.This allows for gradient-based optimization of parameters in the program, often via gradient descent. Differentiable programming has found use in a wide variety of areas, particularly scientific computing and artificial intelligence.\n",
        "\n",
        "-----\n",
        "\n",
        "**Differentiable programming** is the very basis of deep learning, implemented in software libraries such as TensorFlow and PyTorch. **Differentiable programming is more than deep learning: it is a programming paradigm where the algorithms are not hand-coded, but learned.**\n",
        "\n",
        "\n",
        "![alt text](https://pennylane.ai/qml/_images/applications.png)\n",
        "\n",
        "\n",
        "Similarly, the idea of training quantum computers is larger than quantum machine learning. Trainable quantum circuits can be leveraged in other fields like **quantum chemistry** or **quantum optimization**. It can help in a variety of applications such as the **design of quantum algorithms**, the discovery of **quantum error correction schemes**, and the **understanding of physical systems**.\n",
        "\n",
        "\n",
        "\n",
        "\n"
      ],
      "metadata": {
        "id": "YQoR9dutUO6I"
      }
    },
    {
      "cell_type": "markdown",
      "source": [
        "![alt text](https://pennylane.ai/qml/_images/jigsaw.png)\n",
        "\n",
        "\n",
        "\n"
      ],
      "metadata": {
        "id": "QY2andadVOFW"
      }
    },
    {
      "cell_type": "markdown",
      "source": [
        "The source material is taken from Pennylane's website, they share amazing resources and visuals related to quantum computing and quantum machine leanring. Do check them out.\n",
        "\n"
      ],
      "metadata": {
        "id": "qTF1cv5tVSXI"
      }
    },
    {
      "cell_type": "code",
      "execution_count": null,
      "metadata": {
        "id": "Qz7jccYzOx3p"
      },
      "outputs": [],
      "source": []
    }
  ]
}