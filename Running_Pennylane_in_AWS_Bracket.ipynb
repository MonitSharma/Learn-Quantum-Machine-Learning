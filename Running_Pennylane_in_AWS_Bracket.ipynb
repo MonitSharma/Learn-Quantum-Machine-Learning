{
  "nbformat": 4,
  "nbformat_minor": 0,
  "metadata": {
    "colab": {
      "provenance": [],
      "authorship_tag": "ABX9TyNyOnW5cXxkBuk0ft76QZ2J",
      "include_colab_link": true
    },
    "kernelspec": {
      "name": "python3",
      "display_name": "Python 3"
    },
    "language_info": {
      "name": "python"
    }
  },
  "cells": [
    {
      "cell_type": "markdown",
      "metadata": {
        "id": "view-in-github",
        "colab_type": "text"
      },
      "source": [
        "<a href=\"https://colab.research.google.com/github/MonitSharma/Learn-Quantum-Machine-Learning/blob/main/Running_Pennylane_in_AWS_Bracket.ipynb\" target=\"_parent\"><img src=\"https://colab.research.google.com/assets/colab-badge.svg\" alt=\"Open In Colab\"/></a>"
      ]
    },
    {
      "cell_type": "markdown",
      "source": [
        "# Computing gradients in parallel with Amazon Braket\n",
        "\n",
        "PennyLane integrates with [Amazon Braket](https://aws.amazon.com/braket/) to enable quantum machine learning and optimization on high-performance simulators and quantum processing units (QPUs) through a range of [providers](https://aws.amazon.com/braket/hardware-providers/).\n",
        "\n",
        "In PennyLane, Amazon Braket is accessed through the [PennyLane-Braket](https://amazon-braket-pennylane-plugin-python.readthedocs.io/) plugin. The plugin can be installed using:"
      ],
      "metadata": {
        "id": "QevyXn7gsb9-"
      }
    },
    {
      "cell_type": "markdown",
      "source": [
        "## Note:\n",
        "\n",
        "To access remote services on Amazon Braket, you must first create an account on AWS and also follow the [setup instructions](https://github.com/aws/amazon-braket-sdk-python#prerequisites) for accessing Braket from Python."
      ],
      "metadata": {
        "id": "4WKIGMW-uHRV"
      }
    },
    {
      "cell_type": "code",
      "execution_count": null,
      "metadata": {
        "id": "czyTqxxCsXaY"
      },
      "outputs": [],
      "source": [
        "!pip install amazon-braket-pennylane-plugin"
      ]
    },
    {
      "cell_type": "markdown",
      "source": [
        "A central feature of Amazon Braket is that its remote simulator can execute multiple circuits in parallel. This capability can be harnessed in PennyLane during circuit training, which requires lots of variations of a circuit to be executed. Hence, the PennyLane-Braket plugin provides a method for scalable optimization of large circuits with many parameters. This tutorial will explain the importance of this feature, allow you to benchmark it yourself, and explore its use for solving a scaled-up graph problem with QAOA.\n",
        "\n",
        "\n",
        "\n",
        "![aws bracket](https://pennylane.ai/qml/_images/remote-multi-job-simulator.png)\n"
      ],
      "metadata": {
        "id": "Oz3PbBEhs0v-"
      }
    },
    {
      "cell_type": "markdown",
      "source": [
        "# Why is training circuits so expensive?\n",
        "\n",
        "Quantum-classical hybrid optimization of quantum circuits is the workhorse algorithm of near-term quantum computing. It is not only fundamental for training variational quantum circuits, but also more broadly for applications like quantum chemistry and quantum machine learning. Today’s most powerful optimization algorithms rely on the efficient computation of gradients—which tell us how to adapt parameters a little bit at a time to improve the algorithm.\n",
        "\n",
        "-----\n",
        "\n",
        "\n",
        "Calculating the gradient involves multiple device executions: for each trainable parameter we must execute our circuit on the device typically more than once. Reasonable applications involve many trainable parameters (just think of a classical neural net with millions of tunable weights). The result is a huge number of device executions for each optimization step.\n",
        "\n",
        "\n",
        "\n",
        "![optimization](https://pennylane.ai/qml/_images/grad-circuits.png)\n",
        "\n",
        "\n",
        "\n",
        "\n",
        "\n",
        "------\n",
        "\n",
        "\n",
        "In the standard `default.qubit` device, gradients are calculated in PennyLane through sequential device executions—in other words, all these circuits have to wait in the same queue until they can be evaluated. This approach is simpler, but quickly becomes slow as we scale the number of parameters. Moreover, as the number of qubits, or “width”, of the circuit is scaled, each device execution will slow down and eventually become a noticeable bottleneck. In short—**the future of training quantum circuits relies on high-performance remote simulators and hardware devices that are highly parallelized**.\n",
        "\n",
        "\n",
        "\n",
        "Fortunately, the PennyLane-Braket plugin provides a solution for scalable quantum circuit training by giving access to the Amazon Braket simulator known as [SV1](https://docs.aws.amazon.com/braket/latest/developerguide/braket-devices.html). SV1 is a high-performance state vector simulator that is designed with parallel execution in mind. Together with PennyLane, we can use SV1 to run in parallel all the circuits needed to compute a gradient!\n",
        "\n",
        "\n",
        "\n",
        "\n",
        "\n",
        "\n"
      ],
      "metadata": {
        "id": "7GDYeLFis-3X"
      }
    },
    {
      "cell_type": "markdown",
      "source": [
        "# Accessing devices on Amazon Braket\n",
        "\n",
        "The remote simulator and quantum hardware devices available on Amazon Braket can be found [here](https://docs.aws.amazon.com/braket/latest/developerguide/braket-devices.html). Each device has a unique identifier known as an [ARN](https://docs.aws.amazon.com/general/latest/gr/aws-arns-and-namespaces.html). In PennyLane, all remote Braket devices are accessed through a single PennyLane device named `braket.aws.qubit`, along with specification of the corresponding ARN."
      ],
      "metadata": {
        "id": "vSqrxniattvi"
      }
    },
    {
      "cell_type": "markdown",
      "source": [
        "Let’s load the SV1 simulator in PennyLane with 25 qubits. We must specify both the ARN and the address of the [S3 bucket](https://aws.amazon.com/s3/) where results are to be stored:"
      ],
      "metadata": {
        "id": "0D_NQ9Kft-74"
      }
    },
    {
      "cell_type": "code",
      "source": [
        "my_bucket = \"amazon-braket-Your-Bucket-Name\"  # the name of the bucket, keep the 'amazon-braket-' prefix and then include the bucket name\n",
        "my_prefix = \"Your-Folder-Name\"  # the name of the folder in the bucket\n",
        "s3_folder = (my_bucket, my_prefix)\n",
        "\n",
        "device_arn = \"arn:aws:braket:::device/quantum-simulator/amazon/sv1\""
      ],
      "metadata": {
        "id": "qhAsX1b3s9ah"
      },
      "execution_count": null,
      "outputs": []
    },
    {
      "cell_type": "markdown",
      "source": [
        "SV1 can now be loaded with the standard PennyLane `device()`:"
      ],
      "metadata": {
        "id": "wbXjwmbOubN3"
      }
    },
    {
      "cell_type": "code",
      "source": [
        "import pennylane as qml\n",
        "from pennylane import numpy as np\n",
        "\n",
        "n_wires = 25\n",
        "\n",
        "dev_remote = qml.device(\n",
        "    \"braket.aws.qubit\",\n",
        "    device_arn=device_arn,\n",
        "    wires=n_wires,\n",
        "    s3_destination_folder=s3_folder,\n",
        "    parallel=True,\n",
        ")"
      ],
      "metadata": {
        "id": "AWUNUUrIud9d"
      },
      "execution_count": null,
      "outputs": []
    },
    {
      "cell_type": "markdown",
      "source": [
        "Note the `parallel=True` argument. This setting allows us to unlock the power of parallel execution on SV1 for gradient calculations. We’ll also load `default.qubit` for comparison."
      ],
      "metadata": {
        "id": "D6d-Ku89ujlt"
      }
    },
    {
      "cell_type": "code",
      "source": [
        "dev_local = qml.device(\"default.qubit\", wires=n_wires)"
      ],
      "metadata": {
        "id": "O_SLtffquoTH"
      },
      "execution_count": null,
      "outputs": []
    },
    {
      "cell_type": "markdown",
      "source": [
        "Note that a local Braket device `braket.local.qubit` is also available. See the documentation for more details."
      ],
      "metadata": {
        "id": "ECXmcqGvuqwF"
      }
    },
    {
      "cell_type": "markdown",
      "source": [
        "# Benchmarking circuit evaluationo\n",
        "\n",
        "We will now compare the execution time for the remote Braket SV1 device and `default.qubit`. Our first step is to create a simple circuit:\n",
        "\n"
      ],
      "metadata": {
        "id": "1_2Sh29juwy2"
      }
    },
    {
      "cell_type": "code",
      "source": [
        "def circuit(params):\n",
        "    for i in range(n_wires):\n",
        "        qml.RX(params[i], wires=i)\n",
        "    for i in range(n_wires):\n",
        "        qml.CNOT(wires=[i, (i + 1) % n_wires])\n",
        "\n",
        "    # Measure all qubits to make sure all's good with Braket\n",
        "    observables = [qml.PauliZ(n_wires - 1)] + [qml.Identity(i) for i in range(n_wires - 1)]\n",
        "    return qml.expval(qml.operation.Tensor(*observables))"
      ],
      "metadata": {
        "id": "CUkwKCMXuv3A"
      },
      "execution_count": null,
      "outputs": []
    },
    {
      "cell_type": "markdown",
      "source": [
        "![circuit](https://pennylane.ai/qml/_images/circuit.png)"
      ],
      "metadata": {
        "id": "uapjiPHUu5xF"
      }
    },
    {
      "cell_type": "markdown",
      "source": [
        "In this circuit, each of the 25 qubits has a controllable rotation. A final block of two-qubit CNOT gates is added to entangle the qubits. Overall, this circuit has 25 trainable parameters. Although not particularly relevant for practical problems, we can use this circuit as a testbed for our comparison.\n",
        "\n",
        "The next step is to convert the above circuit into a PennyLane `QNode()`."
      ],
      "metadata": {
        "id": "BnrWkaz1u-QI"
      }
    },
    {
      "cell_type": "code",
      "source": [
        "qnode_remote = qml.QNode(circuit, dev_remote)\n",
        "qnode_local = qml.QNode(circuit, dev_local)"
      ],
      "metadata": {
        "id": "-dQh260Eu9Sm"
      },
      "execution_count": null,
      "outputs": []
    },
    {
      "cell_type": "markdown",
      "source": [
        "## Note:\n",
        "The above uses `QNode()` to convert the circuit. In other tutorials, you may have seen the qnode() decorator being used. These approaches are interchangeable, but we use `QNode()` here because it allows us to pair the same circuit to different devices."
      ],
      "metadata": {
        "id": "tK2It8lovIzv"
      }
    },
    {
      "cell_type": "markdown",
      "source": [
        "## Warning:\n",
        "\n",
        "Running the contents of this tutorial will result in simulation fees charged to your AWS account. We recommend monitoring your usage on the AWS dashboard."
      ],
      "metadata": {
        "id": "9KrJXBngvOtV"
      }
    },
    {
      "cell_type": "markdown",
      "source": [
        "Let's compare the execution time between the two"
      ],
      "metadata": {
        "id": "CYnA-fwyvUBl"
      }
    },
    {
      "cell_type": "code",
      "source": [
        "import time\n",
        "\n",
        "params = np.random.random(n_wires)\n",
        "\n",
        "t_0_remote = time.time()\n",
        "qnode_remote(params)\n",
        "t_1_remote = time.time()\n",
        "\n",
        "t_0_local = time.time()\n",
        "qnode_local(params)\n",
        "t_1_local = time.time()\n",
        "\n",
        "print(\"Execution time on remote device (seconds):\", t_1_remote - t_0_remote)\n",
        "print(\"Execution time on local device (seconds):\", t_1_local - t_0_local)"
      ],
      "metadata": {
        "id": "IAgBCw-avN6v"
      },
      "execution_count": null,
      "outputs": []
    },
    {
      "cell_type": "markdown",
      "source": [
        "These timings highlight the advantage of using the Amazon Braket SV1 device for simulations with large qubit numbers. In general, simulation times scale exponentially with the number of qubits, but SV1 is highly optimized and running on AWS remote servers. This allows SV1 to outperform `default.qubit` in this 25-qubit example. The time you see in practice for the remote device will also depend on factors such as your distance to AWS servers.\n",
        "\n",
        "\n",
        "\n",
        "\n",
        "## Note:\n",
        "\n",
        "Given these timings, why would anyone want to use `default.qubit`? You should consider using local devices when your circuit has few qubits. In this regime, the latency times of communicating the circuit to a remote server dominate over simulation times, allowing local simulators to be faster.\n"
      ],
      "metadata": {
        "id": "IDoVUYaHvd4_"
      }
    },
    {
      "cell_type": "markdown",
      "source": [
        "# Benchmarking Gradient calculations\n",
        "\n",
        "Now let us compare the gradient-calculation times between the two devices. Remember that when loading the remote device, we set `parallel=True`. This allows the multiple device executions required during gradient calculations to be performed in parallel, so we expect the remote device to be much faster.\n",
        "\n",
        "First, consider the remote device:\n"
      ],
      "metadata": {
        "id": "c7SNf5iPvr7i"
      }
    },
    {
      "cell_type": "code",
      "source": [
        "d_qnode_remote = qml.grad(qnode_remote)\n",
        "\n",
        "t_0_remote_grad = time.time()\n",
        "d_qnode_remote(params)\n",
        "t_1_remote_grad = time.time()\n",
        "\n",
        "print(\"Gradient calculation time on remote device (seconds):\", t_1_remote_grad - t_0_remote_grad)"
      ],
      "metadata": {
        "id": "X0IwoqggvqzC"
      },
      "execution_count": null,
      "outputs": []
    },
    {
      "cell_type": "markdown",
      "source": [
        "Now, the local device:\n",
        "\n",
        "\n",
        "## Warning:\n",
        "\n",
        "Evaluating the gradient with default.qubit will take a long time, consider commenting-out the following lines unless you are happy to wait."
      ],
      "metadata": {
        "id": "RerAh-2Ev4_O"
      }
    },
    {
      "cell_type": "code",
      "source": [
        "d_qnode_local = qml.grad(qnode_local)\n",
        "\n",
        "t_0_local_grad = time.time()\n",
        "d_qnode_local(params)\n",
        "t_1_local_grad = time.time()\n",
        "\n",
        "print(\"Gradient calculation time on local device (seconds):\", t_1_local_grad - t_0_local_grad)"
      ],
      "metadata": {
        "id": "4ACAoNXav9ly"
      },
      "execution_count": null,
      "outputs": []
    },
    {
      "cell_type": "markdown",
      "source": [
        "The local device needs around 15 minutes or more! Compare this to less than a minute spent calculating the gradient on SV1. This provides a powerful lesson in parallelization.\n",
        "\n",
        "What if we had run on SV1 with `parallel=False`? It would have taken around 3 minutes—still faster than a local device, but much slower than running SV1 in parallel."
      ],
      "metadata": {
        "id": "wC3Wwam7wAfQ"
      }
    },
    {
      "cell_type": "markdown",
      "source": [
        "# Scaling up QAOA for larger graphs\n",
        "\n",
        "The quantum approximate optimization algorithm (QAOA) is a candidate algorithm for near-term quantum hardware that can find approximate solutions to combinatorial optimization problems such as graph-based problems. We have seen in the main [QAOA tutorial](https://colab.research.google.com/github/MonitSharma/Learn-Quantum-Machine-Learning/blob/main/Intro_to_QAOA.ipynb) how QAOA successfully solves the minimum vertex cover problem on a four-node graph.\n",
        "\n",
        "Here, let’s be ambitious and try to solve the maximum cut problem on a twenty-node graph! In maximum cut, the objective is to partition the graph’s nodes into two groups so that the number of edges crossed or ‘cut’ by the partition is maximized (see the diagram below). This problem is NP-hard, so we expect it to be tough as we increase the number of graph nodes.\n",
        "\n",
        "\n",
        "\n",
        "![alt](https://pennylane.ai/qml/_images/max-cut.png)"
      ],
      "metadata": {
        "id": "heVpTSW_wKu9"
      }
    },
    {
      "cell_type": "code",
      "source": [
        "import networkx as nx\n",
        "\n",
        "nodes = n_wires = 20\n",
        "edges = 60\n",
        "seed = 1967\n",
        "\n",
        "g = nx.gnm_random_graph(nodes, edges, seed=seed)\n",
        "positions = nx.spring_layout(g, seed=seed)\n",
        "\n",
        "nx.draw(g, with_labels=True, pos=positions)"
      ],
      "metadata": {
        "colab": {
          "base_uri": "https://localhost:8080/",
          "height": 319
        },
        "id": "4N37Ur1JwJSP",
        "outputId": "a46b7fa0-ff75-497d-963d-eeff444f634f"
      },
      "execution_count": 1,
      "outputs": [
        {
          "output_type": "display_data",
          "data": {
            "text/plain": [
              "<Figure size 432x288 with 1 Axes>"
            ],
            "image/png": "[encoded data removed]"
          },
          "metadata": {}
        }
      ]
    },
    {
      "cell_type": "markdown",
      "source": [
        "We will use the remote SV1 device to help us optimize our QAOA circuit as quickly as possible. First, the device is loaded again for 20 qubits"
      ],
      "metadata": {
        "id": "Zn2J0w8b4tym"
      }
    },
    {
      "cell_type": "code",
      "source": [
        "dev = qml.device(\n",
        "    \"braket.aws.qubit\",\n",
        "    device_arn=device_arn,\n",
        "    wires=n_wires,\n",
        "    s3_destination_folder=s3_folder,\n",
        "    parallel=True,\n",
        "    max_parallel=20,\n",
        "    poll_timeout_seconds=30,\n",
        ")"
      ],
      "metadata": {
        "id": "GVdNzgrn4sH1"
      },
      "execution_count": null,
      "outputs": []
    },
    {
      "cell_type": "markdown",
      "source": [
        "Note the specification of max_parallel=20. This means that up to 20 circuits will be executed in parallel on SV1 (the default value is 10)."
      ],
      "metadata": {
        "id": "eIVM6L_64wsO"
      }
    },
    {
      "cell_type": "markdown",
      "source": [
        "## Warning:\n",
        "Increasing the maximum number of parallel executions can result in a greater rate of spending on simulation fees on Amazon Braket. The value must also be set bearing in mind your service [quota](https://docs.aws.amazon.com/braket/latest/developerguide/braket-quotas.html)."
      ],
      "metadata": {
        "id": "R55hdoKG4z8V"
      }
    },
    {
      "cell_type": "markdown",
      "source": [
        "The QAOA problem can then be set up following the standard pattern, as discussed in detail in the [QAOA tutorial](https://colab.research.google.com/github/MonitSharma/Learn-Quantum-Machine-Learning/blob/main/Intro_to_QAOA.ipynb)."
      ],
      "metadata": {
        "id": "kilG4vWm47qF"
      }
    },
    {
      "cell_type": "code",
      "source": [
        "cost_h, mixer_h = qml.qaoa.maxcut(g)\n",
        "n_layers = 2\n",
        "\n",
        "\n",
        "def qaoa_layer(gamma, alpha):\n",
        "    qml.qaoa.cost_layer(gamma, cost_h)\n",
        "    qml.qaoa.mixer_layer(alpha, mixer_h)\n",
        "\n",
        "\n",
        "def circuit(params, **kwargs):\n",
        "    for i in range(n_wires):  # Prepare an equal superposition over all qubits\n",
        "        qml.Hadamard(wires=i)\n",
        "\n",
        "    qml.layer(qaoa_layer, n_layers, params[0], params[1])\n",
        "    return qml.expval(cost_h)\n",
        "\n",
        "\n",
        "cost_function = qml.QNode(circuit, dev)\n",
        "optimizer = qml.AdagradOptimizer(stepsize=0.1)"
      ],
      "metadata": {
        "id": "HzPDsPml4zID"
      },
      "execution_count": 2,
      "outputs": []
    },
    {
      "cell_type": "markdown",
      "source": [
        "We’re now set up to train the circuit! Note, if you are training this circuit yourself, you may want to increase the number of iterations in the optimization loop and also investigate changing the number of QAOA layers"
      ],
      "metadata": {
        "id": "9cfSwDvg5SkV"
      }
    },
    {
      "cell_type": "markdown",
      "source": [
        "## Warning:\n",
        "The following lines are computationally intensive. Remember that running it will result in simulation fees charged to your AWS account. We recommend monitoring your usage on the AWS dashboard."
      ],
      "metadata": {
        "id": "jGBG06025T7-"
      }
    },
    {
      "cell_type": "code",
      "source": [
        "import time\n",
        "\n",
        "np.random.seed(1967)\n",
        "params = 0.01 * np.random.uniform(size=[2, n_layers], requires_grad=True)\n",
        "iterations = 10\n",
        "\n",
        "for i in range(iterations):\n",
        "    t0 = time.time()\n",
        "\n",
        "    params, cost_before = optimizer.step_and_cost(cost_function, params)\n",
        "\n",
        "    t1 = time.time()\n",
        "\n",
        "    if i == 0:\n",
        "        print(\"Initial cost:\", cost_before)\n",
        "    else:\n",
        "        print(f\"Cost at step {i}:\", cost_before)\n",
        "\n",
        "    print(f\"Completed iteration {i + 1}\")\n",
        "    print(f\"Time to complete iteration: {t1 - t0} seconds\")\n",
        "\n",
        "print(f\"Cost at step {iterations}:\", cost_function(params))\n",
        "\n",
        "np.save(\"params.npy\", params)\n",
        "print(\"Parameters saved to params.npy\")"
      ],
      "metadata": {
        "id": "z0oLcLR_5IDG"
      },
      "execution_count": null,
      "outputs": []
    },
    {
      "cell_type": "markdown",
      "source": [
        "\n",
        "This example shows us that a 20-qubit QAOA problem can be trained within around 1-2 minutes per iteration by using parallel executions on the Amazon Braket SV1 device to speed up gradient calculations. If this problem were run on default.qubit without parallelization, we would expect for training to take much longer.\n",
        "\n"
      ],
      "metadata": {
        "id": "i1FGf5f65c5E"
      }
    }
  ]
}