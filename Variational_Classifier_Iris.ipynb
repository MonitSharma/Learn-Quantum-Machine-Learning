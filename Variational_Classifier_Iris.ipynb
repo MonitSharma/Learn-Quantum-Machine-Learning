{
  "nbformat": 4,
  "nbformat_minor": 0,
  "metadata": {
    "colab": {
      "provenance": [],
      "collapsed_sections": [],
      "authorship_tag": "ABX9TyMM7rB2oybg8IL/ExtxqWts",
      "include_colab_link": true
    },
    "kernelspec": {
      "name": "python3",
      "display_name": "Python 3"
    },
    "language_info": {
      "name": "python"
    }
  },
  "cells": [
    {
      "cell_type": "markdown",
      "metadata": {
        "id": "view-in-github",
        "colab_type": "text"
      },
      "source": [
        "<a href=\"https://colab.research.google.com/github/MonitSharma/Learn-Quantum-Machine-Learning/blob/main/Variational_Classifier_Iris.ipynb\" target=\"_parent\"><img src=\"https://colab.research.google.com/assets/colab-badge.svg\" alt=\"Open In Colab\"/></a>"
      ]
    },
    {
      "cell_type": "markdown",
      "source": [
        "# Variational Classifier\n",
        "\n",
        "Here, we will learn how to implement variational quantum classifiers, that can be trained from labelled data to classify new data samples.\n",
        "\n",
        "Work inspired from [Farhi and Neven (2018)](https://arxiv.org/abs/1802.06002) and [Schuld et al. (2018)](https://arxiv.org/abs/1804.00633)\n",
        "\n",
        "This tutorial is taken from the Pennylanes handbook."
      ],
      "metadata": {
        "id": "nyBdpM_PTqFm"
      }
    },
    {
      "cell_type": "markdown",
      "source": [
        "How a variational quantum classifier reproduce the parity function\n",
        "\n",
        "$$ \\begin{split}f: x \\in \\{0,1\\}^{\\otimes n} \\rightarrow y =\n",
        "\\begin{cases} 1 \\text{  if uneven number of ones in } x \\\\ 0\n",
        "\\text{ otherwise} \\end{cases}.\\end{split}$$\n",
        "\n",
        "This examples, demonstrates how to encode binary inputs into the initial state of the variational circuit, which is simply the computational basis state.\n",
        "\n"
      ],
      "metadata": {
        "id": "m1-L0TWAUGPC"
      }
    },
    {
      "cell_type": "markdown",
      "source": [
        "## Fitting the parity function\n",
        "\n",
        "\n",
        "### Imports\n",
        "\n",
        "Import PennyLane and their version of NumPy and an optimizer"
      ],
      "metadata": {
        "id": "rfdCZREoUZP8"
      }
    },
    {
      "cell_type": "code",
      "execution_count": 1,
      "metadata": {
        "id": "Q7tXI_3MTmjW"
      },
      "outputs": [],
      "source": [
        "import pennylane as qml\n",
        "from pennylane import numpy as np\n",
        "from pennylane.optimize import NesterovMomentumOptimizer\n"
      ]
    },
    {
      "cell_type": "markdown",
      "source": [
        "## Quantum and Classical Nodes\n",
        "\n",
        "We create a quantum device with four qubits"
      ],
      "metadata": {
        "id": "pjhjmMmyUutH"
      }
    },
    {
      "cell_type": "code",
      "source": [
        "dev = qml.device(\"default.qubit\", wires=4)"
      ],
      "metadata": {
        "id": "Ub_NJm6TUtAq"
      },
      "execution_count": 2,
      "outputs": []
    },
    {
      "cell_type": "markdown",
      "source": [
        "Variational classifiers usually define a layer, which is elementary circuit architecture that gets repeated to build the variational circuit.\n",
        "\n",
        "\n",
        "Our circuit layers consists of an arbitrary rotation on every qubit, as well as CNOTs that entangle each qubit with its neighbour"
      ],
      "metadata": {
        "id": "rcr94YQWU57n"
      }
    },
    {
      "cell_type": "code",
      "source": [
        "def layer(W):\n",
        "\n",
        "    qml.Rot(W[0, 0], W[0, 1], W[0, 2], wires=0)\n",
        "    qml.Rot(W[1, 0], W[1, 1], W[1, 2], wires=1)\n",
        "    qml.Rot(W[2, 0], W[2, 1], W[2, 2], wires=2)\n",
        "    qml.Rot(W[3, 0], W[3, 1], W[3, 2], wires=3)\n",
        "\n",
        "    qml.CNOT(wires=[0, 1])\n",
        "    qml.CNOT(wires=[1, 2])\n",
        "    qml.CNOT(wires=[2, 3])\n",
        "    qml.CNOT(wires=[3, 0])"
      ],
      "metadata": {
        "id": "lwsrMJsGU5XA"
      },
      "execution_count": 3,
      "outputs": []
    },
    {
      "cell_type": "markdown",
      "source": [
        "A Rot gate is used here, which is\n",
        "\n",
        "![rottt (1).png](data:image/png;base64,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)"
      ],
      "metadata": {
        "id": "SFQKuMStVQMr"
      }
    },
    {
      "cell_type": "markdown",
      "source": [
        "We also need a way to encode data inputs \n",
        "$x$\n",
        " into the circuit, so that the measured output depends on the inputs. In this first example, the inputs are bitstrings, which we encode into the state of the qubits. The quantum state \n",
        "$ψ$\n",
        " after state preparation is a computational basis state that has 1s where \n",
        "$x$\n",
        " has 1s, for example\n",
        "\n",
        "$$x = 0101 \\rightarrow |\\psi \\rangle = |0101 \\rangle .$$\n",
        "\n",
        "We use the `BasisState` function rovided by PennyLane, which expects `x` to be a list of zeros and ones, i.e `[0,1,0,1]`\n"
      ],
      "metadata": {
        "id": "j3thSmkcWGlG"
      }
    },
    {
      "cell_type": "code",
      "source": [
        "def statepreparation(x):\n",
        "    qml.BasisState(x, wires=[0, 1, 2, 3])"
      ],
      "metadata": {
        "id": "jah7nY4lVOdT"
      },
      "execution_count": 4,
      "outputs": []
    },
    {
      "cell_type": "markdown",
      "source": [
        "Now we define the quantum node as a state preparation routine, followed by a repetition of the layer structure. Borrowing from machine learning, we call the parameters `weights`."
      ],
      "metadata": {
        "id": "VR31BoAFWigI"
      }
    },
    {
      "cell_type": "code",
      "source": [
        "@qml.qnode(dev)\n",
        "def circuit(weights, x):\n",
        "\n",
        "    statepreparation(x)\n",
        "\n",
        "    for W in weights:\n",
        "        layer(W)\n",
        "\n",
        "    return qml.expval(qml.PauliZ(0))"
      ],
      "metadata": {
        "id": "l7Lo9KOTWhzu"
      },
      "execution_count": 5,
      "outputs": []
    },
    {
      "cell_type": "markdown",
      "source": [
        "Different from previous examples, the quantum node takes the data as a keyword argument `x` (with the default value `None`). Keyword arguments of a quantum node are considered as fixed when calculating a gradient; they are never trained.\n",
        "\n",
        "If we want to add a “classical” bias parameter, the variational quantum classifier also needs some post-processing. We define the final model by a classical node that uses the first variable, and feeds the remainder into the quantum node. Before this, we reshape the list of remaining variables for easy use in the quantum node."
      ],
      "metadata": {
        "id": "ridbzC25Wqz3"
      }
    },
    {
      "cell_type": "code",
      "source": [
        "def variational_classifier(weights, bias, x):\n",
        "    return circuit(weights, x) + bias\n"
      ],
      "metadata": {
        "id": "FpsBUTP5WnwB"
      },
      "execution_count": 6,
      "outputs": []
    },
    {
      "cell_type": "markdown",
      "source": [
        "## Cost\n",
        "In supervised learning, the cost function is usually the sum of a loss function and a regularizer. We use the standard square loss that measures the distance between target labels and model predictions."
      ],
      "metadata": {
        "id": "7zc2x6noWw_R"
      }
    },
    {
      "cell_type": "code",
      "source": [
        "def square_loss(labels, predictions):\n",
        "    loss = 0\n",
        "    for l, p in zip(labels, predictions):\n",
        "        loss = loss + (l - p) ** 2\n",
        "\n",
        "    loss = loss / len(labels)\n",
        "    return loss"
      ],
      "metadata": {
        "id": "GauW2gH5WwT1"
      },
      "execution_count": 7,
      "outputs": []
    },
    {
      "cell_type": "markdown",
      "source": [
        "To monitor how many inputs the current classifier predicted correctly, we also define the accuracy given target labels and model predictions."
      ],
      "metadata": {
        "id": "QW0wrT3-W3sK"
      }
    },
    {
      "cell_type": "code",
      "source": [
        "def accuracy(labels, predictions):\n",
        "\n",
        "    loss = 0\n",
        "    for l, p in zip(labels, predictions):\n",
        "        if abs(l - p) < 1e-5:\n",
        "            loss = loss + 1\n",
        "    loss = loss / len(labels)\n",
        "\n",
        "    return loss"
      ],
      "metadata": {
        "id": "pBIngpm6W16m"
      },
      "execution_count": 8,
      "outputs": []
    },
    {
      "cell_type": "markdown",
      "source": [
        "For learning tasks, the cost depends on the data - here the features and labels considered in the iteration of the optimization routine."
      ],
      "metadata": {
        "id": "Yuky7P6OW7jU"
      }
    },
    {
      "cell_type": "code",
      "source": [
        "def cost(weights, bias, X, Y):\n",
        "    predictions = [variational_classifier(weights, bias, x) for x in X]\n",
        "    return square_loss(Y, predictions)\n"
      ],
      "metadata": {
        "id": "YRmWTfKiW58L"
      },
      "execution_count": 9,
      "outputs": []
    },
    {
      "cell_type": "markdown",
      "source": [
        "## Optimization\n",
        "\n",
        "Let's load and preprocess the data.\n",
        "\n",
        "Download the data from [here](https://raw.githubusercontent.com/XanaduAI/qml/master/demonstrations/variational_classifier/data/parity.txt)\n",
        "and place it in the subfolded `variational/data`\n",
        "\n"
      ],
      "metadata": {
        "id": "bVSwjH28XAcl"
      }
    },
    {
      "cell_type": "code",
      "source": [
        "data = np.loadtxt(\"variational/data/parity.txt\")\n",
        "X = np.array(data[:, :-1], requires_grad=False)\n",
        "Y = np.array(data[:, -1], requires_grad=False)\n",
        "Y = Y * 2 - np.ones(len(Y))  # shift label from {0, 1} to {-1, 1}\n",
        "\n",
        "for i in range(5):\n",
        "    print(\"X = {}, Y = {: d}\".format(X[i], int(Y[i])))\n",
        "\n",
        "print(\"...\")"
      ],
      "metadata": {
        "colab": {
          "base_uri": "https://localhost:8080/"
        },
        "id": "JMpctTWTW93j",
        "outputId": "5d875f97-5ca5-4a09-e7f1-9e8d359b483f"
      },
      "execution_count": 10,
      "outputs": [
        {
          "output_type": "stream",
          "name": "stdout",
          "text": [
            "X = [0. 0. 0. 0.], Y = -1\n",
            "X = [0. 0. 0. 1.], Y =  1\n",
            "X = [0. 0. 1. 0.], Y =  1\n",
            "X = [0. 0. 1. 1.], Y = -1\n",
            "X = [0. 1. 0. 0.], Y =  1\n",
            "...\n"
          ]
        }
      ]
    },
    {
      "cell_type": "markdown",
      "source": [
        "We initialize the variables randomly (but fix a seed for reproducibility). The first variable in the list is used as a bias, while the rest is fed into the gates of the variational circuit."
      ],
      "metadata": {
        "id": "THOcNME9X61X"
      }
    },
    {
      "cell_type": "code",
      "source": [
        "np.random.seed(0)\n",
        "num_qubits = 4\n",
        "num_layers = 2\n",
        "weights_init = 0.01 * np.random.randn(num_layers, num_qubits, 3, requires_grad=True)\n",
        "bias_init = np.array(0.0, requires_grad=True)\n",
        "\n",
        "print(weights_init, bias_init)"
      ],
      "metadata": {
        "colab": {
          "base_uri": "https://localhost:8080/"
        },
        "id": "bWlnpGmUXyGa",
        "outputId": "2aeed83f-8ae9-433b-811a-9a0c58cffd88"
      },
      "execution_count": 11,
      "outputs": [
        {
          "output_type": "stream",
          "name": "stdout",
          "text": [
            "[[[ 0.01764052  0.00400157  0.00978738]\n",
            "  [ 0.02240893  0.01867558 -0.00977278]\n",
            "  [ 0.00950088 -0.00151357 -0.00103219]\n",
            "  [ 0.00410599  0.00144044  0.01454274]]\n",
            "\n",
            " [[ 0.00761038  0.00121675  0.00443863]\n",
            "  [ 0.00333674  0.01494079 -0.00205158]\n",
            "  [ 0.00313068 -0.00854096 -0.0255299 ]\n",
            "  [ 0.00653619  0.00864436 -0.00742165]]] 0.0\n"
          ]
        }
      ]
    },
    {
      "cell_type": "markdown",
      "source": [
        "Next we create an optimizer and choose a batch size…"
      ],
      "metadata": {
        "id": "3Sp45MpNYBre"
      }
    },
    {
      "cell_type": "code",
      "source": [
        "opt = NesterovMomentumOptimizer(0.5)\n",
        "batch_size = 5"
      ],
      "metadata": {
        "id": "U2nzqj46X-j1"
      },
      "execution_count": 12,
      "outputs": []
    },
    {
      "cell_type": "markdown",
      "source": [
        "…and train the optimizer. We track the accuracy - the share of correctly classified data samples. For this we compute the outputs of the variational classifier and turn them into predictions in $\\{−1,1\\}$\n",
        " by taking the sign of the output."
      ],
      "metadata": {
        "id": "FAh_XpU2YHTO"
      }
    },
    {
      "cell_type": "code",
      "source": [
        "weights = weights_init\n",
        "bias = bias_init\n",
        "for it in range(25):\n",
        "\n",
        "    # Update the weights by one optimizer step\n",
        "    batch_index = np.random.randint(0, len(X), (batch_size,))\n",
        "    X_batch = X[batch_index]\n",
        "    Y_batch = Y[batch_index]\n",
        "    weights, bias, _, _ = opt.step(cost, weights, bias, X_batch, Y_batch)\n",
        "\n",
        "    # Compute accuracy\n",
        "    predictions = [np.sign(variational_classifier(weights, bias, x)) for x in X]\n",
        "    acc = accuracy(Y, predictions)\n",
        "\n",
        "    print(\n",
        "        \"Iter: {:5d} | Cost: {:0.7f} | Accuracy: {:0.7f} \".format(\n",
        "            it + 1, cost(weights, bias, X, Y), acc\n",
        "        )\n",
        "    )"
      ],
      "metadata": {
        "colab": {
          "base_uri": "https://localhost:8080/"
        },
        "id": "aMX8JBv5YE6S",
        "outputId": "1c740dca-a4a1-4e40-d0a4-f3d00da0c13c"
      },
      "execution_count": 13,
      "outputs": [
        {
          "output_type": "stream",
          "name": "stdout",
          "text": [
            "Iter:     1 | Cost: 3.4355534 | Accuracy: 0.5000000 \n",
            "Iter:     2 | Cost: 1.9717733 | Accuracy: 0.5000000 \n",
            "Iter:     3 | Cost: 1.8182812 | Accuracy: 0.5000000 \n",
            "Iter:     4 | Cost: 1.5042404 | Accuracy: 0.5000000 \n",
            "Iter:     5 | Cost: 1.1477739 | Accuracy: 0.5000000 \n",
            "Iter:     6 | Cost: 1.2734990 | Accuracy: 0.6250000 \n",
            "Iter:     7 | Cost: 0.8290628 | Accuracy: 0.5000000 \n",
            "Iter:     8 | Cost: 0.3226183 | Accuracy: 1.0000000 \n",
            "Iter:     9 | Cost: 0.1436206 | Accuracy: 1.0000000 \n",
            "Iter:    10 | Cost: 0.2982810 | Accuracy: 1.0000000 \n",
            "Iter:    11 | Cost: 0.3064355 | Accuracy: 1.0000000 \n",
            "Iter:    12 | Cost: 0.1682335 | Accuracy: 1.0000000 \n",
            "Iter:    13 | Cost: 0.0892512 | Accuracy: 1.0000000 \n",
            "Iter:    14 | Cost: 0.0381562 | Accuracy: 1.0000000 \n",
            "Iter:    15 | Cost: 0.0170359 | Accuracy: 1.0000000 \n",
            "Iter:    16 | Cost: 0.0109353 | Accuracy: 1.0000000 \n",
            "Iter:    17 | Cost: 0.0108388 | Accuracy: 1.0000000 \n",
            "Iter:    18 | Cost: 0.0139196 | Accuracy: 1.0000000 \n",
            "Iter:    19 | Cost: 0.0123980 | Accuracy: 1.0000000 \n",
            "Iter:    20 | Cost: 0.0085416 | Accuracy: 1.0000000 \n",
            "Iter:    21 | Cost: 0.0053549 | Accuracy: 1.0000000 \n",
            "Iter:    22 | Cost: 0.0065759 | Accuracy: 1.0000000 \n",
            "Iter:    23 | Cost: 0.0024883 | Accuracy: 1.0000000 \n",
            "Iter:    24 | Cost: 0.0029102 | Accuracy: 1.0000000 \n",
            "Iter:    25 | Cost: 0.0023471 | Accuracy: 1.0000000 \n"
          ]
        }
      ]
    },
    {
      "cell_type": "markdown",
      "source": [
        "# A real-world example\n",
        "\n",
        "## Iris Classification\n"
      ],
      "metadata": {
        "id": "hGpW6r-pYcmc"
      }
    },
    {
      "cell_type": "markdown",
      "source": [
        "### Quantum and Classical Nodes\n",
        "\n",
        "To encode real-valued vectors into the amplitudes of a quantum state, we use a 2-qubit simulator"
      ],
      "metadata": {
        "id": "Q-XzYHsFYhKy"
      }
    },
    {
      "cell_type": "code",
      "source": [
        "dev = qml.device(\"default.qubit\", wires=2)"
      ],
      "metadata": {
        "id": "QY4q5OkrYPW3"
      },
      "execution_count": 14,
      "outputs": []
    },
    {
      "cell_type": "markdown",
      "source": [
        "State preparation is not as simple as when we represent a bitstring with a basis state. Every input $x$ has to be translated into a set of angles which can get fed into a small routine for state preparation. To simplify things a bit, we will work with data from the positive subspace, so that we can ignore signs (which would require another cascade of rotations around the z axis).\n",
        "\n",
        "\n",
        "The circuit is coded according to the scheme in [ Möttönen, et al. (2004),](https://arxiv.org/abs/quant-ph/0407010). We had to decompose controlled Y-axis rotations into more basic circuits."
      ],
      "metadata": {
        "id": "TvwH185lYpFD"
      }
    },
    {
      "cell_type": "code",
      "source": [
        "def get_angles(x):\n",
        "\n",
        "    beta0 = 2 * np.arcsin(np.sqrt(x[1] ** 2) / np.sqrt(x[0] ** 2 + x[1] ** 2 + 1e-12))\n",
        "    beta1 = 2 * np.arcsin(np.sqrt(x[3] ** 2) / np.sqrt(x[2] ** 2 + x[3] ** 2 + 1e-12))\n",
        "    beta2 = 2 * np.arcsin(\n",
        "        np.sqrt(x[2] ** 2 + x[3] ** 2)\n",
        "        / np.sqrt(x[0] ** 2 + x[1] ** 2 + x[2] ** 2 + x[3] ** 2)\n",
        "    )\n",
        "\n",
        "    return np.array([beta2, -beta1 / 2, beta1 / 2, -beta0 / 2, beta0 / 2])\n",
        "\n",
        "\n",
        "def statepreparation(a):\n",
        "    qml.RY(a[0], wires=0)\n",
        "\n",
        "    qml.CNOT(wires=[0, 1])\n",
        "    qml.RY(a[1], wires=1)\n",
        "    qml.CNOT(wires=[0, 1])\n",
        "    qml.RY(a[2], wires=1)\n",
        "\n",
        "    qml.PauliX(wires=0)\n",
        "    qml.CNOT(wires=[0, 1])\n",
        "    qml.RY(a[3], wires=1)\n",
        "    qml.CNOT(wires=[0, 1])\n",
        "    qml.RY(a[4], wires=1)\n",
        "    qml.PauliX(wires=0)"
      ],
      "metadata": {
        "id": "VRVTDjaCYm3s"
      },
      "execution_count": 15,
      "outputs": []
    },
    {
      "cell_type": "markdown",
      "source": [
        "Let's see if it works"
      ],
      "metadata": {
        "id": "tknuOFSWY8_F"
      }
    },
    {
      "cell_type": "code",
      "source": [
        "x = np.array([0.53896774, 0.79503606, 0.27826503, 0.0], requires_grad=False)\n",
        "ang = get_angles(x)\n",
        "\n",
        "\n",
        "@qml.qnode(dev)\n",
        "def test(angles):\n",
        "\n",
        "    statepreparation(angles)\n",
        "\n",
        "    return qml.expval(qml.PauliZ(0))\n",
        "\n",
        "\n",
        "test(ang)\n",
        "\n",
        "print(\"x               : \", x)\n",
        "print(\"angles          : \", ang)\n",
        "print(\"amplitude vector: \", np.real(dev.state))"
      ],
      "metadata": {
        "colab": {
          "base_uri": "https://localhost:8080/"
        },
        "id": "19oA8dW0Y8Ch",
        "outputId": "a6bed5f3-aa3e-4c72-f390-f8a2e01eb224"
      },
      "execution_count": 16,
      "outputs": [
        {
          "output_type": "stream",
          "name": "stdout",
          "text": [
            "x               :  [0.53896774 0.79503606 0.27826503 0.        ]\n",
            "angles          :  [ 0.56397465 -0.          0.         -0.97504604  0.97504604]\n",
            "amplitude vector:  [ 5.38967743e-01  7.95036065e-01  2.78265032e-01 -2.77555756e-17]\n"
          ]
        }
      ]
    },
    {
      "cell_type": "markdown",
      "source": [
        "Note that the `default.qubit` simulator provides a shortcut to `statepreparation` with the command `qml.QubitStateVector(x, wires=[0, 1])`. However, some devices may not support an arbitrary state-preparation routine.\n",
        "\n",
        "Since we are working with only 2 qubits now, we need to update the layer function as well."
      ],
      "metadata": {
        "id": "ETTjKDPaZDL5"
      }
    },
    {
      "cell_type": "code",
      "source": [
        "def layer(W):\n",
        "    qml.Rot(W[0, 0], W[0, 1], W[0, 2], wires=0)\n",
        "    qml.Rot(W[1, 0], W[1, 1], W[1, 2], wires=1)\n",
        "    qml.CNOT(wires=[0, 1])"
      ],
      "metadata": {
        "id": "eDAIG1f9ZAaP"
      },
      "execution_count": 17,
      "outputs": []
    },
    {
      "cell_type": "markdown",
      "source": [
        "The variational classifier model and its cost remain essentially the same, but we have to reload them with the new state preparation and layer functions."
      ],
      "metadata": {
        "id": "RRldgSmxZNRA"
      }
    },
    {
      "cell_type": "code",
      "source": [
        "@qml.qnode(dev)\n",
        "def circuit(weights, angles):\n",
        "    statepreparation(angles)\n",
        "\n",
        "    for W in weights:\n",
        "        layer(W)\n",
        "\n",
        "    return qml.expval(qml.PauliZ(0))\n",
        "\n",
        "\n",
        "def variational_classifier(weights, bias, angles):\n",
        "    return circuit(weights, angles) + bias\n",
        "\n",
        "\n",
        "def cost(weights, bias, features, labels):\n",
        "    predictions = [variational_classifier(weights, bias, f) for f in features]\n",
        "    return square_loss(labels, predictions)\n"
      ],
      "metadata": {
        "id": "iqU4t_beZLxL"
      },
      "execution_count": 18,
      "outputs": []
    },
    {
      "cell_type": "markdown",
      "source": [
        "## Data\n",
        "\n",
        "We then load the Iris data set. There is a bit of preprocessing to do in order to encode the inputs into the amplitudes of a quantum state. In the last preprocessing step, we translate the inputs x to rotation angles using the `get_angles` function we defined above.\n",
        "\n",
        "\n",
        "Get the data from [here](https://raw.githubusercontent.com/XanaduAI/qml/master/demonstrations/variational_classifier/data/iris_classes1and2_scaled.txt)"
      ],
      "metadata": {
        "id": "Xk7E5MgUZR8R"
      }
    },
    {
      "cell_type": "code",
      "source": [
        "data = np.loadtxt(\"variational/data/iris.txt\")\n",
        "X = data[:, 0:2]\n",
        "print(\"First X sample (original)  :\", X[0])\n",
        "\n",
        "# pad the vectors to size 2^2 with constant values\n",
        "padding = 0.3 * np.ones((len(X), 1))\n",
        "X_pad = np.c_[np.c_[X, padding], np.zeros((len(X), 1))]\n",
        "print(\"First X sample (padded)    :\", X_pad[0])\n",
        "\n",
        "# normalize each input\n",
        "normalization = np.sqrt(np.sum(X_pad ** 2, -1))\n",
        "X_norm = (X_pad.T / normalization).T\n",
        "print(\"First X sample (normalized):\", X_norm[0])\n",
        "\n",
        "# angles for state preparation are new features\n",
        "features = np.array([get_angles(x) for x in X_norm], requires_grad=False)\n",
        "print(\"First features sample      :\", features[0])\n",
        "\n",
        "Y = data[:, -1]"
      ],
      "metadata": {
        "colab": {
          "base_uri": "https://localhost:8080/"
        },
        "id": "veSusQZ7ZQek",
        "outputId": "2f560ca4-7ad2-46b7-e14a-0e6141c45c9b"
      },
      "execution_count": 19,
      "outputs": [
        {
          "output_type": "stream",
          "name": "stdout",
          "text": [
            "First X sample (original)  : [0.4  0.75]\n",
            "First X sample (padded)    : [0.4  0.75 0.3  0.  ]\n",
            "First X sample (normalized): [0.44376016 0.83205029 0.33282012 0.        ]\n",
            "First features sample      : [ 0.67858523 -0.          0.         -1.080839    1.080839  ]\n"
          ]
        }
      ]
    },
    {
      "cell_type": "markdown",
      "source": [
        "These angles are our new features, which is why we have renamed X to “features” above. Let’s plot the stages of preprocessing and play around with the dimensions (dim1, dim2). Some of them still separate the classes well, while others are less informative."
      ],
      "metadata": {
        "id": "cFYRjyW1Z0m2"
      }
    },
    {
      "cell_type": "code",
      "source": [
        "import matplotlib.pyplot as plt\n",
        "\n",
        "plt.figure()\n",
        "plt.scatter(X[:, 0][Y == 1], X[:, 1][Y == 1], c=\"b\", marker=\"o\", edgecolors=\"k\")\n",
        "plt.scatter(X[:, 0][Y == -1], X[:, 1][Y == -1], c=\"r\", marker=\"o\", edgecolors=\"k\")\n",
        "plt.title(\"Original data\")\n",
        "plt.show()\n",
        "\n",
        "plt.figure()\n",
        "dim1 = 0\n",
        "dim2 = 1\n",
        "plt.scatter(\n",
        "    X_norm[:, dim1][Y == 1], X_norm[:, dim2][Y == 1], c=\"b\", marker=\"o\", edgecolors=\"k\"\n",
        ")\n",
        "plt.scatter(\n",
        "    X_norm[:, dim1][Y == -1], X_norm[:, dim2][Y == -1], c=\"r\", marker=\"o\", edgecolors=\"k\"\n",
        ")\n",
        "plt.title(\"Padded and normalised data (dims {} and {})\".format(dim1, dim2))\n",
        "plt.show()\n",
        "\n",
        "plt.figure()\n",
        "dim1 = 0\n",
        "dim2 = 3\n",
        "plt.scatter(\n",
        "    features[:, dim1][Y == 1], features[:, dim2][Y == 1], c=\"b\", marker=\"o\", edgecolors=\"k\"\n",
        ")\n",
        "plt.scatter(\n",
        "    features[:, dim1][Y == -1], features[:, dim2][Y == -1], c=\"r\", marker=\"o\", edgecolors=\"k\"\n",
        ")\n",
        "plt.title(\"Feature vectors (dims {} and {})\".format(dim1, dim2))\n",
        "plt.show()"
      ],
      "metadata": {
        "colab": {
          "base_uri": "https://localhost:8080/",
          "height": 809
        },
        "id": "LOJeLTvXZvDB",
        "outputId": "be8d1c92-354f-42ad-d8e5-b2a1b08887d3"
      },
      "execution_count": 20,
      "outputs": [
        {
          "output_type": "display_data",
          "data": {
            "text/plain": [
              "<Figure size 432x288 with 1 Axes>"
            ],
            "image/png": "[encoded data removed]"
          },
          "metadata": {
            "needs_background": "light"
          }
        },
        {
          "output_type": "display_data",
          "data": {
            "text/plain": [
              "<Figure size 432x288 with 1 Axes>"
            ],
            "image/png": "[encoded data removed]"
          },
          "metadata": {
            "needs_background": "light"
          }
        },
        {
          "output_type": "display_data",
          "data": {
            "text/plain": [
              "<Figure size 432x288 with 1 Axes>"
            ],
            "image/png": "[encoded data removed]"
          },
          "metadata": {
            "needs_background": "light"
          }
        }
      ]
    },
    {
      "cell_type": "markdown",
      "source": [
        "This time we want to generalize from the data samples. To monitor the generalization performance, the data is split into training and validation set."
      ],
      "metadata": {
        "id": "IFi-ZNqjZ6u2"
      }
    },
    {
      "cell_type": "code",
      "source": [
        "np.random.seed(0)\n",
        "num_data = len(Y)\n",
        "num_train = int(0.75 * num_data)\n",
        "index = np.random.permutation(range(num_data))\n",
        "feats_train = features[index[:num_train]]\n",
        "Y_train = Y[index[:num_train]]\n",
        "feats_val = features[index[num_train:]]\n",
        "Y_val = Y[index[num_train:]]\n",
        "\n",
        "# We need these later for plotting\n",
        "X_train = X[index[:num_train]]\n",
        "X_val = X[index[num_train:]]\n"
      ],
      "metadata": {
        "id": "tnWL8fkmZ3xe"
      },
      "execution_count": 21,
      "outputs": []
    },
    {
      "cell_type": "markdown",
      "source": [
        "## Optimization\n",
        "\n",
        "First we initialize the variables\n"
      ],
      "metadata": {
        "id": "7FLHOvgfZ97Z"
      }
    },
    {
      "cell_type": "code",
      "source": [
        "num_qubits = 2\n",
        "num_layers = 6\n",
        "\n",
        "weights_init = 0.01 * np.random.randn(num_layers, num_qubits, 3, requires_grad=True)\n",
        "bias_init = np.array(0.0, requires_grad=True)"
      ],
      "metadata": {
        "id": "J3bNelPXZ9HX"
      },
      "execution_count": 22,
      "outputs": []
    },
    {
      "cell_type": "markdown",
      "source": [
        "Again, we optimize the cost"
      ],
      "metadata": {
        "id": "qmfW_lEjaEhZ"
      }
    },
    {
      "cell_type": "code",
      "source": [
        "\n",
        "opt = NesterovMomentumOptimizer(0.01)\n",
        "batch_size = 5\n",
        "\n",
        "# train the variational classifier\n",
        "weights = weights_init\n",
        "bias = bias_init\n",
        "for it in range(60):\n",
        "\n",
        "    # Update the weights by one optimizer step\n",
        "    batch_index = np.random.randint(0, num_train, (batch_size,))\n",
        "    feats_train_batch = feats_train[batch_index]\n",
        "    Y_train_batch = Y_train[batch_index]\n",
        "    weights, bias, _, _ = opt.step(cost, weights, bias, feats_train_batch, Y_train_batch)\n",
        "\n",
        "    # Compute predictions on train and validation set\n",
        "    predictions_train = [np.sign(variational_classifier(weights, bias, f)) for f in feats_train]\n",
        "    predictions_val = [np.sign(variational_classifier(weights, bias, f)) for f in feats_val]\n",
        "\n",
        "    # Compute accuracy on train and validation set\n",
        "    acc_train = accuracy(Y_train, predictions_train)\n",
        "    acc_val = accuracy(Y_val, predictions_val)\n",
        "\n",
        "    print(\n",
        "        \"Iter: {:5d} | Cost: {:0.7f} | Acc train: {:0.7f} | Acc validation: {:0.7f} \"\n",
        "        \"\".format(it + 1, cost(weights, bias, features, Y), acc_train, acc_val)\n",
        "    )"
      ],
      "metadata": {
        "colab": {
          "base_uri": "https://localhost:8080/"
        },
        "id": "rQlV4uryaDwO",
        "outputId": "150d6796-9cc4-4dbe-daa2-58800fa5d75b"
      },
      "execution_count": 23,
      "outputs": [
        {
          "output_type": "stream",
          "name": "stdout",
          "text": [
            "Iter:     1 | Cost: 1.4490948 | Acc train: 0.4933333 | Acc validation: 0.5600000 \n",
            "Iter:     2 | Cost: 1.3312057 | Acc train: 0.4933333 | Acc validation: 0.5600000 \n",
            "Iter:     3 | Cost: 1.1589332 | Acc train: 0.4533333 | Acc validation: 0.5600000 \n",
            "Iter:     4 | Cost: 0.9806934 | Acc train: 0.4800000 | Acc validation: 0.5600000 \n",
            "Iter:     5 | Cost: 0.8865623 | Acc train: 0.6133333 | Acc validation: 0.7600000 \n",
            "Iter:     6 | Cost: 0.8580769 | Acc train: 0.6933333 | Acc validation: 0.7600000 \n",
            "Iter:     7 | Cost: 0.8473132 | Acc train: 0.7200000 | Acc validation: 0.6800000 \n",
            "Iter:     8 | Cost: 0.8177533 | Acc train: 0.7333333 | Acc validation: 0.6800000 \n",
            "Iter:     9 | Cost: 0.8001100 | Acc train: 0.7466667 | Acc validation: 0.6800000 \n",
            "Iter:    10 | Cost: 0.7681053 | Acc train: 0.8000000 | Acc validation: 0.7600000 \n",
            "Iter:    11 | Cost: 0.7440015 | Acc train: 0.8133333 | Acc validation: 0.9600000 \n",
            "Iter:    12 | Cost: 0.7583777 | Acc train: 0.6800000 | Acc validation: 0.7600000 \n",
            "Iter:    13 | Cost: 0.7896372 | Acc train: 0.6533333 | Acc validation: 0.7200000 \n",
            "Iter:    14 | Cost: 0.8397790 | Acc train: 0.6133333 | Acc validation: 0.6400000 \n",
            "Iter:    15 | Cost: 0.8632423 | Acc train: 0.5733333 | Acc validation: 0.6000000 \n",
            "Iter:    16 | Cost: 0.8693517 | Acc train: 0.5733333 | Acc validation: 0.6000000 \n",
            "Iter:    17 | Cost: 0.8350625 | Acc train: 0.6266667 | Acc validation: 0.6400000 \n",
            "Iter:    18 | Cost: 0.7966558 | Acc train: 0.6266667 | Acc validation: 0.6400000 \n",
            "Iter:    19 | Cost: 0.7563381 | Acc train: 0.6800000 | Acc validation: 0.7600000 \n",
            "Iter:    20 | Cost: 0.7315459 | Acc train: 0.7733333 | Acc validation: 0.8000000 \n",
            "Iter:    21 | Cost: 0.7182359 | Acc train: 0.8800000 | Acc validation: 0.9600000 \n",
            "Iter:    22 | Cost: 0.7339132 | Acc train: 0.8133333 | Acc validation: 0.7200000 \n",
            "Iter:    23 | Cost: 0.7498571 | Acc train: 0.6533333 | Acc validation: 0.6400000 \n",
            "Iter:    24 | Cost: 0.7593763 | Acc train: 0.6000000 | Acc validation: 0.6400000 \n",
            "Iter:    25 | Cost: 0.7423832 | Acc train: 0.6800000 | Acc validation: 0.6400000 \n",
            "Iter:    26 | Cost: 0.7361186 | Acc train: 0.7333333 | Acc validation: 0.6800000 \n",
            "Iter:    27 | Cost: 0.7300201 | Acc train: 0.7600000 | Acc validation: 0.6800000 \n",
            "Iter:    28 | Cost: 0.7360923 | Acc train: 0.6666667 | Acc validation: 0.6400000 \n",
            "Iter:    29 | Cost: 0.7371325 | Acc train: 0.6533333 | Acc validation: 0.6400000 \n",
            "Iter:    30 | Cost: 0.7234520 | Acc train: 0.7466667 | Acc validation: 0.6800000 \n",
            "Iter:    31 | Cost: 0.7112089 | Acc train: 0.8133333 | Acc validation: 0.7600000 \n",
            "Iter:    32 | Cost: 0.6923495 | Acc train: 0.9200000 | Acc validation: 0.9200000 \n",
            "Iter:    33 | Cost: 0.6792510 | Acc train: 0.9200000 | Acc validation: 1.0000000 \n",
            "Iter:    34 | Cost: 0.6756795 | Acc train: 0.9200000 | Acc validation: 0.9600000 \n",
            "Iter:    35 | Cost: 0.6787274 | Acc train: 0.8933333 | Acc validation: 0.8000000 \n",
            "Iter:    36 | Cost: 0.6938181 | Acc train: 0.7466667 | Acc validation: 0.6800000 \n",
            "Iter:    37 | Cost: 0.6765225 | Acc train: 0.8266667 | Acc validation: 0.8000000 \n",
            "Iter:    38 | Cost: 0.6708057 | Acc train: 0.8266667 | Acc validation: 0.8000000 \n",
            "Iter:    39 | Cost: 0.6740248 | Acc train: 0.7600000 | Acc validation: 0.7200000 \n",
            "Iter:    40 | Cost: 0.6835014 | Acc train: 0.6666667 | Acc validation: 0.6400000 \n",
            "Iter:    41 | Cost: 0.6686811 | Acc train: 0.7333333 | Acc validation: 0.7200000 \n",
            "Iter:    42 | Cost: 0.6217025 | Acc train: 0.8933333 | Acc validation: 0.8400000 \n",
            "Iter:    43 | Cost: 0.6004307 | Acc train: 0.9066667 | Acc validation: 0.9200000 \n",
            "Iter:    44 | Cost: 0.5910768 | Acc train: 0.9066667 | Acc validation: 0.9200000 \n",
            "Iter:    45 | Cost: 0.5694770 | Acc train: 0.9200000 | Acc validation: 0.9600000 \n",
            "Iter:    46 | Cost: 0.5588385 | Acc train: 0.9200000 | Acc validation: 0.9600000 \n",
            "Iter:    47 | Cost: 0.5381473 | Acc train: 0.9466667 | Acc validation: 1.0000000 \n",
            "Iter:    48 | Cost: 0.5205658 | Acc train: 0.9466667 | Acc validation: 1.0000000 \n",
            "Iter:    49 | Cost: 0.5064983 | Acc train: 0.9466667 | Acc validation: 1.0000000 \n",
            "Iter:    50 | Cost: 0.4969733 | Acc train: 0.9466667 | Acc validation: 1.0000000 \n",
            "Iter:    51 | Cost: 0.4782257 | Acc train: 0.9466667 | Acc validation: 1.0000000 \n",
            "Iter:    52 | Cost: 0.4536953 | Acc train: 0.9600000 | Acc validation: 1.0000000 \n",
            "Iter:    53 | Cost: 0.4350300 | Acc train: 1.0000000 | Acc validation: 1.0000000 \n",
            "Iter:    54 | Cost: 0.4272909 | Acc train: 0.9733333 | Acc validation: 0.9600000 \n",
            "Iter:    55 | Cost: 0.4288929 | Acc train: 0.9466667 | Acc validation: 0.9200000 \n",
            "Iter:    56 | Cost: 0.4261037 | Acc train: 0.9333333 | Acc validation: 0.9200000 \n",
            "Iter:    57 | Cost: 0.4082663 | Acc train: 0.9466667 | Acc validation: 0.9200000 \n",
            "Iter:    58 | Cost: 0.3698736 | Acc train: 0.9600000 | Acc validation: 0.9200000 \n",
            "Iter:    59 | Cost: 0.3420686 | Acc train: 1.0000000 | Acc validation: 1.0000000 \n",
            "Iter:    60 | Cost: 0.3253480 | Acc train: 1.0000000 | Acc validation: 1.0000000 \n",
            "Iter:     1 | Cost: 1.4343058 | Acc train: 0.4933333 | Acc validation: 0.5600000 \n",
            "Iter:     2 | Cost: 1.2823996 | Acc train: 0.4933333 | Acc validation: 0.5600000 \n",
            "Iter:     3 | Cost: 1.1375452 | Acc train: 0.4533333 | Acc validation: 0.5600000 \n",
            "Iter:     4 | Cost: 1.0266429 | Acc train: 0.4666667 | Acc validation: 0.5600000 \n",
            "Iter:     5 | Cost: 0.9357324 | Acc train: 0.5200000 | Acc validation: 0.6000000 \n",
            "Iter:     6 | Cost: 0.8728969 | Acc train: 0.5866667 | Acc validation: 0.7600000 \n",
            "Iter:     7 | Cost: 0.8375035 | Acc train: 0.6800000 | Acc validation: 0.7600000 \n",
            "Iter:     8 | Cost: 0.8086149 | Acc train: 0.7600000 | Acc validation: 0.8000000 \n",
            "Iter:     9 | Cost: 0.7920516 | Acc train: 0.8000000 | Acc validation: 0.8000000 \n",
            "Iter:    10 | Cost: 0.7786248 | Acc train: 0.7866667 | Acc validation: 0.7600000 \n",
            "Iter:    11 | Cost: 0.7787500 | Acc train: 0.7466667 | Acc validation: 0.6800000 \n",
            "Iter:    12 | Cost: 0.7684224 | Acc train: 0.7333333 | Acc validation: 0.6800000 \n",
            "Iter:    13 | Cost: 0.7468000 | Acc train: 0.7733333 | Acc validation: 0.7200000 \n",
            "Iter:    14 | Cost: 0.7421490 | Acc train: 0.7600000 | Acc validation: 0.6800000 \n",
            "Iter:    15 | Cost: 0.7303465 | Acc train: 0.8400000 | Acc validation: 0.8400000 \n",
            "Iter:    16 | Cost: 0.7218077 | Acc train: 0.8800000 | Acc validation: 0.9600000 \n",
            "Iter:    17 | Cost: 0.7258294 | Acc train: 0.8133333 | Acc validation: 0.9200000 \n",
            "Iter:    18 | Cost: 0.7326151 | Acc train: 0.8266667 | Acc validation: 0.9200000 \n",
            "Iter:    19 | Cost: 0.7319506 | Acc train: 0.8133333 | Acc validation: 0.9200000 \n",
            "Iter:    20 | Cost: 0.7279744 | Acc train: 0.8266667 | Acc validation: 0.9200000 \n",
            "Iter:    21 | Cost: 0.7210869 | Acc train: 0.8800000 | Acc validation: 0.9600000 \n",
            "Iter:    22 | Cost: 0.7155283 | Acc train: 0.8800000 | Acc validation: 0.9600000 \n",
            "Iter:    23 | Cost: 0.7145997 | Acc train: 0.8533333 | Acc validation: 0.9200000 \n",
            "Iter:    24 | Cost: 0.7093569 | Acc train: 0.8533333 | Acc validation: 0.9200000 \n",
            "Iter:    25 | Cost: 0.7088305 | Acc train: 0.8533333 | Acc validation: 0.9200000 \n",
            "Iter:    26 | Cost: 0.6993786 | Acc train: 0.8666667 | Acc validation: 0.9200000 \n",
            "Iter:    27 | Cost: 0.6911881 | Acc train: 0.8533333 | Acc validation: 0.9200000 \n",
            "Iter:    28 | Cost: 0.6889397 | Acc train: 0.8666667 | Acc validation: 0.9200000 \n",
            "Iter:    29 | Cost: 0.6753967 | Acc train: 0.9066667 | Acc validation: 0.9600000 \n",
            "Iter:    30 | Cost: 0.6664242 | Acc train: 0.9200000 | Acc validation: 1.0000000 \n",
            "Iter:    31 | Cost: 0.6723145 | Acc train: 0.8533333 | Acc validation: 0.8000000 \n",
            "Iter:    32 | Cost: 0.6931079 | Acc train: 0.7200000 | Acc validation: 0.7200000 \n",
            "Iter:    33 | Cost: 0.7069079 | Acc train: 0.6000000 | Acc validation: 0.5600000 \n",
            "Iter:    34 | Cost: 0.7181192 | Acc train: 0.5866667 | Acc validation: 0.5200000 \n",
            "Iter:    35 | Cost: 0.6732392 | Acc train: 0.7333333 | Acc validation: 0.7600000 \n",
            "Iter:    36 | Cost: 0.6365898 | Acc train: 0.8800000 | Acc validation: 0.8400000 \n",
            "Iter:    37 | Cost: 0.6135017 | Acc train: 0.9466667 | Acc validation: 1.0000000 \n",
            "Iter:    38 | Cost: 0.6173204 | Acc train: 0.9200000 | Acc validation: 0.9200000 \n",
            "Iter:    39 | Cost: 0.6181296 | Acc train: 0.8800000 | Acc validation: 0.9200000 \n",
            "Iter:    40 | Cost: 0.6116891 | Acc train: 0.8933333 | Acc validation: 0.9200000 \n",
            "Iter:    41 | Cost: 0.6185524 | Acc train: 0.8400000 | Acc validation: 0.9200000 \n",
            "Iter:    42 | Cost: 0.6523419 | Acc train: 0.6933333 | Acc validation: 0.7200000 \n",
            "Iter:    43 | Cost: 0.6679560 | Acc train: 0.6666667 | Acc validation: 0.6400000 \n",
            "Iter:    44 | Cost: 0.6674770 | Acc train: 0.6666667 | Acc validation: 0.6400000 \n",
            "Iter:    45 | Cost: 0.6545126 | Acc train: 0.6666667 | Acc validation: 0.6400000 \n",
            "Iter:    46 | Cost: 0.6160590 | Acc train: 0.7600000 | Acc validation: 0.7200000 \n",
            "Iter:    47 | Cost: 0.5706839 | Acc train: 0.8533333 | Acc validation: 0.9200000 \n",
            "Iter:    48 | Cost: 0.5333502 | Acc train: 0.9600000 | Acc validation: 0.9200000 \n",
            "Iter:    49 | Cost: 0.5102810 | Acc train: 0.9733333 | Acc validation: 0.9600000 \n",
            "Iter:    50 | Cost: 0.4852555 | Acc train: 1.0000000 | Acc validation: 1.0000000 \n",
            "Iter:    51 | Cost: 0.4586707 | Acc train: 1.0000000 | Acc validation: 1.0000000 \n",
            "Iter:    52 | Cost: 0.4386251 | Acc train: 0.9866667 | Acc validation: 1.0000000 \n",
            "Iter:    53 | Cost: 0.4230347 | Acc train: 0.9866667 | Acc validation: 1.0000000 \n",
            "Iter:    54 | Cost: 0.4083736 | Acc train: 0.9733333 | Acc validation: 1.0000000 \n",
            "Iter:    55 | Cost: 0.3942317 | Acc train: 0.9733333 | Acc validation: 1.0000000 \n",
            "Iter:    56 | Cost: 0.3775060 | Acc train: 0.9866667 | Acc validation: 1.0000000 \n",
            "Iter:    57 | Cost: 0.3639581 | Acc train: 1.0000000 | Acc validation: 1.0000000 \n",
            "Iter:    58 | Cost: 0.3553534 | Acc train: 1.0000000 | Acc validation: 1.0000000 \n",
            "Iter:    59 | Cost: 0.3466206 | Acc train: 1.0000000 | Acc validation: 1.0000000 \n",
            "Iter:    60 | Cost: 0.3390452 | Acc train: 1.0000000 | Acc validation: 1.0000000 \n",
            "Iter:     1 | Cost: 1.4255599 | Acc train: 0.4933333 | Acc validation: 0.5600000 \n",
            "Iter:     2 | Cost: 1.3438758 | Acc train: 0.4933333 | Acc validation: 0.5600000 \n",
            "Iter:     3 | Cost: 1.2629339 | Acc train: 0.4933333 | Acc validation: 0.5600000 \n",
            "Iter:     4 | Cost: 1.1787994 | Acc train: 0.4800000 | Acc validation: 0.5600000 \n",
            "Iter:     5 | Cost: 1.0637003 | Acc train: 0.4800000 | Acc validation: 0.5600000 \n",
            "Iter:     6 | Cost: 0.9474419 | Acc train: 0.4933333 | Acc validation: 0.5600000 \n",
            "Iter:     7 | Cost: 0.8432361 | Acc train: 0.6266667 | Acc validation: 0.7600000 \n",
            "Iter:     8 | Cost: 0.8053478 | Acc train: 0.7600000 | Acc validation: 0.8400000 \n",
            "Iter:     9 | Cost: 0.8343735 | Acc train: 0.6400000 | Acc validation: 0.6400000 \n",
            "Iter:    10 | Cost: 0.8627575 | Acc train: 0.5600000 | Acc validation: 0.4800000 \n",
            "Iter:    11 | Cost: 0.8758388 | Acc train: 0.5333333 | Acc validation: 0.4400000 \n",
            "Iter:    12 | Cost: 0.8380779 | Acc train: 0.5333333 | Acc validation: 0.4800000 \n",
            "Iter:    13 | Cost: 0.7548203 | Acc train: 0.7200000 | Acc validation: 0.6800000 \n",
            "Iter:    14 | Cost: 0.7201367 | Acc train: 0.8800000 | Acc validation: 1.0000000 \n",
            "Iter:    15 | Cost: 0.7411357 | Acc train: 0.7466667 | Acc validation: 0.7600000 \n",
            "Iter:    16 | Cost: 0.8108804 | Acc train: 0.6400000 | Acc validation: 0.6400000 \n",
            "Iter:    17 | Cost: 0.8864019 | Acc train: 0.5733333 | Acc validation: 0.6000000 \n",
            "Iter:    18 | Cost: 0.9668866 | Acc train: 0.5466667 | Acc validation: 0.5600000 \n",
            "Iter:    19 | Cost: 1.0392077 | Acc train: 0.5466667 | Acc validation: 0.5600000 \n",
            "Iter:    20 | Cost: 1.0797906 | Acc train: 0.5466667 | Acc validation: 0.5600000 \n",
            "Iter:    21 | Cost: 1.0896552 | Acc train: 0.5466667 | Acc validation: 0.5600000 \n",
            "Iter:    22 | Cost: 1.0510823 | Acc train: 0.5466667 | Acc validation: 0.5600000 \n",
            "Iter:    23 | Cost: 0.9974279 | Acc train: 0.5466667 | Acc validation: 0.5600000 \n",
            "Iter:    24 | Cost: 0.9336845 | Acc train: 0.5600000 | Acc validation: 0.6000000 \n",
            "Iter:    25 | Cost: 0.8960334 | Acc train: 0.5600000 | Acc validation: 0.6000000 \n",
            "Iter:    26 | Cost: 0.8213553 | Acc train: 0.6133333 | Acc validation: 0.6000000 \n",
            "Iter:    27 | Cost: 0.7364379 | Acc train: 0.6666667 | Acc validation: 0.6400000 \n",
            "Iter:    28 | Cost: 0.6634673 | Acc train: 0.8133333 | Acc validation: 0.8000000 \n",
            "Iter:    29 | Cost: 0.6376125 | Acc train: 0.8666667 | Acc validation: 0.9200000 \n",
            "Iter:    30 | Cost: 0.6493091 | Acc train: 0.9066667 | Acc validation: 0.9600000 \n",
            "Iter:    31 | Cost: 0.7024020 | Acc train: 0.7200000 | Acc validation: 0.6800000 \n",
            "Iter:    32 | Cost: 0.7303731 | Acc train: 0.6400000 | Acc validation: 0.6400000 \n",
            "Iter:    33 | Cost: 0.6950323 | Acc train: 0.6933333 | Acc validation: 0.6400000 \n",
            "Iter:    34 | Cost: 0.6417225 | Acc train: 0.7733333 | Acc validation: 0.7200000 \n",
            "Iter:    35 | Cost: 0.5857049 | Acc train: 0.9066667 | Acc validation: 0.9200000 \n",
            "Iter:    36 | Cost: 0.5349393 | Acc train: 0.9333333 | Acc validation: 1.0000000 \n",
            "Iter:    37 | Cost: 0.4970762 | Acc train: 0.9200000 | Acc validation: 1.0000000 \n",
            "Iter:    38 | Cost: 0.4692431 | Acc train: 0.9600000 | Acc validation: 0.9600000 \n",
            "Iter:    39 | Cost: 0.4483889 | Acc train: 0.9466667 | Acc validation: 0.9200000 \n",
            "Iter:    40 | Cost: 0.4300282 | Acc train: 0.9600000 | Acc validation: 0.9200000 \n",
            "Iter:    41 | Cost: 0.4171287 | Acc train: 0.9466667 | Acc validation: 0.9200000 \n",
            "Iter:    42 | Cost: 0.4040047 | Acc train: 0.9600000 | Acc validation: 0.9200000 \n",
            "Iter:    43 | Cost: 0.3927142 | Acc train: 0.9600000 | Acc validation: 0.9200000 \n",
            "Iter:    44 | Cost: 0.3700163 | Acc train: 0.9600000 | Acc validation: 0.9200000 \n",
            "Iter:    45 | Cost: 0.3429887 | Acc train: 0.9733333 | Acc validation: 0.9600000 \n",
            "Iter:    46 | Cost: 0.3195273 | Acc train: 1.0000000 | Acc validation: 1.0000000 \n",
            "Iter:    47 | Cost: 0.3060264 | Acc train: 1.0000000 | Acc validation: 1.0000000 \n",
            "Iter:    48 | Cost: 0.2991315 | Acc train: 1.0000000 | Acc validation: 1.0000000 \n",
            "Iter:    49 | Cost: 0.3012888 | Acc train: 0.9866667 | Acc validation: 1.0000000 \n",
            "Iter:    50 | Cost: 0.3010054 | Acc train: 0.9866667 | Acc validation: 1.0000000 \n",
            "Iter:    51 | Cost: 0.2932498 | Acc train: 0.9866667 | Acc validation: 1.0000000 \n",
            "Iter:    52 | Cost: 0.2801224 | Acc train: 0.9866667 | Acc validation: 1.0000000 \n",
            "Iter:    53 | Cost: 0.2722974 | Acc train: 0.9866667 | Acc validation: 1.0000000 \n",
            "Iter:    54 | Cost: 0.2652886 | Acc train: 0.9866667 | Acc validation: 1.0000000 \n",
            "Iter:    55 | Cost: 0.2585635 | Acc train: 1.0000000 | Acc validation: 1.0000000 \n",
            "Iter:    56 | Cost: 0.2526253 | Acc train: 1.0000000 | Acc validation: 1.0000000 \n",
            "Iter:    57 | Cost: 0.2488337 | Acc train: 1.0000000 | Acc validation: 1.0000000 \n",
            "Iter:    58 | Cost: 0.2465852 | Acc train: 0.9866667 | Acc validation: 1.0000000 \n",
            "Iter:    59 | Cost: 0.2451489 | Acc train: 0.9866667 | Acc validation: 1.0000000 \n",
            "Iter:    60 | Cost: 0.2452397 | Acc train: 0.9866667 | Acc validation: 1.0000000 \n",
            "Iter:     1 | Cost: 1.4508493 | Acc train: 0.4933333 | Acc validation: 0.5600000 \n",
            "Iter:     2 | Cost: 1.3327317 | Acc train: 0.4933333 | Acc validation: 0.5600000 \n",
            "Iter:     3 | Cost: 1.2106946 | Acc train: 0.4800000 | Acc validation: 0.5600000 \n",
            "Iter:     4 | Cost: 1.0914785 | Acc train: 0.4666667 | Acc validation: 0.5600000 \n",
            "Iter:     5 | Cost: 0.9903260 | Acc train: 0.4933333 | Acc validation: 0.5600000 \n",
            "Iter:     6 | Cost: 0.8694936 | Acc train: 0.5733333 | Acc validation: 0.7600000 \n",
            "Iter:     7 | Cost: 0.8172001 | Acc train: 0.7333333 | Acc validation: 0.7200000 \n",
            "Iter:     8 | Cost: 0.8197257 | Acc train: 0.7333333 | Acc validation: 0.6800000 \n",
            "Iter:     9 | Cost: 0.8211951 | Acc train: 0.6400000 | Acc validation: 0.6400000 \n",
            "Iter:    10 | Cost: 0.8273930 | Acc train: 0.6133333 | Acc validation: 0.6400000 \n",
            "Iter:    11 | Cost: 0.7877739 | Acc train: 0.6400000 | Acc validation: 0.6400000 \n",
            "Iter:    12 | Cost: 0.7529707 | Acc train: 0.7466667 | Acc validation: 0.6800000 \n",
            "Iter:    13 | Cost: 0.7291275 | Acc train: 0.8400000 | Acc validation: 0.8800000 \n",
            "Iter:    14 | Cost: 0.7214400 | Acc train: 0.8800000 | Acc validation: 1.0000000 \n",
            "Iter:    15 | Cost: 0.7229250 | Acc train: 0.8400000 | Acc validation: 0.9200000 \n",
            "Iter:    16 | Cost: 0.7326839 | Acc train: 0.8000000 | Acc validation: 0.9200000 \n",
            "Iter:    17 | Cost: 0.7383741 | Acc train: 0.8000000 | Acc validation: 0.8000000 \n",
            "Iter:    18 | Cost: 0.7355361 | Acc train: 0.8000000 | Acc validation: 0.9200000 \n",
            "Iter:    19 | Cost: 0.7326418 | Acc train: 0.8266667 | Acc validation: 0.9200000 \n",
            "Iter:    20 | Cost: 0.7340785 | Acc train: 0.8400000 | Acc validation: 0.9200000 \n",
            "Iter:    21 | Cost: 0.7357967 | Acc train: 0.8933333 | Acc validation: 1.0000000 \n",
            "Iter:    22 | Cost: 0.7647163 | Acc train: 0.5333333 | Acc validation: 0.4400000 \n",
            "Iter:    23 | Cost: 0.7819105 | Acc train: 0.5333333 | Acc validation: 0.4400000 \n",
            "Iter:    24 | Cost: 0.7741221 | Acc train: 0.5333333 | Acc validation: 0.4400000 \n",
            "Iter:    25 | Cost: 0.7512644 | Acc train: 0.5600000 | Acc validation: 0.4400000 \n",
            "Iter:    26 | Cost: 0.7230790 | Acc train: 0.8666667 | Acc validation: 0.8400000 \n",
            "Iter:    27 | Cost: 0.7042868 | Acc train: 0.9066667 | Acc validation: 0.9600000 \n",
            "Iter:    28 | Cost: 0.7111816 | Acc train: 0.8266667 | Acc validation: 0.9200000 \n",
            "Iter:    29 | Cost: 0.7099015 | Acc train: 0.7733333 | Acc validation: 0.7600000 \n",
            "Iter:    30 | Cost: 0.7237095 | Acc train: 0.6933333 | Acc validation: 0.7200000 \n",
            "Iter:    31 | Cost: 0.7197422 | Acc train: 0.6933333 | Acc validation: 0.7200000 \n",
            "Iter:    32 | Cost: 0.7029253 | Acc train: 0.6933333 | Acc validation: 0.7200000 \n",
            "Iter:    33 | Cost: 0.6729647 | Acc train: 0.7733333 | Acc validation: 0.7600000 \n",
            "Iter:    34 | Cost: 0.6515481 | Acc train: 0.8533333 | Acc validation: 0.9200000 \n",
            "Iter:    35 | Cost: 0.6356539 | Acc train: 0.9066667 | Acc validation: 1.0000000 \n",
            "Iter:    36 | Cost: 0.6461299 | Acc train: 0.8933333 | Acc validation: 0.8400000 \n",
            "Iter:    37 | Cost: 0.6687867 | Acc train: 0.7733333 | Acc validation: 0.7600000 \n",
            "Iter:    38 | Cost: 0.6883987 | Acc train: 0.6666667 | Acc validation: 0.6400000 \n",
            "Iter:    39 | Cost: 0.6894650 | Acc train: 0.6666667 | Acc validation: 0.6400000 \n",
            "Iter:    40 | Cost: 0.6590391 | Acc train: 0.7333333 | Acc validation: 0.7600000 \n",
            "Iter:    41 | Cost: 0.6388764 | Acc train: 0.8266667 | Acc validation: 0.8000000 \n",
            "Iter:    42 | Cost: 0.6276480 | Acc train: 0.8266667 | Acc validation: 0.8000000 \n",
            "Iter:    43 | Cost: 0.6092665 | Acc train: 0.8400000 | Acc validation: 0.8000000 \n",
            "Iter:    44 | Cost: 0.5618256 | Acc train: 0.9333333 | Acc validation: 1.0000000 \n",
            "Iter:    45 | Cost: 0.5385674 | Acc train: 0.9600000 | Acc validation: 1.0000000 \n",
            "Iter:    46 | Cost: 0.5290338 | Acc train: 0.9333333 | Acc validation: 0.9200000 \n",
            "Iter:    47 | Cost: 0.5201610 | Acc train: 0.9333333 | Acc validation: 0.9200000 \n",
            "Iter:    48 | Cost: 0.5117306 | Acc train: 0.8933333 | Acc validation: 0.9200000 \n",
            "Iter:    49 | Cost: 0.5096188 | Acc train: 0.8800000 | Acc validation: 0.9200000 \n",
            "Iter:    50 | Cost: 0.5037851 | Acc train: 0.8666667 | Acc validation: 0.9200000 \n",
            "Iter:    51 | Cost: 0.4861966 | Acc train: 0.8800000 | Acc validation: 0.9200000 \n",
            "Iter:    52 | Cost: 0.4640838 | Acc train: 0.8933333 | Acc validation: 0.9200000 \n",
            "Iter:    53 | Cost: 0.4597279 | Acc train: 0.8933333 | Acc validation: 0.9200000 \n",
            "Iter:    54 | Cost: 0.4502758 | Acc train: 0.8933333 | Acc validation: 0.9200000 \n",
            "Iter:    55 | Cost: 0.4431786 | Acc train: 0.8800000 | Acc validation: 0.9200000 \n",
            "Iter:    56 | Cost: 0.4155888 | Acc train: 0.9333333 | Acc validation: 0.9200000 \n",
            "Iter:    57 | Cost: 0.3905666 | Acc train: 0.9466667 | Acc validation: 0.9200000 \n",
            "Iter:    58 | Cost: 0.3745334 | Acc train: 0.9600000 | Acc validation: 0.9200000 \n",
            "Iter:    59 | Cost: 0.3528154 | Acc train: 0.9600000 | Acc validation: 0.9200000 \n",
            "Iter:    60 | Cost: 0.3352920 | Acc train: 0.9733333 | Acc validation: 0.9600000 \n",
            "Iter:     1 | Cost: 1.4817982 | Acc train: 0.4933333 | Acc validation: 0.5600000 \n",
            "Iter:     2 | Cost: 1.3786181 | Acc train: 0.4933333 | Acc validation: 0.5600000 \n",
            "Iter:     3 | Cost: 1.2652595 | Acc train: 0.4933333 | Acc validation: 0.5600000 \n",
            "Iter:     4 | Cost: 1.1304112 | Acc train: 0.4800000 | Acc validation: 0.5600000 \n",
            "Iter:     5 | Cost: 1.0085131 | Acc train: 0.4933333 | Acc validation: 0.5600000 \n",
            "Iter:     6 | Cost: 0.9046338 | Acc train: 0.5466667 | Acc validation: 0.6400000 \n",
            "Iter:     7 | Cost: 0.8427924 | Acc train: 0.6400000 | Acc validation: 0.7600000 \n",
            "Iter:     8 | Cost: 0.8188130 | Acc train: 0.7200000 | Acc validation: 0.7600000 \n",
            "Iter:     9 | Cost: 0.8488776 | Acc train: 0.6400000 | Acc validation: 0.6400000 \n",
            "Iter:    10 | Cost: 0.8631006 | Acc train: 0.5866667 | Acc validation: 0.5600000 \n",
            "Iter:    11 | Cost: 0.8446128 | Acc train: 0.5866667 | Acc validation: 0.5600000 \n",
            "Iter:    12 | Cost: 0.8179604 | Acc train: 0.6266667 | Acc validation: 0.6400000 \n",
            "Iter:    13 | Cost: 0.7471253 | Acc train: 0.8266667 | Acc validation: 0.7600000 \n",
            "Iter:    14 | Cost: 0.7236662 | Acc train: 0.8133333 | Acc validation: 0.9200000 \n",
            "Iter:    15 | Cost: 0.7531339 | Acc train: 0.6800000 | Acc validation: 0.7600000 \n",
            "Iter:    16 | Cost: 0.8199139 | Acc train: 0.6400000 | Acc validation: 0.6400000 \n",
            "Iter:    17 | Cost: 0.8576253 | Acc train: 0.6000000 | Acc validation: 0.6000000 \n",
            "Iter:    18 | Cost: 0.8620869 | Acc train: 0.6133333 | Acc validation: 0.6000000 \n",
            "Iter:    19 | Cost: 0.8922519 | Acc train: 0.5733333 | Acc validation: 0.6000000 \n",
            "Iter:    20 | Cost: 0.8914904 | Acc train: 0.5733333 | Acc validation: 0.6000000 \n",
            "Iter:    21 | Cost: 0.8746611 | Acc train: 0.5866667 | Acc validation: 0.6000000 \n",
            "Iter:    22 | Cost: 0.8475210 | Acc train: 0.6133333 | Acc validation: 0.6000000 \n",
            "Iter:    23 | Cost: 0.8081607 | Acc train: 0.6400000 | Acc validation: 0.6400000 \n",
            "Iter:    24 | Cost: 0.7489328 | Acc train: 0.6933333 | Acc validation: 0.7200000 \n",
            "Iter:    25 | Cost: 0.7022298 | Acc train: 0.8266667 | Acc validation: 0.9200000 \n",
            "Iter:    26 | Cost: 0.6830616 | Acc train: 0.8933333 | Acc validation: 0.9600000 \n",
            "Iter:    27 | Cost: 0.7002880 | Acc train: 0.8133333 | Acc validation: 0.7600000 \n",
            "Iter:    28 | Cost: 0.7630780 | Acc train: 0.5333333 | Acc validation: 0.4400000 \n",
            "Iter:    29 | Cost: 0.7872350 | Acc train: 0.5200000 | Acc validation: 0.4400000 \n",
            "Iter:    30 | Cost: 0.7695144 | Acc train: 0.5200000 | Acc validation: 0.4400000 \n",
            "Iter:    31 | Cost: 0.7217459 | Acc train: 0.6266667 | Acc validation: 0.6400000 \n",
            "Iter:    32 | Cost: 0.6668024 | Acc train: 0.8133333 | Acc validation: 0.7600000 \n",
            "Iter:    33 | Cost: 0.6305481 | Acc train: 0.9066667 | Acc validation: 0.9600000 \n",
            "Iter:    34 | Cost: 0.5896638 | Acc train: 0.9066667 | Acc validation: 0.9600000 \n",
            "Iter:    35 | Cost: 0.5751247 | Acc train: 0.8666667 | Acc validation: 0.9200000 \n",
            "Iter:    36 | Cost: 0.5796049 | Acc train: 0.8400000 | Acc validation: 0.9200000 \n",
            "Iter:    37 | Cost: 0.5767425 | Acc train: 0.8000000 | Acc validation: 0.8400000 \n",
            "Iter:    38 | Cost: 0.5552557 | Acc train: 0.8133333 | Acc validation: 0.8400000 \n",
            "Iter:    39 | Cost: 0.5272815 | Acc train: 0.8400000 | Acc validation: 0.8800000 \n",
            "Iter:    40 | Cost: 0.4932512 | Acc train: 0.8533333 | Acc validation: 0.9200000 \n",
            "Iter:    41 | Cost: 0.4562280 | Acc train: 0.8933333 | Acc validation: 0.9200000 \n",
            "Iter:    42 | Cost: 0.4210985 | Acc train: 0.9466667 | Acc validation: 0.9200000 \n",
            "Iter:    43 | Cost: 0.3960916 | Acc train: 0.9600000 | Acc validation: 0.9200000 \n",
            "Iter:    44 | Cost: 0.3672423 | Acc train: 0.9733333 | Acc validation: 0.9600000 \n",
            "Iter:    45 | Cost: 0.3439843 | Acc train: 1.0000000 | Acc validation: 1.0000000 \n",
            "Iter:    46 | Cost: 0.3286987 | Acc train: 1.0000000 | Acc validation: 1.0000000 \n",
            "Iter:    47 | Cost: 0.3172685 | Acc train: 1.0000000 | Acc validation: 1.0000000 \n",
            "Iter:    48 | Cost: 0.3117586 | Acc train: 0.9733333 | Acc validation: 1.0000000 \n",
            "Iter:    49 | Cost: 0.3116143 | Acc train: 0.9600000 | Acc validation: 1.0000000 \n",
            "Iter:    50 | Cost: 0.3120069 | Acc train: 0.9600000 | Acc validation: 1.0000000 \n",
            "Iter:    51 | Cost: 0.3196927 | Acc train: 0.9600000 | Acc validation: 1.0000000 \n",
            "Iter:    52 | Cost: 0.3204193 | Acc train: 0.9333333 | Acc validation: 0.9600000 \n",
            "Iter:    53 | Cost: 0.3180826 | Acc train: 0.9333333 | Acc validation: 0.9600000 \n",
            "Iter:    54 | Cost: 0.3057767 | Acc train: 0.9466667 | Acc validation: 1.0000000 \n",
            "Iter:    55 | Cost: 0.2894456 | Acc train: 0.9733333 | Acc validation: 1.0000000 \n",
            "Iter:    56 | Cost: 0.2699037 | Acc train: 0.9866667 | Acc validation: 1.0000000 \n",
            "Iter:    57 | Cost: 0.2615616 | Acc train: 0.9866667 | Acc validation: 1.0000000 \n",
            "Iter:    58 | Cost: 0.2532180 | Acc train: 1.0000000 | Acc validation: 1.0000000 \n",
            "Iter:    59 | Cost: 0.2475917 | Acc train: 1.0000000 | Acc validation: 1.0000000 \n",
            "Iter:    60 | Cost: 0.2457421 | Acc train: 1.0000000 | Acc validation: 1.0000000 \n",
            "Iter:     1 | Cost: 1.4808708 | Acc train: 0.4933333 | Acc validation: 0.5600000 \n",
            "Iter:     2 | Cost: 1.3880179 | Acc train: 0.4933333 | Acc validation: 0.5600000 \n",
            "Iter:     3 | Cost: 1.2248259 | Acc train: 0.4800000 | Acc validation: 0.5600000 \n",
            "Iter:     4 | Cost: 1.0775743 | Acc train: 0.4666667 | Acc validation: 0.5600000 \n",
            "Iter:     5 | Cost: 0.9647386 | Acc train: 0.5066667 | Acc validation: 0.6000000 \n",
            "Iter:     6 | Cost: 0.8878079 | Acc train: 0.6000000 | Acc validation: 0.7600000 \n",
            "Iter:     7 | Cost: 0.8583608 | Acc train: 0.7200000 | Acc validation: 0.6800000 \n",
            "Iter:     8 | Cost: 0.8426148 | Acc train: 0.7200000 | Acc validation: 0.6800000 \n",
            "Iter:     9 | Cost: 0.8294607 | Acc train: 0.7200000 | Acc validation: 0.6800000 \n",
            "Iter:    10 | Cost: 0.8192948 | Acc train: 0.6666667 | Acc validation: 0.6400000 \n",
            "Iter:    11 | Cost: 0.7828099 | Acc train: 0.7333333 | Acc validation: 0.6800000 \n",
            "Iter:    12 | Cost: 0.7458209 | Acc train: 0.8400000 | Acc validation: 0.8400000 \n",
            "Iter:    13 | Cost: 0.7256130 | Acc train: 0.8666667 | Acc validation: 1.0000000 \n",
            "Iter:    14 | Cost: 0.7178968 | Acc train: 0.8133333 | Acc validation: 0.9200000 \n",
            "Iter:    15 | Cost: 0.7185809 | Acc train: 0.8133333 | Acc validation: 0.9200000 \n",
            "Iter:    16 | Cost: 0.7160635 | Acc train: 0.8133333 | Acc validation: 0.9200000 \n",
            "Iter:    17 | Cost: 0.7164378 | Acc train: 0.8400000 | Acc validation: 0.9200000 \n",
            "Iter:    18 | Cost: 0.7223629 | Acc train: 0.8266667 | Acc validation: 0.9200000 \n",
            "Iter:    19 | Cost: 0.7295600 | Acc train: 0.8400000 | Acc validation: 0.9200000 \n",
            "Iter:    20 | Cost: 0.7297890 | Acc train: 0.8400000 | Acc validation: 0.9200000 \n",
            "Iter:    21 | Cost: 0.7230080 | Acc train: 0.8933333 | Acc validation: 1.0000000 \n",
            "Iter:    22 | Cost: 0.7214009 | Acc train: 0.8933333 | Acc validation: 1.0000000 \n",
            "Iter:    23 | Cost: 0.7177813 | Acc train: 0.8933333 | Acc validation: 1.0000000 \n",
            "Iter:    24 | Cost: 0.7135414 | Acc train: 0.9066667 | Acc validation: 0.9200000 \n",
            "Iter:    25 | Cost: 0.7095884 | Acc train: 0.8666667 | Acc validation: 0.8400000 \n",
            "Iter:    26 | Cost: 0.6990733 | Acc train: 0.8933333 | Acc validation: 0.8400000 \n",
            "Iter:    27 | Cost: 0.6880609 | Acc train: 0.9333333 | Acc validation: 0.9600000 \n",
            "Iter:    28 | Cost: 0.6793758 | Acc train: 0.9466667 | Acc validation: 1.0000000 \n",
            "Iter:    29 | Cost: 0.6709811 | Acc train: 0.9066667 | Acc validation: 0.8800000 \n",
            "Iter:    30 | Cost: 0.6776095 | Acc train: 0.7733333 | Acc validation: 0.8000000 \n",
            "Iter:    31 | Cost: 0.6931316 | Acc train: 0.6000000 | Acc validation: 0.5600000 \n",
            "Iter:    32 | Cost: 0.7238447 | Acc train: 0.5733333 | Acc validation: 0.5200000 \n",
            "Iter:    33 | Cost: 0.7222733 | Acc train: 0.5733333 | Acc validation: 0.5200000 \n",
            "Iter:    34 | Cost: 0.6791196 | Acc train: 0.6000000 | Acc validation: 0.5600000 \n",
            "Iter:    35 | Cost: 0.6203766 | Acc train: 0.7866667 | Acc validation: 0.8000000 \n",
            "Iter:    36 | Cost: 0.5827323 | Acc train: 0.8800000 | Acc validation: 0.8400000 \n",
            "Iter:    37 | Cost: 0.5520570 | Acc train: 0.9600000 | Acc validation: 1.0000000 \n",
            "Iter:    38 | Cost: 0.5442829 | Acc train: 1.0000000 | Acc validation: 1.0000000 \n",
            "Iter:    39 | Cost: 0.5364628 | Acc train: 1.0000000 | Acc validation: 1.0000000 \n",
            "Iter:    40 | Cost: 0.5277549 | Acc train: 0.9733333 | Acc validation: 0.9600000 \n",
            "Iter:    41 | Cost: 0.5124712 | Acc train: 0.9600000 | Acc validation: 0.9200000 \n",
            "Iter:    42 | Cost: 0.5052295 | Acc train: 0.9600000 | Acc validation: 0.9200000 \n",
            "Iter:    43 | Cost: 0.4797039 | Acc train: 0.9600000 | Acc validation: 0.9200000 \n",
            "Iter:    44 | Cost: 0.4422284 | Acc train: 1.0000000 | Acc validation: 1.0000000 \n",
            "Iter:    45 | Cost: 0.3973400 | Acc train: 1.0000000 | Acc validation: 1.0000000 \n",
            "Iter:    46 | Cost: 0.3659300 | Acc train: 0.9866667 | Acc validation: 1.0000000 \n",
            "Iter:    47 | Cost: 0.3453167 | Acc train: 0.9866667 | Acc validation: 1.0000000 \n",
            "Iter:    48 | Cost: 0.3279939 | Acc train: 0.9733333 | Acc validation: 1.0000000 \n",
            "Iter:    49 | Cost: 0.3138237 | Acc train: 0.9733333 | Acc validation: 1.0000000 \n",
            "Iter:    50 | Cost: 0.2969645 | Acc train: 0.9733333 | Acc validation: 1.0000000 \n",
            "Iter:    51 | Cost: 0.2802760 | Acc train: 0.9866667 | Acc validation: 1.0000000 \n",
            "Iter:    52 | Cost: 0.2621593 | Acc train: 0.9866667 | Acc validation: 1.0000000 \n",
            "Iter:    53 | Cost: 0.2495680 | Acc train: 1.0000000 | Acc validation: 1.0000000 \n",
            "Iter:    54 | Cost: 0.2409833 | Acc train: 1.0000000 | Acc validation: 1.0000000 \n",
            "Iter:    55 | Cost: 0.2357028 | Acc train: 1.0000000 | Acc validation: 1.0000000 \n",
            "Iter:    56 | Cost: 0.2356819 | Acc train: 1.0000000 | Acc validation: 1.0000000 \n",
            "Iter:    57 | Cost: 0.2412892 | Acc train: 1.0000000 | Acc validation: 1.0000000 \n",
            "Iter:    58 | Cost: 0.2493107 | Acc train: 1.0000000 | Acc validation: 1.0000000 \n",
            "Iter:    59 | Cost: 0.2500630 | Acc train: 1.0000000 | Acc validation: 1.0000000 \n",
            "Iter:    60 | Cost: 0.2444099 | Acc train: 1.0000000 | Acc validation: 1.0000000 \n",
            "Iter:     1 | Cost: 1.4609002 | Acc train: 0.4933333 | Acc validation: 0.5600000 \n",
            "Iter:     2 | Cost: 1.3367354 | Acc train: 0.4933333 | Acc validation: 0.5600000 \n",
            "Iter:     3 | Cost: 1.2024062 | Acc train: 0.4800000 | Acc validation: 0.5600000 \n",
            "Iter:     4 | Cost: 1.0523341 | Acc train: 0.4666667 | Acc validation: 0.5600000 \n",
            "Iter:     5 | Cost: 0.9222603 | Acc train: 0.5466667 | Acc validation: 0.6000000 \n",
            "Iter:     6 | Cost: 0.8481528 | Acc train: 0.7333333 | Acc validation: 0.7600000 \n",
            "Iter:     7 | Cost: 0.8377012 | Acc train: 0.7200000 | Acc validation: 0.6800000 \n",
            "Iter:     8 | Cost: 0.8992895 | Acc train: 0.5600000 | Acc validation: 0.4800000 \n",
            "Iter:     9 | Cost: 0.9278118 | Acc train: 0.5200000 | Acc validation: 0.4400000 \n",
            "Iter:    10 | Cost: 0.9258503 | Acc train: 0.5200000 | Acc validation: 0.4400000 \n",
            "Iter:    11 | Cost: 0.8819420 | Acc train: 0.5200000 | Acc validation: 0.4400000 \n",
            "Iter:    12 | Cost: 0.7922588 | Acc train: 0.6133333 | Acc validation: 0.6400000 \n",
            "Iter:    13 | Cost: 0.7383893 | Acc train: 0.8266667 | Acc validation: 0.7200000 \n",
            "Iter:    14 | Cost: 0.7267302 | Acc train: 0.8800000 | Acc validation: 0.9600000 \n",
            "Iter:    15 | Cost: 0.7268879 | Acc train: 0.8800000 | Acc validation: 0.9600000 \n",
            "Iter:    16 | Cost: 0.7330967 | Acc train: 0.8133333 | Acc validation: 0.9200000 \n",
            "Iter:    17 | Cost: 0.7355535 | Acc train: 0.8400000 | Acc validation: 0.9200000 \n",
            "Iter:    18 | Cost: 0.7361355 | Acc train: 0.8800000 | Acc validation: 0.9600000 \n",
            "Iter:    19 | Cost: 0.7394153 | Acc train: 0.8800000 | Acc validation: 0.9600000 \n",
            "Iter:    20 | Cost: 0.7428820 | Acc train: 0.9066667 | Acc validation: 0.9200000 \n",
            "Iter:    21 | Cost: 0.7537040 | Acc train: 0.7466667 | Acc validation: 0.6800000 \n",
            "Iter:    22 | Cost: 0.7474334 | Acc train: 0.8133333 | Acc validation: 0.7600000 \n",
            "Iter:    23 | Cost: 0.7418057 | Acc train: 0.8266667 | Acc validation: 0.8000000 \n",
            "Iter:    24 | Cost: 0.7363674 | Acc train: 0.8000000 | Acc validation: 0.7600000 \n",
            "Iter:    25 | Cost: 0.7398019 | Acc train: 0.6266667 | Acc validation: 0.5600000 \n",
            "Iter:    26 | Cost: 0.7320486 | Acc train: 0.6400000 | Acc validation: 0.6000000 \n",
            "Iter:    27 | Cost: 0.7132678 | Acc train: 0.8000000 | Acc validation: 0.8000000 \n",
            "Iter:    28 | Cost: 0.7141251 | Acc train: 0.7200000 | Acc validation: 0.7200000 \n",
            "Iter:    29 | Cost: 0.7410592 | Acc train: 0.5733333 | Acc validation: 0.5200000 \n",
            "Iter:    30 | Cost: 0.7839272 | Acc train: 0.5600000 | Acc validation: 0.4800000 \n",
            "Iter:    31 | Cost: 0.8080893 | Acc train: 0.5600000 | Acc validation: 0.4800000 \n",
            "Iter:    32 | Cost: 0.7428286 | Acc train: 0.5733333 | Acc validation: 0.5200000 \n",
            "Iter:    33 | Cost: 0.6915738 | Acc train: 0.6933333 | Acc validation: 0.7200000 \n",
            "Iter:    34 | Cost: 0.6512403 | Acc train: 0.8933333 | Acc validation: 0.8800000 \n",
            "Iter:    35 | Cost: 0.6457218 | Acc train: 0.9200000 | Acc validation: 1.0000000 \n",
            "Iter:    36 | Cost: 0.6508104 | Acc train: 0.8800000 | Acc validation: 0.9200000 \n",
            "Iter:    37 | Cost: 0.6547769 | Acc train: 0.8533333 | Acc validation: 0.9200000 \n",
            "Iter:    38 | Cost: 0.6300638 | Acc train: 0.9466667 | Acc validation: 0.9600000 \n",
            "Iter:    39 | Cost: 0.6199920 | Acc train: 0.9466667 | Acc validation: 1.0000000 \n",
            "Iter:    40 | Cost: 0.6102807 | Acc train: 0.9600000 | Acc validation: 1.0000000 \n",
            "Iter:    41 | Cost: 0.6033432 | Acc train: 0.9600000 | Acc validation: 1.0000000 \n",
            "Iter:    42 | Cost: 0.5932407 | Acc train: 0.9600000 | Acc validation: 1.0000000 \n",
            "Iter:    43 | Cost: 0.5795636 | Acc train: 0.9466667 | Acc validation: 1.0000000 \n",
            "Iter:    44 | Cost: 0.5680311 | Acc train: 0.9466667 | Acc validation: 1.0000000 \n",
            "Iter:    45 | Cost: 0.5560370 | Acc train: 0.9200000 | Acc validation: 0.9600000 \n",
            "Iter:    46 | Cost: 0.5473445 | Acc train: 0.9066667 | Acc validation: 0.8800000 \n",
            "Iter:    47 | Cost: 0.5338944 | Acc train: 0.9066667 | Acc validation: 0.8800000 \n",
            "Iter:    48 | Cost: 0.5167769 | Acc train: 0.9066667 | Acc validation: 0.8800000 \n",
            "Iter:    49 | Cost: 0.4954831 | Acc train: 0.9466667 | Acc validation: 1.0000000 \n",
            "Iter:    50 | Cost: 0.4785821 | Acc train: 0.9733333 | Acc validation: 1.0000000 \n",
            "Iter:    51 | Cost: 0.4657231 | Acc train: 1.0000000 | Acc validation: 1.0000000 \n",
            "Iter:    52 | Cost: 0.4575520 | Acc train: 1.0000000 | Acc validation: 1.0000000 \n",
            "Iter:    53 | Cost: 0.4504953 | Acc train: 1.0000000 | Acc validation: 1.0000000 \n",
            "Iter:    54 | Cost: 0.4368025 | Acc train: 1.0000000 | Acc validation: 1.0000000 \n",
            "Iter:    55 | Cost: 0.4293366 | Acc train: 1.0000000 | Acc validation: 1.0000000 \n",
            "Iter:    56 | Cost: 0.4164206 | Acc train: 1.0000000 | Acc validation: 1.0000000 \n",
            "Iter:    57 | Cost: 0.4199601 | Acc train: 0.9733333 | Acc validation: 0.9200000 \n",
            "Iter:    58 | Cost: 0.4087313 | Acc train: 0.9733333 | Acc validation: 0.9200000 \n",
            "Iter:    59 | Cost: 0.3959845 | Acc train: 0.9733333 | Acc validation: 0.9200000 \n",
            "Iter:    60 | Cost: 0.3527603 | Acc train: 1.0000000 | Acc validation: 1.0000000 \n",
            "Iter:     1 | Cost: 1.4595390 | Acc train: 0.4933333 | Acc validation: 0.5600000 \n",
            "Iter:     2 | Cost: 1.3487905 | Acc train: 0.4933333 | Acc validation: 0.5600000 \n",
            "Iter:     3 | Cost: 1.2027299 | Acc train: 0.4800000 | Acc validation: 0.5600000 \n",
            "Iter:     4 | Cost: 1.0541159 | Acc train: 0.4666667 | Acc validation: 0.5600000 \n",
            "Iter:     5 | Cost: 0.9327251 | Acc train: 0.5200000 | Acc validation: 0.6400000 \n",
            "Iter:     6 | Cost: 0.8725082 | Acc train: 0.6533333 | Acc validation: 0.8000000 \n",
            "Iter:     7 | Cost: 0.8482355 | Acc train: 0.7066667 | Acc validation: 0.7600000 \n",
            "Iter:     8 | Cost: 0.8366076 | Acc train: 0.7333333 | Acc validation: 0.6800000 \n",
            "Iter:     9 | Cost: 0.8148628 | Acc train: 0.7333333 | Acc validation: 0.6800000 \n",
            "Iter:    10 | Cost: 0.7931684 | Acc train: 0.7466667 | Acc validation: 0.6800000 \n",
            "Iter:    11 | Cost: 0.7554617 | Acc train: 0.8000000 | Acc validation: 0.8000000 \n",
            "Iter:    12 | Cost: 0.7308839 | Acc train: 0.8400000 | Acc validation: 0.9600000 \n",
            "Iter:    13 | Cost: 0.7237824 | Acc train: 0.8133333 | Acc validation: 0.9200000 \n",
            "Iter:    14 | Cost: 0.7328045 | Acc train: 0.7600000 | Acc validation: 0.8000000 \n",
            "Iter:    15 | Cost: 0.7636031 | Acc train: 0.6800000 | Acc validation: 0.7600000 \n",
            "Iter:    16 | Cost: 0.7889971 | Acc train: 0.6800000 | Acc validation: 0.7200000 \n",
            "Iter:    17 | Cost: 0.7925029 | Acc train: 0.6666667 | Acc validation: 0.6400000 \n",
            "Iter:    18 | Cost: 0.7988906 | Acc train: 0.6666667 | Acc validation: 0.6400000 \n",
            "Iter:    19 | Cost: 0.7879550 | Acc train: 0.6933333 | Acc validation: 0.7200000 \n",
            "Iter:    20 | Cost: 0.7750527 | Acc train: 0.6800000 | Acc validation: 0.7200000 \n",
            "Iter:    21 | Cost: 0.7636877 | Acc train: 0.7066667 | Acc validation: 0.7600000 \n",
            "Iter:    22 | Cost: 0.7522244 | Acc train: 0.7733333 | Acc validation: 0.7600000 \n",
            "Iter:    23 | Cost: 0.7273301 | Acc train: 0.8400000 | Acc validation: 0.9200000 \n",
            "Iter:    24 | Cost: 0.7226315 | Acc train: 0.8933333 | Acc validation: 1.0000000 \n",
            "Iter:    25 | Cost: 0.7219267 | Acc train: 0.8933333 | Acc validation: 0.9200000 \n",
            "Iter:    26 | Cost: 0.7377240 | Acc train: 0.6666667 | Acc validation: 0.6400000 \n",
            "Iter:    27 | Cost: 0.7507418 | Acc train: 0.5600000 | Acc validation: 0.4800000 \n",
            "Iter:    28 | Cost: 0.7761432 | Acc train: 0.5333333 | Acc validation: 0.4400000 \n",
            "Iter:    29 | Cost: 0.7692566 | Acc train: 0.5600000 | Acc validation: 0.4400000 \n",
            "Iter:    30 | Cost: 0.7536863 | Acc train: 0.5600000 | Acc validation: 0.4800000 \n",
            "Iter:    31 | Cost: 0.7199493 | Acc train: 0.6266667 | Acc validation: 0.6000000 \n",
            "Iter:    32 | Cost: 0.6747737 | Acc train: 0.9066667 | Acc validation: 0.9200000 \n",
            "Iter:    33 | Cost: 0.6604265 | Acc train: 0.9066667 | Acc validation: 0.9600000 \n",
            "Iter:    34 | Cost: 0.6645583 | Acc train: 0.8533333 | Acc validation: 0.9200000 \n",
            "Iter:    35 | Cost: 0.6744472 | Acc train: 0.7733333 | Acc validation: 0.7600000 \n",
            "Iter:    36 | Cost: 0.7011591 | Acc train: 0.6933333 | Acc validation: 0.7200000 \n",
            "Iter:    37 | Cost: 0.7153863 | Acc train: 0.6933333 | Acc validation: 0.7200000 \n",
            "Iter:    38 | Cost: 0.6726074 | Acc train: 0.7466667 | Acc validation: 0.7600000 \n",
            "Iter:    39 | Cost: 0.6270791 | Acc train: 0.8800000 | Acc validation: 0.9200000 \n",
            "Iter:    40 | Cost: 0.6121927 | Acc train: 0.9466667 | Acc validation: 1.0000000 \n",
            "Iter:    41 | Cost: 0.6195181 | Acc train: 0.8933333 | Acc validation: 0.8400000 \n",
            "Iter:    42 | Cost: 0.6646423 | Acc train: 0.7200000 | Acc validation: 0.7600000 \n",
            "Iter:    43 | Cost: 0.7127392 | Acc train: 0.5866667 | Acc validation: 0.5200000 \n",
            "Iter:    44 | Cost: 0.7210309 | Acc train: 0.5866667 | Acc validation: 0.5200000 \n",
            "Iter:    45 | Cost: 0.6759924 | Acc train: 0.6133333 | Acc validation: 0.5600000 \n",
            "Iter:    46 | Cost: 0.6279188 | Acc train: 0.7466667 | Acc validation: 0.7600000 \n",
            "Iter:    47 | Cost: 0.5747645 | Acc train: 0.8533333 | Acc validation: 0.8400000 \n",
            "Iter:    48 | Cost: 0.5299076 | Acc train: 0.9200000 | Acc validation: 0.9600000 \n",
            "Iter:    49 | Cost: 0.5139110 | Acc train: 1.0000000 | Acc validation: 1.0000000 \n",
            "Iter:    50 | Cost: 0.5321490 | Acc train: 0.9200000 | Acc validation: 0.9200000 \n",
            "Iter:    51 | Cost: 0.5521032 | Acc train: 0.8400000 | Acc validation: 0.9200000 \n",
            "Iter:    52 | Cost: 0.5629905 | Acc train: 0.8000000 | Acc validation: 0.8400000 \n",
            "Iter:    53 | Cost: 0.5678106 | Acc train: 0.7733333 | Acc validation: 0.7200000 \n",
            "Iter:    54 | Cost: 0.5769902 | Acc train: 0.7200000 | Acc validation: 0.7200000 \n",
            "Iter:    55 | Cost: 0.5482750 | Acc train: 0.7866667 | Acc validation: 0.8400000 \n",
            "Iter:    56 | Cost: 0.5257673 | Acc train: 0.8400000 | Acc validation: 0.8400000 \n",
            "Iter:    57 | Cost: 0.4683683 | Acc train: 0.9333333 | Acc validation: 0.9200000 \n",
            "Iter:    58 | Cost: 0.4235605 | Acc train: 0.9733333 | Acc validation: 0.9600000 \n",
            "Iter:    59 | Cost: 0.3939146 | Acc train: 1.0000000 | Acc validation: 1.0000000 \n",
            "Iter:    60 | Cost: 0.3822791 | Acc train: 0.9866667 | Acc validation: 1.0000000 \n",
            "4min 18s ± 5.16 s per loop (mean ± std. dev. of 7 runs, 1 loop each)\n"
          ]
        }
      ]
    },
    {
      "cell_type": "markdown",
      "source": [
        "We can plot the continuous output of the variational classifier for the first two dimensions of the Iris data set."
      ],
      "metadata": {
        "id": "psGjs8nhaN89"
      }
    },
    {
      "cell_type": "code",
      "source": [
        "plt.figure()\n",
        "cm = plt.cm.RdBu\n",
        "\n",
        "# make data for decision regions\n",
        "xx, yy = np.meshgrid(np.linspace(0.0, 1.5, 20), np.linspace(0.0, 1.5, 20))\n",
        "X_grid = [np.array([x, y]) for x, y in zip(xx.flatten(), yy.flatten())]\n",
        "\n",
        "# preprocess grid points like data inputs above\n",
        "padding = 0.3 * np.ones((len(X_grid), 1))\n",
        "X_grid = np.c_[np.c_[X_grid, padding], np.zeros((len(X_grid), 1))]  # pad each input\n",
        "normalization = np.sqrt(np.sum(X_grid ** 2, -1))\n",
        "X_grid = (X_grid.T / normalization).T  # normalize each input\n",
        "features_grid = np.array(\n",
        "    [get_angles(x) for x in X_grid]\n",
        ")  # angles for state preparation are new features\n",
        "predictions_grid = [variational_classifier(weights, bias, f) for f in features_grid]\n",
        "Z = np.reshape(predictions_grid, xx.shape)\n",
        "\n",
        "# plot decision regions\n",
        "cnt = plt.contourf(\n",
        "    xx, yy, Z, levels=np.arange(-1, 1.1, 0.1), cmap=cm, alpha=0.8, extend=\"both\"\n",
        ")\n",
        "plt.contour(\n",
        "    xx, yy, Z, levels=[0.0], colors=(\"black\",), linestyles=(\"--\",), linewidths=(0.8,)\n",
        ")\n",
        "plt.colorbar(cnt, ticks=[-1, 0, 1])\n",
        "\n",
        "# plot data\n",
        "plt.scatter(\n",
        "    X_train[:, 0][Y_train == 1],\n",
        "    X_train[:, 1][Y_train == 1],\n",
        "    c=\"b\",\n",
        "    marker=\"o\",\n",
        "    edgecolors=\"k\",\n",
        "    label=\"class 1 train\",\n",
        ")\n",
        "plt.scatter(\n",
        "    X_val[:, 0][Y_val == 1],\n",
        "    X_val[:, 1][Y_val == 1],\n",
        "    c=\"b\",\n",
        "    marker=\"^\",\n",
        "    edgecolors=\"k\",\n",
        "    label=\"class 1 validation\",\n",
        ")\n",
        "plt.scatter(\n",
        "    X_train[:, 0][Y_train == -1],\n",
        "    X_train[:, 1][Y_train == -1],\n",
        "    c=\"r\",\n",
        "    marker=\"o\",\n",
        "    edgecolors=\"k\",\n",
        "    label=\"class -1 train\",\n",
        ")\n",
        "plt.scatter(\n",
        "    X_val[:, 0][Y_val == -1],\n",
        "    X_val[:, 1][Y_val == -1],\n",
        "    c=\"r\",\n",
        "    marker=\"^\",\n",
        "    edgecolors=\"k\",\n",
        "    label=\"class -1 validation\",\n",
        ")\n",
        "\n",
        "plt.legend()\n",
        "plt.show()"
      ],
      "metadata": {
        "colab": {
          "base_uri": "https://localhost:8080/",
          "height": 265
        },
        "id": "3weFE8x7aK0X",
        "outputId": "29c69732-4bf3-4bb8-edb9-3c2f8f467431"
      },
      "execution_count": 25,
      "outputs": [
        {
          "output_type": "display_data",
          "data": {
            "text/plain": [
              "<Figure size 432x288 with 2 Axes>"
            ],
            "image/png": "[encoded data removed]"
          },
          "metadata": {
            "needs_background": "light"
          }
        }
      ]
    },
    {
      "cell_type": "code",
      "source": [],
      "metadata": {
        "id": "ITK1rBQBaS9m"
      },
      "execution_count": 24,
      "outputs": []
    }
  ]
}