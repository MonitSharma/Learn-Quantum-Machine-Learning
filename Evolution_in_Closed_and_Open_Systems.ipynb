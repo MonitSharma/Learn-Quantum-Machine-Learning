{
  "cells": [
    {
      "cell_type": "markdown",
      "metadata": {
        "id": "view-in-github",
        "colab_type": "text"
      },
      "source": [
        "<a href=\"https://colab.research.google.com/github/MonitSharma/Learn-Quantum-Machine-Learning/blob/main/Evolution_in_Closed_and_Open_Systems.ipynb\" target=\"_parent\"><img src=\"https://colab.research.google.com/assets/colab-badge.svg\" alt=\"Open In Colab\"/></a>"
      ]
    },
    {
      "cell_type": "markdown",
      "metadata": {
        "id": "4Bmw8IqFa1CV"
      },
      "source": [
        "Classical probability distributions can be written as a stochastic vector, which can be transformed to another stochastic vector by applying a stochastic matrix. In other words, the evolution of stochastic vectors can be described by a stochastic matrix.\n",
        "\n",
        "Quantum states also evolve and their evolution is described by unitary matrices. This leads to some interesting properties in quantum computing. Unitary evolution is true for a closed system, that is, a quantum system perfectly isolated from the environment. This is not the case in the quantum computers we have today: these are open quantum systems that evolve differently due to to uncontrolled interactions with the environment. In this notebook, we take a glimpse at both types of evolution.\n",
        "\n",
        "\n",
        "# Unitary evolution\n",
        "\n",
        "A unitary matrix has the property that its conjugate transpose is its inverse. Formally, it means that a matrix $U$ is unitary if $UU^\\dagger=U^\\dagger U=\\mathbb{1}$, where $^\\dagger$ stands for conjugate transpose, and $\\mathbb{1}$ is the identity matrix. A quantum computer is a machine that implements unitary operations.\n",
        "\n",
        "As an example, we have seen the NOT operation before, which is performed by the X gate in a quantum computer. While the generic discussion on gates will only occur in a subsequent notebook, we can study the properties of the X gate. Its matrix representation is $X = \\begin{bmatrix} 0 & 1\\\\ 1 & 0\\end{bmatrix}$. Let's check if it is indeed unitary:"
      ]
    },
    {
      "cell_type": "code",
      "execution_count": 1,
      "metadata": {
        "ExecuteTime": {
          "end_time": "2018-11-19T19:49:07.614968Z",
          "start_time": "2018-11-19T19:49:07.530927Z"
        },
        "colab": {
          "base_uri": "https://localhost:8080/"
        },
        "id": "8hbMef9ra1Ck",
        "outputId": "ec9b6328-e1c1-4652-ae0d-36ffa52ac5c9"
      },
      "outputs": [
        {
          "output_type": "stream",
          "name": "stdout",
          "text": [
            "XX^dagger\n",
            "[[1 0]\n",
            " [0 1]]\n",
            "X^daggerX\n",
            "[[1 0]\n",
            " [0 1]]\n"
          ]
        }
      ],
      "source": [
        "import numpy as np\n",
        "X = np.array([[0, 1], [1, 0]])\n",
        "print(\"XX^dagger\")\n",
        "print(X @ X.T.conj())\n",
        "print(\"X^daggerX\")\n",
        "print(X.T.conj() @ X)"
      ]
    },
    {
      "cell_type": "markdown",
      "metadata": {
        "id": "z0s5kKpca1Cp"
      },
      "source": [
        "It looks like a legitimate unitary operation. The unitary nature ensures that the $l_2$ norm is preserved, that is, quantum states are mapped to quantum states."
      ]
    },
    {
      "cell_type": "code",
      "execution_count": 2,
      "metadata": {
        "ExecuteTime": {
          "end_time": "2018-11-19T19:49:07.626531Z",
          "start_time": "2018-11-19T19:49:07.618259Z"
        },
        "colab": {
          "base_uri": "https://localhost:8080/"
        },
        "id": "aaViof-Qa1Cq",
        "outputId": "3039c06f-1117-4ef6-aa01-472dd84ff434"
      },
      "outputs": [
        {
          "output_type": "stream",
          "name": "stdout",
          "text": [
            "The norm of the state |0> before applying X\n",
            "1.0\n",
            "The norm of the state after applying X\n",
            "1.0\n"
          ]
        }
      ],
      "source": [
        "print(\"The norm of the state |0> before applying X\")\n",
        "zero_ket = np.array([[1], [0]])\n",
        "print(np.linalg.norm(zero_ket))\n",
        "print(\"The norm of the state after applying X\")\n",
        "print(np.linalg.norm(X @ zero_ket))"
      ]
    },
    {
      "cell_type": "markdown",
      "metadata": {
        "id": "8GgFIPwDa1Cr"
      },
      "source": [
        "Furthermore, since the unitary operation is a matrix, it is linear. Measurements are also represented by matrices. These two observations imply that everything a quantum computer implements is actually linear. If we want to see some form of nonlinearity, that must involve some classical intervention.\n",
        "\n",
        "Another consequence of the unitary operations is reversibility. Any unitary operation can be reversed. Quantum computing libraries often provide a function to reverse entire circuits. Reversing the X gate is simple: we just apply it again (its conjugate transpose is itself, therefore $X^2=\\mathbb{1}$)."
      ]
    },
    {
      "cell_type": "code",
      "source": [
        "%pip install qiskit"
      ],
      "metadata": {
        "colab": {
          "base_uri": "https://localhost:8080/"
        },
        "id": "cgKzS5iya6h_",
        "outputId": "3adfb575-d212-4116-d085-db1608a684f5"
      },
      "execution_count": 3,
      "outputs": [
        {
          "output_type": "stream",
          "name": "stdout",
          "text": [
            "Looking in indexes: https://pypi.org/simple, https://us-python.pkg.dev/colab-wheels/public/simple/\n",
            "Collecting qiskit\n",
            "  Downloading qiskit-0.41.1.tar.gz (14 kB)\n",
            "  Preparing metadata (setup.py) ... \u001b[?25l\u001b[?25hdone\n",
            "Collecting qiskit-terra==0.23.2\n",
            "  Downloading qiskit_terra-0.23.2-cp38-cp38-manylinux_2_17_x86_64.manylinux2014_x86_64.whl (5.1 MB)\n",
            "\u001b[2K     \u001b[90m━━━━━━━━━━━━━━━━━━━━━━━━━━━━━━━━━━━━━━━━\u001b[0m \u001b[32m5.1/5.1 MB\u001b[0m \u001b[31m22.0 MB/s\u001b[0m eta \u001b[36m0:00:00\u001b[0m\n",
            "\u001b[?25hCollecting qiskit-aer==0.11.2\n",
            "  Downloading qiskit_aer-0.11.2-cp38-cp38-manylinux_2_17_x86_64.manylinux2014_x86_64.whl (12.8 MB)\n",
            "\u001b[2K     \u001b[90m━━━━━━━━━━━━━━━━━━━━━━━━━━━━━━━━━━━━━━━━\u001b[0m \u001b[32m12.8/12.8 MB\u001b[0m \u001b[31m47.2 MB/s\u001b[0m eta \u001b[36m0:00:00\u001b[0m\n",
            "\u001b[?25hCollecting qiskit-ibmq-provider==0.20.1\n",
            "  Downloading qiskit_ibmq_provider-0.20.1-py3-none-any.whl (241 kB)\n",
            "\u001b[2K     \u001b[90m━━━━━━━━━━━━━━━━━━━━━━━━━━━━━━━━━━━━━━\u001b[0m \u001b[32m241.3/241.3 KB\u001b[0m \u001b[31m17.9 MB/s\u001b[0m eta \u001b[36m0:00:00\u001b[0m\n",
            "\u001b[?25hRequirement already satisfied: scipy>=1.0 in /usr/local/lib/python3.8/dist-packages (from qiskit-aer==0.11.2->qiskit) (1.10.1)\n",
            "Requirement already satisfied: numpy>=1.16.3 in /usr/local/lib/python3.8/dist-packages (from qiskit-aer==0.11.2->qiskit) (1.22.4)\n",
            "Requirement already satisfied: urllib3~=1.26.0 in /usr/local/lib/python3.8/dist-packages (from qiskit-ibmq-provider==0.20.1->qiskit) (1.26.14)\n",
            "Collecting websocket-client~=1.5.1\n",
            "  Downloading websocket_client-1.5.1-py3-none-any.whl (55 kB)\n",
            "\u001b[2K     \u001b[90m━━━━━━━━━━━━━━━━━━━━━━━━━━━━━━━━━━━━━━━━\u001b[0m \u001b[32m55.9/55.9 KB\u001b[0m \u001b[31m4.6 MB/s\u001b[0m eta \u001b[36m0:00:00\u001b[0m\n",
            "\u001b[?25hRequirement already satisfied: python-dateutil~=2.8.0 in /usr/local/lib/python3.8/dist-packages (from qiskit-ibmq-provider==0.20.1->qiskit) (2.8.2)\n",
            "Collecting requests-ntlm~=1.1.0\n",
            "  Downloading requests_ntlm-1.1.0-py2.py3-none-any.whl (5.7 kB)\n",
            "Collecting websockets~=10.0\n",
            "  Downloading websockets-10.4-cp38-cp38-manylinux_2_5_x86_64.manylinux1_x86_64.manylinux_2_17_x86_64.manylinux2014_x86_64.whl (106 kB)\n",
            "\u001b[2K     \u001b[90m━━━━━━━━━━━━━━━━━━━━━━━━━━━━━━━━━━━━━━━\u001b[0m \u001b[32m107.0/107.0 KB\u001b[0m \u001b[31m3.3 MB/s\u001b[0m eta \u001b[36m0:00:00\u001b[0m\n",
            "\u001b[?25hCollecting requests~=2.28.0\n",
            "  Downloading requests-2.28.2-py3-none-any.whl (62 kB)\n",
            "\u001b[2K     \u001b[90m━━━━━━━━━━━━━━━━━━━━━━━━━━━━━━━━━━━━━━━━\u001b[0m \u001b[32m62.8/62.8 KB\u001b[0m \u001b[31m4.4 MB/s\u001b[0m eta \u001b[36m0:00:00\u001b[0m\n",
            "\u001b[?25hCollecting ply>=3.10\n",
            "  Downloading ply-3.11-py2.py3-none-any.whl (49 kB)\n",
            "\u001b[2K     \u001b[90m━━━━━━━━━━━━━━━━━━━━━━━━━━━━━━━━━━━━━━━━\u001b[0m \u001b[32m49.6/49.6 KB\u001b[0m \u001b[31m2.8 MB/s\u001b[0m eta \u001b[36m0:00:00\u001b[0m\n",
            "\u001b[?25hCollecting stevedore>=3.0.0\n",
            "  Downloading stevedore-5.0.0-py3-none-any.whl (49 kB)\n",
            "\u001b[2K     \u001b[90m━━━━━━━━━━━━━━━━━━━━━━━━━━━━━━━━━━━━━━━━\u001b[0m \u001b[32m49.6/49.6 KB\u001b[0m \u001b[31m1.7 MB/s\u001b[0m eta \u001b[36m0:00:00\u001b[0m\n",
            "\u001b[?25hCollecting symengine>=0.9\n",
            "  Downloading symengine-0.9.2-cp38-cp38-manylinux2010_x86_64.whl (37.5 MB)\n",
            "\u001b[2K     \u001b[90m━━━━━━━━━━━━━━━━━━━━━━━━━━━━━━━━━━━━━━━━\u001b[0m \u001b[32m37.5/37.5 MB\u001b[0m \u001b[31m11.3 MB/s\u001b[0m eta \u001b[36m0:00:00\u001b[0m\n",
            "\u001b[?25hCollecting dill>=0.3\n",
            "  Downloading dill-0.3.6-py3-none-any.whl (110 kB)\n",
            "\u001b[2K     \u001b[90m━━━━━━━━━━━━━━━━━━━━━━━━━━━━━━━━━━━━━━━\u001b[0m \u001b[32m110.5/110.5 KB\u001b[0m \u001b[31m4.6 MB/s\u001b[0m eta \u001b[36m0:00:00\u001b[0m\n",
            "\u001b[?25hRequirement already satisfied: sympy>=1.3 in /usr/local/lib/python3.8/dist-packages (from qiskit-terra==0.23.2->qiskit) (1.7.1)\n",
            "Requirement already satisfied: psutil>=5 in /usr/local/lib/python3.8/dist-packages (from qiskit-terra==0.23.2->qiskit) (5.4.8)\n",
            "Collecting rustworkx>=0.12.0\n",
            "  Downloading rustworkx-0.12.1-cp38-cp38-manylinux_2_17_x86_64.manylinux2014_x86_64.whl (1.9 MB)\n",
            "\u001b[2K     \u001b[90m━━━━━━━━━━━━━━━━━━━━━━━━━━━━━━━━━━━━━━━━\u001b[0m \u001b[32m1.9/1.9 MB\u001b[0m \u001b[31m19.0 MB/s\u001b[0m eta \u001b[36m0:00:00\u001b[0m\n",
            "\u001b[?25hRequirement already satisfied: six>=1.5 in /usr/local/lib/python3.8/dist-packages (from python-dateutil~=2.8.0->qiskit-ibmq-provider==0.20.1->qiskit) (1.15.0)\n",
            "Requirement already satisfied: idna<4,>=2.5 in /usr/local/lib/python3.8/dist-packages (from requests~=2.28.0->qiskit-ibmq-provider==0.20.1->qiskit) (2.10)\n",
            "Requirement already satisfied: charset-normalizer<4,>=2 in /usr/local/lib/python3.8/dist-packages (from requests~=2.28.0->qiskit-ibmq-provider==0.20.1->qiskit) (3.0.1)\n",
            "Requirement already satisfied: certifi>=2017.4.17 in /usr/local/lib/python3.8/dist-packages (from requests~=2.28.0->qiskit-ibmq-provider==0.20.1->qiskit) (2022.12.7)\n",
            "Collecting cryptography>=1.3\n",
            "  Downloading cryptography-39.0.2-cp36-abi3-manylinux_2_28_x86_64.whl (4.2 MB)\n",
            "\u001b[2K     \u001b[90m━━━━━━━━━━━━━━━━━━━━━━━━━━━━━━━━━━━━━━━━\u001b[0m \u001b[32m4.2/4.2 MB\u001b[0m \u001b[31m58.6 MB/s\u001b[0m eta \u001b[36m0:00:00\u001b[0m\n",
            "\u001b[?25hCollecting ntlm-auth>=1.0.2\n",
            "  Downloading ntlm_auth-1.5.0-py2.py3-none-any.whl (29 kB)\n",
            "Collecting pbr!=2.1.0,>=2.0.0\n",
            "  Downloading pbr-5.11.1-py2.py3-none-any.whl (112 kB)\n",
            "\u001b[2K     \u001b[90m━━━━━━━━━━━━━━━━━━━━━━━━━━━━━━━━━━━━━━\u001b[0m \u001b[32m112.7/112.7 KB\u001b[0m \u001b[31m16.0 MB/s\u001b[0m eta \u001b[36m0:00:00\u001b[0m\n",
            "\u001b[?25hRequirement already satisfied: mpmath>=0.19 in /usr/local/lib/python3.8/dist-packages (from sympy>=1.3->qiskit-terra==0.23.2->qiskit) (1.2.1)\n",
            "Requirement already satisfied: cffi>=1.12 in /usr/local/lib/python3.8/dist-packages (from cryptography>=1.3->requests-ntlm~=1.1.0->qiskit-ibmq-provider==0.20.1->qiskit) (1.15.1)\n",
            "Requirement already satisfied: pycparser in /usr/local/lib/python3.8/dist-packages (from cffi>=1.12->cryptography>=1.3->requests-ntlm~=1.1.0->qiskit-ibmq-provider==0.20.1->qiskit) (2.21)\n",
            "Building wheels for collected packages: qiskit\n",
            "  Building wheel for qiskit (setup.py) ... \u001b[?25l\u001b[?25hdone\n",
            "  Created wheel for qiskit: filename=qiskit-0.41.1-py3-none-any.whl size=12918 sha256=413e062ef485138cc99042665844406a36bc73fa873d2e4a2ca160f793d484c1\n",
            "  Stored in directory: /root/.cache/pip/wheels/03/93/d3/9c1ca2a27a41ea528d1cfd431bf5354745239d7a794d2070a6\n",
            "Successfully built qiskit\n",
            "Installing collected packages: ply, websockets, websocket-client, symengine, rustworkx, requests, pbr, ntlm-auth, dill, stevedore, cryptography, requests-ntlm, qiskit-terra, qiskit-ibmq-provider, qiskit-aer, qiskit\n",
            "  Attempting uninstall: requests\n",
            "    Found existing installation: requests 2.25.1\n",
            "    Uninstalling requests-2.25.1:\n",
            "      Successfully uninstalled requests-2.25.1\n",
            "Successfully installed cryptography-39.0.2 dill-0.3.6 ntlm-auth-1.5.0 pbr-5.11.1 ply-3.11 qiskit-0.41.1 qiskit-aer-0.11.2 qiskit-ibmq-provider-0.20.1 qiskit-terra-0.23.2 requests-2.28.2 requests-ntlm-1.1.0 rustworkx-0.12.1 stevedore-5.0.0 symengine-0.9.2 websocket-client-1.5.1 websockets-10.4\n"
          ]
        }
      ]
    },
    {
      "cell_type": "code",
      "execution_count": 4,
      "metadata": {
        "ExecuteTime": {
          "end_time": "2018-11-19T19:49:08.710098Z",
          "start_time": "2018-11-19T19:49:07.629733Z"
        },
        "colab": {
          "base_uri": "https://localhost:8080/"
        },
        "id": "drJJ58sta1Cs",
        "outputId": "96192518-8d9a-4120-ab0d-4c6b4dd23b6d"
      },
      "outputs": [
        {
          "output_type": "stream",
          "name": "stdout",
          "text": [
            "Statevector([1.+0.j, 0.+0.j],\n",
            "            dims=(2,))\n"
          ]
        }
      ],
      "source": [
        "import numpy as np\n",
        "from qiskit import QuantumCircuit, ClassicalRegister, QuantumRegister\n",
        "from qiskit import execute\n",
        "from qiskit import Aer\n",
        "from qiskit.tools.visualization import circuit_drawer\n",
        "np.set_printoptions(precision=3, suppress=True)\n",
        "\n",
        "backend_statevector = Aer.get_backend('statevector_simulator')\n",
        "q = QuantumRegister(1)\n",
        "c = ClassicalRegister(1)\n",
        "circuit = QuantumCircuit(q, c)\n",
        "circuit.x(q[0])\n",
        "circuit.x(q[0])\n",
        "job = execute(circuit, backend_statevector)\n",
        "print(job.result().get_statevector(circuit))"
      ]
    },
    {
      "cell_type": "markdown",
      "metadata": {
        "id": "Xed2txNEa1Cu"
      },
      "source": [
        "which is exactly $|0\\rangle$ as we would expect.\n",
        "\n",
        "In the next notebook, you will learn about classical and quantum many-body systems and the Hamiltonian. In the notebook on adiabatic quantum computing, you will learn that a unitary operation is in fact the Schrödinger equation solved for a Hamiltonian for some duration of time. This connects the computer science way of thinking about gates and unitary operations to actual physics, but there is some learning to be done before we can make that connection. Before that, let us take another look at the interaction with the environment."
      ]
    },
    {
      "cell_type": "markdown",
      "metadata": {
        "id": "D0J9W8Xxa1C-"
      },
      "source": [
        "# Interaction with the environment: open systems\n",
        "\n",
        "Actual quantum systems are seldom closed: they constantly interact with their environment in a largely uncontrolled fashion, which causes them to lose coherence. This is true for current and near-term quantum computers too.\n",
        "\n",
        "![](https://raw.githubusercontent.com/qosf/qml-mooc/9143b9aba0e58a049e2e4b98efd4b7caf471bd6e/figures/open_system.svg)\n",
        "\n",
        "This also means that their actual time evolution is not described by a unitary matrix as we would want it, but some other operator (the technical name for it is a completely positive trace-preserving map).\n",
        "\n",
        "Quantum computing libraries often offer a variety of noise models that mimic different types of interaction, and increasing the strength of the interaction with the environment leads to faster decoherence. The timescale for decoherence is often called $T_2$ time. Among a couple of other parameters, $T_2$ time is critically important for the number of gates or the duration of the quantum computation we can perform.\n",
        "\n",
        "A very cheap way of studying the effects of decoherence is mixing a pure state with the maximally mixed state $\\mathbb{1}/2^d$, where $d$ is the number of qubits, with some visibility parameter in $[0,1]$. This way we do not have to specify noise models or any other map modelling decoherence. For instance, we can mix the $|\\phi^+\\rangle$ state with the maximally mixed state:"
      ]
    },
    {
      "cell_type": "code",
      "execution_count": 5,
      "metadata": {
        "ExecuteTime": {
          "end_time": "2018-11-19T19:49:08.730307Z",
          "start_time": "2018-11-19T19:49:08.714253Z"
        },
        "colab": {
          "base_uri": "https://localhost:8080/"
        },
        "id": "iK1FfvoFa1C_",
        "outputId": "145cf394-3dea-47b6-bd83-3fbf98f7940c"
      },
      "outputs": [
        {
          "output_type": "stream",
          "name": "stdout",
          "text": [
            "Maximum visibility is a pure state:\n",
            "[[0.5 0.  0.  0.5]\n",
            " [0.  0.  0.  0. ]\n",
            " [0.  0.  0.  0. ]\n",
            " [0.5 0.  0.  0.5]]\n",
            "The state is still entangled with visibility 0.8:\n",
            "[[0.45 0.   0.   0.4 ]\n",
            " [0.   0.05 0.   0.  ]\n",
            " [0.   0.   0.05 0.  ]\n",
            " [0.4  0.   0.   0.45]]\n",
            "Entanglement is lost by 0.6:\n",
            "[[0.4 0.  0.  0.3]\n",
            " [0.  0.1 0.  0. ]\n",
            " [0.  0.  0.1 0. ]\n",
            " [0.3 0.  0.  0.4]]\n",
            "Barely any coherence remains by 0.2:\n",
            "[[0.3 0.  0.  0.1]\n",
            " [0.  0.2 0.  0. ]\n",
            " [0.  0.  0.2 0. ]\n",
            " [0.1 0.  0.  0.3]]\n"
          ]
        }
      ],
      "source": [
        "def mixed_state(pure_state, visibility):\n",
        "    density_matrix = pure_state @ pure_state.T.conj()\n",
        "    maximally_mixed_state = np.eye(4)/2**2\n",
        "    return visibility*density_matrix + (1-visibility)*maximally_mixed_state\n",
        "\n",
        "ϕ = np.array([[1],[0],[0],[1]])/np.sqrt(2)\n",
        "print(\"Maximum visibility is a pure state:\")\n",
        "print(mixed_state(ϕ, 1.0))\n",
        "print(\"The state is still entangled with visibility 0.8:\")\n",
        "print(mixed_state(ϕ, 0.8))\n",
        "print(\"Entanglement is lost by 0.6:\")\n",
        "print(mixed_state(ϕ, 0.6))\n",
        "print(\"Barely any coherence remains by 0.2:\")\n",
        "print(mixed_state(ϕ, 0.2))"
      ]
    },
    {
      "cell_type": "markdown",
      "metadata": {
        "id": "ifZmi3oaa1DA"
      },
      "source": [
        "Another way to look at what happens to a quantum state in an open system is through equilibrium processes. Think of a cup of coffee: left alone, it will equilibrate with the environment, eventually reaching the temperature of the environment. This includes energy exchange. A quantum state does the same thing and the environment has a defined temperature, just like the environment of a cup of coffee.\n",
        "\n",
        "The equilibrium state is called the thermal state. It has a very specific structure and we will revisit it, but for now, suffice to say that the energy of the samples pulled out of a thermal state follows a Boltzmann distribution. The Boltzmann -- also called Gibbs -- distribution is described as $P(E_i) = \\frac {e^{-E_{i}/T}}{\\sum _{j=1}^{M}{e^{-E_{j}/T}}}$, where $E_i$ is an energy, and $M$ is the total number of possible energy levels. Temperature enters the definition: the higher the temperature, the closer we are to the uniform distribution. In the infinite temperature limit, it recovers the uniform distribution. At high temperatures, all energy levels have an equal probability. In contrast, at zero temperature, the entire probability mass is concentrated on the lowest energy level, the ground state energy. To get a sense of this, let's plot the Boltzmann distribution with vastly different temperatures:"
      ]
    },
    {
      "cell_type": "code",
      "execution_count": 6,
      "metadata": {
        "ExecuteTime": {
          "end_time": "2018-11-19T19:49:09.226294Z",
          "start_time": "2018-11-19T19:49:08.733112Z"
        },
        "colab": {
          "base_uri": "https://localhost:8080/",
          "height": 283
        },
        "id": "RIjKKK3la1DB",
        "outputId": "2284da30-c234-4606-c1c2-0f2473fc08f0"
      },
      "outputs": [
        {
          "output_type": "execute_result",
          "data": {
            "text/plain": [
              "<matplotlib.legend.Legend at 0x7fcf7f8cf5e0>"
            ]
          },
          "metadata": {},
          "execution_count": 6
        },
        {
          "output_type": "display_data",
          "data": {
            "text/plain": [
              "<Figure size 432x288 with 1 Axes>"
            ],
            "image/png": "[encoded data removed]"
          },
          "metadata": {}
        }
      ],
      "source": [
        "import matplotlib.pyplot as plt\n",
        "\n",
        "temperatures = [.5, 5, 2000]\n",
        "energies = np.linspace(0, 20, 100)\n",
        "fig, ax = plt.subplots()\n",
        "for i, T in enumerate(temperatures):\n",
        "    probabilities = np.exp(-energies/T)\n",
        "    Z = probabilities.sum()\n",
        "    probabilities /= Z\n",
        "    ax.plot(energies, probabilities, linewidth=3, label = \"$T_\" + str(i+1)+\"$\")\n",
        "ax.set_xlim(0, 20)\n",
        "ax.set_ylim(0, 1.2*probabilities.max())\n",
        "ax.set_xticks([])\n",
        "ax.set_yticks([])\n",
        "ax.set_xlabel('Energy')\n",
        "ax.set_ylabel('Probability')\n",
        "ax.legend()"
      ]
    },
    {
      "cell_type": "markdown",
      "metadata": {
        "id": "PCpbmGLha1DC"
      },
      "source": [
        "Here $T_1<T_2<T_3$. Notice that $T_1$ is a low temperature, and therefore it is highly peaked at low energy levels. In contrast, $T_3$ is a very high temperature and the probability distribution is almost completely flat."
      ]
    }
  ],
  "metadata": {
    "kernelspec": {
      "display_name": "Python 3",
      "language": "python",
      "name": "python3"
    },
    "language_info": {
      "codemirror_mode": {
        "name": "ipython",
        "version": 3
      },
      "file_extension": ".py",
      "mimetype": "text/x-python",
      "name": "python",
      "nbconvert_exporter": "python",
      "pygments_lexer": "ipython3",
      "version": "3.7.3"
    },
    "colab": {
      "provenance": [],
      "include_colab_link": true
    }
  },
  "nbformat": 4,
  "nbformat_minor": 0
}