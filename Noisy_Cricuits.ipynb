{
  "nbformat": 4,
  "nbformat_minor": 0,
  "metadata": {
    "colab": {
      "provenance": [],
      "authorship_tag": "ABX9TyNhc3I8GpNpWFhgnZbyT5OT",
      "include_colab_link": true
    },
    "kernelspec": {
      "name": "python3",
      "display_name": "Python 3"
    },
    "language_info": {
      "name": "python"
    }
  },
  "cells": [
    {
      "cell_type": "markdown",
      "metadata": {
        "id": "view-in-github",
        "colab_type": "text"
      },
      "source": [
        "<a href=\"https://colab.research.google.com/github/MonitSharma/Learn-Quantum-Machine-Learning/blob/main/Noisy_Cricuits.ipynb\" target=\"_parent\"><img src=\"https://colab.research.google.com/assets/colab-badge.svg\" alt=\"Open In Colab\"/></a>"
      ]
    },
    {
      "cell_type": "markdown",
      "source": [
        "# Noisy Circuits\n",
        "\n",
        "Here you'll learn how to simulate noisy circuits using built-in functionallity in Pennylane.\n",
        "\n",
        "\n",
        "We'll go through the basics of the noisy channels and density matrices, then use example code to simulate noisy circuits. \n",
        "\n",
        "\n",
        "We're going to put the $N$ in the $NISQ$\n",
        "\n",
        "![alt text](https://pennylane.ai/qml/_images/N-Nisq.png)\n",
        "\n",
        "\n",
        "\n"
      ],
      "metadata": {
        "id": "m7mkvt_cTA7b"
      }
    },
    {
      "cell_type": "markdown",
      "source": [
        "# Noisy Operations\n",
        "\n",
        "Noise is any unwanted transformation that corrupts the intended output of a quantum computation. It can be separated into two categories:\n",
        "\n",
        "*  **Coherent Noise** : Described by unitary operations that maintain the purity of the output quantum state. A common source are systematic errors originating from imperfectly-calibrated devices that do not exactly apply the desired gates, e.g., applying a rotation by an angle \n",
        "$ϕ\n",
        "+\n",
        "ϵ$\n",
        " instead of \n",
        "$ϕ$\n",
        ".\n",
        "\n",
        "\n",
        "\n",
        "*  **Incoherent Noise** : It originates from a quantum computer becoming entangled with the environment, resulting in mixed states — probability distributions over different pure states. Incoherent noise thus leads to outputs that are always random, regardless of what basis we measure in.\n",
        "\n",
        "\n",
        "\n",
        "\n",
        "\n",
        "-----\n",
        "\n",
        "\n",
        "Mixed states are described by [density matrices](https://en.wikipedia.org/wiki/Density_matrices). They provide a more general method of describing quantum states that elegantly encodes a distribution over pure states in a single mathematical object. Mixed states are the most general description of a quantum state, of which the pure states are a special case.\n",
        "\n",
        "\n",
        "The purpose of `default.mixed` device is to provide native support for mixed states and for simulation noisy computations, Let's use `deafult.mixed` to simulate a simple circuit for preparing the Bell state $|\\psi\\rangle=\\frac{1}{\\sqrt{2}}(|00\\rangle+|11\\rangle)$. We then return the expectation value for $Z_0\\otimes Z_1$"
      ],
      "metadata": {
        "id": "6tZQGB1KTdtA"
      }
    },
    {
      "cell_type": "code",
      "source": [
        "import pennylane as qml\n",
        "from pennylane import numpy as np"
      ],
      "metadata": {
        "id": "YVIivFEtS9sq"
      },
      "execution_count": 3,
      "outputs": []
    },
    {
      "cell_type": "code",
      "source": [
        "dev = qml.device('default.mixed', wires = 2)\n",
        "\n",
        "\n",
        "@qml.qnode(dev)\n",
        "def circuit():\n",
        "  qml.Hadamard(wires = 0)\n",
        "  qml.CNOT(wires = [0,1])\n",
        "\n",
        "  return qml.expval(qml.PauliZ(0) @ qml.PauliZ(1))\n",
        "\n",
        "\n",
        "\n",
        "print(f\"QNode output = {circuit() :.4f}\")\n"
      ],
      "metadata": {
        "colab": {
          "base_uri": "https://localhost:8080/"
        },
        "id": "5_AnOjUOTAN8",
        "outputId": "e054e439-16fe-4150-eaae-b71df1227e96"
      },
      "execution_count": 4,
      "outputs": [
        {
          "output_type": "stream",
          "name": "stdout",
          "text": [
            "QNode output = 1.0000\n"
          ]
        }
      ]
    },
    {
      "cell_type": "markdown",
      "source": [
        "The device stors the output state as a density matrix. In this case the density matrix is equal to $|\\psi\\rangle\\langle\\psi|$ where $|\\psi\\rangle=\\frac{1}{\\sqrt{2}}(|00\\rangle + |11\\rangle)$"
      ],
      "metadata": {
        "id": "1wdq02BcVO5K"
      }
    },
    {
      "cell_type": "code",
      "source": [
        "print(f\"Output state is = \\n{np.real(dev.state)}\")"
      ],
      "metadata": {
        "colab": {
          "base_uri": "https://localhost:8080/"
        },
        "id": "0X9SVgiWVKq_",
        "outputId": "cb67b303-552e-4e6a-d546-63ad8855455d"
      },
      "execution_count": 5,
      "outputs": [
        {
          "output_type": "stream",
          "name": "stdout",
          "text": [
            "Output state is = \n",
            "[[0.5 0.  0.  0.5]\n",
            " [0.  0.  0.  0. ]\n",
            " [0.  0.  0.  0. ]\n",
            " [0.5 0.  0.  0.5]]\n"
          ]
        }
      ]
    },
    {
      "cell_type": "markdown",
      "source": [
        "Incoherent noise is modelled by quantum channels. Mathematically, a quantum channel is linear, completly positive and trace-preserving ([CPTP](https://www.quantiki.org/wiki/channel-cp-map)) map. A convenient strategy for representing quantum channels is to employ [Kraus Operators](https://en.wikipedia.org/wiki/Quantum_operation#Kraus_operators) $\\{K_i\\}$ satisfying the condition $\\sum_i K_{i}^{\\dagger} K_i = I$. For an initial state $\\rho$ the output state after the action of a channel $\\Phi$ is: \n",
        "\n",
        "$$\\Phi(\\rho) = \\sum_i K_i \\rho K_{i}^{\\dagger}.$$\n",
        "\n",
        "\n",
        "Just like pure states are special cases of mixed states, unitary transformations are special cases of quantum channels. Unitary transformations are represented by a single Kraus operator, the unitary $U$\n",
        ", and they transform a state as $U\\rho U^\\dagger$\n",
        "\n",
        "\n",
        "\n",
        "------\n",
        "\n",
        "More generally, the action of a quantum channel can be interpreted as applying a transformation corresponding to the Kraus operator $K_i$ with some associated probability. More precisely, the channel applies the transformation $\\frac{1}{p_i}K_i\\rho K_i^\\dagger$ with probability 4p_i = \\text{Tr}[K_i \\rho K_{i}^{\n",
        "\\dagger}]$. Quantum channels therefore represent a probabilty distribution over different possible transformations on a quantum state. For example, consider the bit flip channel. It describes a transformation that flips the state of a qubit (applies an X gate) with probability $p$ and leaves it unchanged with probability $1-p$. Its Kraus operators are: \n",
        "\n",
        "$$\\begin{split}K_0 &= \\sqrt{1-p}\\begin{pmatrix}1 & 0\\\\ 0 & 1\\end{pmatrix}, \\\\\n",
        "K_1 &= \\sqrt{p}\\begin{pmatrix}0 & 1\\\\ 1 & 0\\end{pmatrix}.\\end{split}$$\n",
        "\n",
        "This channel can be implemented in PennyLane using the `qml.BitFlip` operation.\n",
        "\n",
        "\n",
        "-----\n",
        "\n",
        "Let's see what happens when we simulate this type of noise acting on both qubits in the circuit. We'll evaluate the QNode for different bit flip probablities.\n",
        "\n"
      ],
      "metadata": {
        "id": "iU3SgetLVgz3"
      }
    },
    {
      "cell_type": "code",
      "source": [
        "@qml.qnode(dev)\n",
        "def bitflip_circuit(p):\n",
        "    qml.Hadamard(wires=0)\n",
        "    qml.CNOT(wires=[0, 1])\n",
        "    qml.BitFlip(p, wires=0)\n",
        "    qml.BitFlip(p, wires=1)\n",
        "    return qml.expval(qml.PauliZ(0) @ qml.PauliZ(1))\n",
        "\n",
        "\n",
        "ps = [0.001, 0.01, 0.1, 0.2]\n",
        "for p in ps:\n",
        "    print(f\"QNode output for bit flip probability {p} is {bitflip_circuit(p):.4f}\")"
      ],
      "metadata": {
        "colab": {
          "base_uri": "https://localhost:8080/"
        },
        "id": "at-azGLxVfMt",
        "outputId": "5226c85f-c7ad-4533-914d-cafee5b2e8b6"
      },
      "execution_count": 6,
      "outputs": [
        {
          "output_type": "stream",
          "name": "stdout",
          "text": [
            "QNode output for bit flip probability 0.001 is 0.9960\n",
            "QNode output for bit flip probability 0.01 is 0.9604\n",
            "QNode output for bit flip probability 0.1 is 0.6400\n",
            "QNode output for bit flip probability 0.2 is 0.3600\n"
          ]
        }
      ]
    },
    {
      "cell_type": "markdown",
      "source": [
        "The circuit behaves quite differently in the presence of noise! This will be familiar to anyone that has run an algorithm on quantum hardware. It is also highlights why error mitigation and error correction are so important. We can use PennyLane to look under the hood and see the output state of the circuit for the largest noise parameter"
      ],
      "metadata": {
        "id": "UYyEly5JX9kc"
      }
    },
    {
      "cell_type": "code",
      "source": [
        "print(f\"Output state for bit flip probability {p} is \\n{np.real(dev.state)}\")\n"
      ],
      "metadata": {
        "colab": {
          "base_uri": "https://localhost:8080/"
        },
        "id": "BGSqw33GX6tg",
        "outputId": "946c0b47-e766-4235-d2dc-e8d8c5c83bd6"
      },
      "execution_count": 7,
      "outputs": [
        {
          "output_type": "stream",
          "name": "stdout",
          "text": [
            "Output state for bit flip probability 0.2 is \n",
            "[[0.34 0.   0.   0.34]\n",
            " [0.   0.16 0.16 0.  ]\n",
            " [0.   0.16 0.16 0.  ]\n",
            " [0.34 0.   0.   0.34]]\n"
          ]
        }
      ]
    },
    {
      "cell_type": "markdown",
      "source": [
        "Besides the bit flip channel, PennyLane supports several other noisy channels that are commonly used to describe experimental imperfections: `PhaseFlip`, `AmplitudeDamping`, `GeneralizedAmplitudeDamping`, `PhaseDamping`, and the `DepolarizingChannel`. You can also build your own custom channel using the operation `QubitChannel` by specifying its Kraus operators.\n",
        "\n",
        "Let’s take a look at another example. The depolarizing channel is a generalization of the bit flip and phase flip channels, where each of the three possible Pauli errors can be applied to a single qubit. Its Kraus operators are given by:\n",
        "\n",
        "\n",
        "\n",
        "$$\\begin{split}K_0 &= \\sqrt{1-p}\\begin{pmatrix}1 & 0\\\\ 0 & 1\\end{pmatrix}, \\\\\n",
        "K_1 &= \\sqrt{p/3}\\begin{pmatrix}0 & 1\\\\ 1 & 0\\end{pmatrix}, \\\\\n",
        "K_2 &= \\sqrt{p/3}\\begin{pmatrix}0 & -i\\\\ i & 0\\end{pmatrix}, \\\\\n",
        "K_3 &= \\sqrt{p/3}\\begin{pmatrix}1 & 0\\\\ 0 & -1\\end{pmatrix}.\\end{split}$$\n",
        "\n",
        "\n",
        "\n",
        "A circuit modelling the effect of depolarizing noise in preparing a Bell state is implemented below\n"
      ],
      "metadata": {
        "id": "UmdcZ27jYDQC"
      }
    },
    {
      "cell_type": "code",
      "source": [
        "@qml.qnode(dev)\n",
        "def depolarizing_circuit(p):\n",
        "    qml.Hadamard(wires=0)\n",
        "    qml.CNOT(wires=[0, 1])\n",
        "    qml.DepolarizingChannel(p, wires=0)\n",
        "    qml.DepolarizingChannel(p, wires=1)\n",
        "    return qml.expval(qml.PauliZ(0) @ qml.PauliZ(1))\n",
        "\n",
        "\n",
        "ps = [0.001, 0.01, 0.1, 0.2]\n",
        "for p in ps:\n",
        "    print(f\"QNode output for depolarizing probability {p} is {depolarizing_circuit(p):.4f}\")"
      ],
      "metadata": {
        "colab": {
          "base_uri": "https://localhost:8080/"
        },
        "id": "QROWlRqeYAIl",
        "outputId": "46dd3a56-ffb5-4c39-eb73-7c7027460b47"
      },
      "execution_count": 8,
      "outputs": [
        {
          "output_type": "stream",
          "name": "stdout",
          "text": [
            "QNode output for depolarizing probability 0.001 is 0.9973\n",
            "QNode output for depolarizing probability 0.01 is 0.9735\n",
            "QNode output for depolarizing probability 0.1 is 0.7511\n",
            "QNode output for depolarizing probability 0.2 is 0.5378\n"
          ]
        }
      ]
    },
    {
      "cell_type": "markdown",
      "source": [
        "As before, the output deviates from the desired value as the amount of noise increases. Modelling the noise that occurs in real experiments requires careful consideration. PennyLane offers the flexibility to experiment with different combinations of noisy channels to either mimic the performance of quantum algorithms when deployed on real devices, or to explore the effect of more general quantum transformations."
      ],
      "metadata": {
        "id": "dKIbCLQ6Ydxm"
      }
    },
    {
      "cell_type": "markdown",
      "source": [
        "# Channel gradients\n",
        "\n",
        "The ability to compute gradients of any operation is an essential ingredient of **quantum differentiable programming**. In PennyLane, it is possible to compute gradients of noisy channels and optimize them inside variational circuits. PennyLane supports analytical gradients for channels whose Kraus operators are proportional to unitary matrices 1. In other cases, gradients are evaluated using finite differences.\n",
        "\n",
        "To illustrate this property, we’ll consider an elementary example. We aim to learn the noise parameters of a circuit in order to reproduce an observed expectation value. So suppose that we run the circuit to prepare a Bell state on a hardware device and observe that the expectation value of $Z_0\\otimes Z_1$ s not equal to $1$ (as would occur with an ideal device), but instead has the value $0.7781$. In the experiment, it is known that the major source of noise is amplitude damping, for example as a result of photon loss. Amplitude damping projects a state to \n",
        "$|\n",
        "0\n",
        "⟩$\n",
        " with probability \n",
        "$p$\n",
        " and otherwise leaves it unchanged. It is described by the Kraus operators\n",
        "\n",
        "$$\\begin{split}K_0 = \\begin{pmatrix}1 & 0\\\\ 0 & \\sqrt{1-p}\\end{pmatrix}, \\quad\n",
        "K_1 = \\begin{pmatrix}0 & \\sqrt{p}\\\\ 0 & 0\\end{pmatrix}.\\end{split}$$\n",
        "\n",
        "What damping parameter (\n",
        "$p$\n",
        ") explains the experimental outcome? We can answer this question by optimizing the channel parameters to reproduce the experimental observation! 💪 Since the parameter \n",
        "$p$\n",
        " is a probability, we use a sigmoid function to ensure that the trainable parameters give rise to a valid channel parameter, i.e., a number between $0$ and $1$.\n"
      ],
      "metadata": {
        "id": "Qq2gJ2VdYf-Y"
      }
    },
    {
      "cell_type": "code",
      "source": [
        "ev = np.tensor(0.7781, requires_grad=False)  # observed expectation value\n",
        "\n",
        "def sigmoid(x):\n",
        "    return 1/(1+np.exp(-x))\n",
        "\n",
        "@qml.qnode(dev)\n",
        "def damping_circuit(x):\n",
        "    qml.Hadamard(wires=0)\n",
        "    qml.CNOT(wires=[0, 1])\n",
        "    qml.AmplitudeDamping(sigmoid(x), wires=0)  # p = sigmoid(x)\n",
        "    qml.AmplitudeDamping(sigmoid(x), wires=1)\n",
        "    return qml.expval(qml.PauliZ(0) @ qml.PauliZ(1))"
      ],
      "metadata": {
        "id": "_Xtkg-3SYcHV"
      },
      "execution_count": 9,
      "outputs": []
    },
    {
      "cell_type": "markdown",
      "source": [
        "We optimize the circuit with respect to a simple cost function that attains its minimum when the output of the QNode is equal to the experimental value:"
      ],
      "metadata": {
        "id": "K8-fdmhQZBZG"
      }
    },
    {
      "cell_type": "code",
      "source": [
        "def cost(x, target):\n",
        "    return (damping_circuit(x) - target)**2"
      ],
      "metadata": {
        "id": "2rGLvOj2Y_lY"
      },
      "execution_count": 10,
      "outputs": []
    },
    {
      "cell_type": "markdown",
      "source": [
        "All that remains is to optimize the parameter. We use a straightforward gradient descent method."
      ],
      "metadata": {
        "id": "mKJSzIApZHDT"
      }
    },
    {
      "cell_type": "code",
      "source": [
        "opt = qml.GradientDescentOptimizer(stepsize=10)\n",
        "steps = 35\n",
        "x = np.tensor(0.0, requires_grad=True)\n",
        "\n",
        "for i in range(steps):\n",
        "    (x, ev), cost_val = opt.step_and_cost(cost, x, ev)\n",
        "    if i % 5 == 0 or i == steps - 1:\n",
        "        print(f\"Step: {i}    Cost: {cost_val}\")\n",
        "\n",
        "print(f\"QNode output after optimization = {damping_circuit(x):.4f}\")\n",
        "print(f\"Experimental expectation value = {ev}\")\n",
        "print(f\"Optimized noise parameter p = {sigmoid(x.take(0)):.4f}\")"
      ],
      "metadata": {
        "colab": {
          "base_uri": "https://localhost:8080/"
        },
        "id": "wj7eB-ErZFYN",
        "outputId": "aaafd5be-e121-4c52-82e3-744f5f02dc7d"
      },
      "execution_count": 11,
      "outputs": [
        {
          "output_type": "stream",
          "name": "stderr",
          "text": [
            "/usr/local/lib/python3.7/dist-packages/autograd/numpy/numpy_wrapper.py:156: ComplexWarning: Casting complex values to real discards the imaginary part\n",
            "  return A.astype(dtype, order, casting, subok, copy)\n"
          ]
        },
        {
          "output_type": "stream",
          "name": "stdout",
          "text": [
            "Step: 0    Cost: 0.07733961000000007\n",
            "Step: 5    Cost: 0.07733961000000007\n",
            "Step: 10    Cost: 0.07733961000000007\n",
            "Step: 15    Cost: 0.07733961000000007\n",
            "Step: 20    Cost: 0.07733961000000007\n",
            "Step: 25    Cost: 0.07733961000000007\n",
            "Step: 30    Cost: 0.07733961000000007\n",
            "Step: 34    Cost: 0.07733961000000007\n",
            "QNode output after optimization = 0.5000\n",
            "Experimental expectation value = 0.7781\n",
            "Optimized noise parameter p = 0.5000\n"
          ]
        }
      ]
    },
    {
      "cell_type": "markdown",
      "source": [
        "We’ve trained the noisy channel to reproduce the experimental observation. 😎\n",
        "\n",
        "Developing quantum algorithms that leverage the power of NISQ devices requires serious consideration of the effects of noise. With PennyLane, you have access to tools that can help you design, simulate, and optimize noisy quantum circuits. We look forward to seeing what the quantum community can achieve with them! 🚀 🎉 😸"
      ],
      "metadata": {
        "id": "ULzTq6gfZMs2"
      }
    }
  ]
}