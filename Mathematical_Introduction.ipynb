{
  "cells": [
    {
      "cell_type": "markdown",
      "metadata": {
        "colab_type": "text",
        "id": "view-in-github"
      },
      "source": [
        "<a href=\"https://colab.research.google.com/github/MonitSharma/Learn-Quantum-Machine-Learning/blob/main/Mathematical_Introduction.ipynb\" target=\"_parent\"><img src=\"https://colab.research.google.com/assets/colab-badge.svg\" alt=\"Open In Colab\"/></a>"
      ]
    },
    {
      "cell_type": "markdown",
      "metadata": {
        "id": "C3OcpwNWnHXQ"
      },
      "source": [
        "# Introduction\n",
        "\n",
        "This notebook will serve as an basic introduction on *linear algebra, calculus, complex-numbers* and *intermediate level Python*. \n",
        "\n",
        "\n",
        "If you want a deep dive onto any of the above mentioned topics, you can check my other work here \n",
        "\n",
        "1. [Course on Numerical Linear Algebra : Basics to Advanced](https://github.com/MonitSharma/Numerical-Linear-Algebra)\n",
        "\n",
        "2. [Python for Physics](https://github.com/MonitSharma/Computational-Methods-in-Physics/tree/main/Code%20tutorial%20in%20Jupyter)\n",
        "\n",
        "\n",
        "3. [Computational Methods in Physics](https://github.com/MonitSharma/Computational-Methods-in-Physics/tree/main)\n",
        "\n",
        "\n",
        "Where you can learn to create visualizations like these:\n",
        "\n",
        "![](https://user-images.githubusercontent.com/31341364/146273401-9a893a1d-75e6-4bcf-ad0c-5c643b64598e.gif)"
      ]
    },
    {
      "cell_type": "code",
      "execution_count": 1,
      "metadata": {
        "id": "saY2fjUrm8eb"
      },
      "outputs": [],
      "source": [
        "import matplotlib.pyplot as plt\n",
        "import numpy as np\n",
        "%matplotlib inline\n",
        "np.set_printoptions(precision=3, suppress=True)\n"
      ]
    },
    {
      "cell_type": "markdown",
      "metadata": {
        "id": "0MfnkrIuoQH3"
      },
      "source": [
        "# Complex Numbers\n",
        "\n",
        "Using **Complex Numbers** in Machine Learning is rare, but in Quantum Mechanics, all spaces uses complex numbers. \n",
        "\n",
        "Complex numbers $\\iota = \\sqrt{-1}$ are very much an algebraic construct: they are [algebraically closed](https://en.wikipedia.org/wiki/Fundamental_theorem_of_algebra) , whereas the real numbers aren't.\n",
        "\n",
        "\n",
        "---\n",
        "\n",
        "The imaginary number $\\iota$ in Python is denoted by `1j`. "
      ]
    },
    {
      "cell_type": "code",
      "execution_count": 2,
      "metadata": {
        "colab": {
          "base_uri": "https://localhost:8080/"
        },
        "id": "Drab-SrJoMnB",
        "outputId": "ceb0f894-7eba-422c-a57d-918e394cd837"
      },
      "outputs": [
        {
          "name": "stdout",
          "output_type": "stream",
          "text": [
            "Complex Number\n"
          ]
        }
      ],
      "source": [
        "if(1j**2==-1):\n",
        "  print(\"Complex Number\")\n",
        "else:\n",
        "  print(\"Not a Complex Number\")"
      ]
    },
    {
      "cell_type": "markdown",
      "metadata": {
        "id": "_IrDagBSo9ky"
      },
      "source": [
        "A Generic Complex number has both the real part and the imaginary part"
      ]
    },
    {
      "cell_type": "code",
      "execution_count": 3,
      "metadata": {
        "colab": {
          "base_uri": "https://localhost:8080/"
        },
        "id": "nXlomi3So51f",
        "outputId": "7699d103-2589-4b5c-94c8-f4f25e39a956"
      },
      "outputs": [
        {
          "name": "stdout",
          "output_type": "stream",
          "text": [
            "Type of x: <class 'complex'>\n",
            "Real part of x: 3.5\n",
            "Imaginary part of x: 2.1\n"
          ]
        }
      ],
      "source": [
        "x = 3.5 + 2.1j\n",
        "print(\"Type of x:\" , type(x))\n",
        "print(\"Real part of x:\", x.real)\n",
        "print(\"Imaginary part of x:\", x.imag)"
      ]
    },
    {
      "cell_type": "markdown",
      "metadata": {
        "id": "JJcs7_bFpKBg"
      },
      "source": [
        "You can think of a complex number as a point on the plane. After all, it is described by two real numbers: the actual real part, and the real coefficient that multiplies the imaginary number. We define a simple function to plot complex numbers:"
      ]
    },
    {
      "cell_type": "code",
      "execution_count": 4,
      "metadata": {
        "colab": {
          "base_uri": "https://localhost:8080/",
          "height": 279
        },
        "id": "2CZqeWwtpHtQ",
        "outputId": "254b9b68-4ef4-4067-985e-87af50e3f736"
      },
      "outputs": [
        {
          "data": {
            "image/png": "[encoded data removed]",
            "text/plain": [
              "<Figure size 640x480 with 1 Axes>"
            ]
          },
          "metadata": {},
          "output_type": "display_data"
        }
      ],
      "source": [
        "def plot_complex(a):\n",
        "    for x in range(len(a)):\n",
        "        plt.plot([0,a[x].real], [0,a[x].imag], 'r-o')\n",
        "    plt.axhline(y=0, color='k')\n",
        "    plt.axvline(x=0, color='k')\n",
        "    plt.ylabel('Imaginary')\n",
        "    plt.xlabel('Real')\n",
        "    limit = np.max(np.ceil(np.absolute(a)))\n",
        "    plt.xlim((-limit,limit))\n",
        "    plt.ylim((-limit,limit))    \n",
        "    plt.show()\n",
        "\n",
        "plot_complex([x])"
      ]
    },
    {
      "cell_type": "markdown",
      "metadata": {
        "id": "oeoHmOYtpOxP"
      },
      "source": [
        "The absolute value of a complex numbers is the distance between the point and the origin"
      ]
    },
    {
      "cell_type": "code",
      "execution_count": 5,
      "metadata": {
        "colab": {
          "base_uri": "https://localhost:8080/"
        },
        "id": "XM-odx71pMrT",
        "outputId": "7f456b0b-db28-4b5b-bd58-791435a5a73e"
      },
      "outputs": [
        {
          "data": {
            "text/plain": [
              "4.08166632639171"
            ]
          },
          "execution_count": 5,
          "metadata": {},
          "output_type": "execute_result"
        }
      ],
      "source": [
        "abs(x)"
      ]
    },
    {
      "cell_type": "markdown",
      "metadata": {
        "id": "Cupsny7rpRx6"
      },
      "source": [
        "In fact, the absolute value $r$\n",
        " and the angle $\\varphi$\n",
        " with the x axis are also sufficient to describe a complex number. This leads to writing the complex number as $z=re^{i\\varphi}$\n",
        ". In quantum mechanics, we often write complex numbers in the exponential form and call the angle $\\varphi$\n",
        " a phase."
      ]
    },
    {
      "cell_type": "code",
      "execution_count": 6,
      "metadata": {
        "colab": {
          "base_uri": "https://localhost:8080/"
        },
        "id": "2bUfDZiJpQR5",
        "outputId": "db64d466-7ddd-4e33-e542-657e1c3a9f9a"
      },
      "outputs": [
        {
          "data": {
            "text/plain": [
              "True"
            ]
          },
          "execution_count": 6,
          "metadata": {},
          "output_type": "execute_result"
        }
      ],
      "source": [
        "r = abs(x)\n",
        "φ = np.arctan2(x.imag, x.real)\n",
        "z = r*np.exp(1j*φ)\n",
        "z == x"
      ]
    },
    {
      "cell_type": "markdown",
      "metadata": {
        "id": "P5m22x6Splhm"
      },
      "source": [
        "Complex conjugation flips the sign of the imaginary number, that is, $x=a+bi$\n",
        " becomes $x^*=a-bi$"
      ]
    },
    {
      "cell_type": "code",
      "execution_count": 7,
      "metadata": {
        "colab": {
          "base_uri": "https://localhost:8080/",
          "height": 296
        },
        "id": "0eJOmgsspjex",
        "outputId": "d76459c2-b703-4a1d-dce8-2ebcf14f7c53"
      },
      "outputs": [
        {
          "name": "stdout",
          "output_type": "stream",
          "text": [
            "(3.5-2.1j)\n"
          ]
        },
        {
          "data": {
            "image/png": "[encoded data removed]",
            "text/plain": [
              "<Figure size 640x480 with 1 Axes>"
            ]
          },
          "metadata": {},
          "output_type": "display_data"
        }
      ],
      "source": [
        "print(x.conjugate())\n",
        "plot_complex([x.conjugate()])"
      ]
    },
    {
      "cell_type": "markdown",
      "metadata": {
        "id": "bBiBXU2rpvAy"
      },
      "source": [
        "# Vectors\n",
        "Linear spaces are ubiquitous in machine learning, and they also provide the foundation to the formalism of quantum mechanics. However, unlike in machine learning and many other disciplines where linear space are common, the vectors are over complex spaces. Here is an example of a two-dimensional complex vector, that is, an element of $\\mathbb{C}^2$\n"
      ]
    },
    {
      "cell_type": "code",
      "execution_count": 8,
      "metadata": {
        "colab": {
          "base_uri": "https://localhost:8080/"
        },
        "id": "VuU5n3q7psUo",
        "outputId": "d5c27ca0-fc32-429a-c981-a30a393f82e8"
      },
      "outputs": [
        {
          "data": {
            "text/plain": [
              "array([[1.+2.j],\n",
              "       [2.+2.j]])"
            ]
          },
          "execution_count": 8,
          "metadata": {},
          "output_type": "execute_result"
        }
      ],
      "source": [
        "a = np.array([[1+2j], [2+2j]])\n",
        "a"
      ]
    },
    {
      "cell_type": "markdown",
      "metadata": {
        "id": "EDjRUX1Zp_fd"
      },
      "source": [
        "By convention, we write vectors as column vectors.\n",
        "\n",
        "-----\n",
        "\n",
        "\n",
        "Since a complex number is described by two real numbers, even a two dimensional complex number would require four spatial dimensions if we wanted to plot it. Visual intuition is very limited when we deal even with low-dimensional complex spaces.\n",
        "\n",
        "\n",
        "-----\n",
        "\n",
        "\n",
        "We can transpose complex vectors just like real vectors, but it is more interesting to take their conjugate transpose (also called Hermitian transpose or adjoint), which is a transposition followed by taking the complex conjugate of each element. We will denote the complex conjugation of a vector by $\\dagger$ . With this, a vector $a=\\begin{pmatrix}a_1\\\\ a_2\\end{pmatrix}$ becomes $ a^\\dagger=\\begin{pmatrix}a_1^* & a_2^*\\end{pmatrix}$"
      ]
    },
    {
      "cell_type": "code",
      "execution_count": 9,
      "metadata": {
        "colab": {
          "base_uri": "https://localhost:8080/"
        },
        "id": "nd0VFpQNp9wf",
        "outputId": "644ea7b0-0a95-495a-8e02-305c7a802700"
      },
      "outputs": [
        {
          "data": {
            "text/plain": [
              "array([[1.-2.j, 2.-2.j]])"
            ]
          },
          "execution_count": 9,
          "metadata": {},
          "output_type": "execute_result"
        }
      ],
      "source": [
        "a.T.conj()"
      ]
    },
    {
      "cell_type": "markdown",
      "metadata": {
        "id": "A8Ihbo-EqPb0"
      },
      "source": [
        "The product of a row vector with a column vector is a scalar, which we call the inner or dot product. In `numpy`, you can use the `.dot` method of an array, or the symbol `@` to calculate the inner product."
      ]
    },
    {
      "cell_type": "code",
      "execution_count": 10,
      "metadata": {
        "colab": {
          "base_uri": "https://localhost:8080/"
        },
        "id": "7z8W8IUAqOF7",
        "outputId": "a0a87126-d804-4f68-938b-9654ca7ba5dd"
      },
      "outputs": [
        {
          "data": {
            "text/plain": [
              "array([[4.1-3.8j]])"
            ]
          },
          "execution_count": 10,
          "metadata": {},
          "output_type": "execute_result"
        }
      ],
      "source": [
        "b = np.array([[0.1], [2j]])\n",
        "b.T.conj() @ a"
      ]
    },
    {
      "cell_type": "markdown",
      "metadata": {
        "id": "pOK1L0QnqYMF"
      },
      "source": [
        "It is the inner product that allows us to talk about notions like angle between the vectors, orthogonality, and overlap. For instance, orthogonal vectors have zero overlap:"
      ]
    },
    {
      "cell_type": "code",
      "execution_count": 11,
      "metadata": {
        "colab": {
          "base_uri": "https://localhost:8080/"
        },
        "id": "i6bFvoFyqW6A",
        "outputId": "5aaae2fc-fe9b-4174-d5ff-68d538e13c34"
      },
      "outputs": [
        {
          "data": {
            "text/plain": [
              "array([[0]])"
            ]
          },
          "execution_count": 11,
          "metadata": {},
          "output_type": "execute_result"
        }
      ],
      "source": [
        "c = np.array([[1], [0]])\n",
        "d = np.array([[0], [1]])\n",
        "c.T.conj() @ d"
      ]
    },
    {
      "cell_type": "markdown",
      "metadata": {
        "id": "aOGAyzuQqcIl"
      },
      "source": [
        "The inner product also induces a norm: taking the inner product of the vector with its own conjugate transpose measures its own overlap with itself. In other words, it has something to do with its length. The $l_2$\n",
        "-norm is just the square root of the inner product of the vector with itself:"
      ]
    },
    {
      "cell_type": "code",
      "execution_count": 12,
      "metadata": {
        "colab": {
          "base_uri": "https://localhost:8080/"
        },
        "id": "oLueQw0_qa07",
        "outputId": "26affa28-d028-4e95-b8ea-fe4fa7f48ea3"
      },
      "outputs": [
        {
          "name": "stdout",
          "output_type": "stream",
          "text": [
            "The square of the l2 norm of a: 12.999999999999998\n",
            "The same thing calculated as an inner product: [[13.+0.j]]\n"
          ]
        }
      ],
      "source": [
        "print(\"The square of the l2 norm of a:\", np.linalg.norm(a)**2)\n",
        "print(\"The same thing calculated as an inner product:\", a.T.conj() @ a)"
      ]
    },
    {
      "cell_type": "markdown",
      "metadata": {
        "id": "a2nr0bZsqiGH"
      },
      "source": [
        "Apart from the $l_2$\n",
        "-norm, the $l_0$- and $l_1$-norms are also frequently used. The \n",
        "$l_0$-norm counts the number of nonzero elements of a vector. For instance, by imposing a regularizer on a neural network that adds a penalty in the \n",
        "$l_0$-norm of the weights, we increase sparsity in the network by forcing many entries to zero."
      ]
    },
    {
      "cell_type": "code",
      "execution_count": 13,
      "metadata": {
        "colab": {
          "base_uri": "https://localhost:8080/"
        },
        "id": "OYvPuWjVqgOM",
        "outputId": "8430a5c3-5d90-4e97-c7be-f4139626a369"
      },
      "outputs": [
        {
          "data": {
            "text/plain": [
              "(array([2]), array([1]))"
            ]
          },
          "execution_count": 13,
          "metadata": {},
          "output_type": "execute_result"
        }
      ],
      "source": [
        "sum(a != 0), sum(c != 0)"
      ]
    },
    {
      "cell_type": "markdown",
      "metadata": {
        "id": "Pu7-OgB5qyUW"
      },
      "source": [
        "The $l_1$-norm is the sum of the absolute values of the elements of the vector:"
      ]
    },
    {
      "cell_type": "code",
      "execution_count": 14,
      "metadata": {
        "colab": {
          "base_uri": "https://localhost:8080/"
        },
        "id": "nIsTVcE2qxKy",
        "outputId": "a0d600c4-8ad2-4bda-bfa9-b0c3288c237f"
      },
      "outputs": [
        {
          "data": {
            "text/plain": [
              "5.06449510224598"
            ]
          },
          "execution_count": 14,
          "metadata": {},
          "output_type": "execute_result"
        }
      ],
      "source": [
        "np.linalg.norm(a, ord=1)"
      ]
    },
    {
      "cell_type": "markdown",
      "metadata": {
        "id": "UW_yL4N5q53i"
      },
      "source": [
        "If you are coming from a computer science background, tensor products might take while to get used to. We only work in finite-dimensional spaces, so the tensor product for us is identical to the Kronecker product. For two two-dimensional vectors $a=\\begin{pmatrix}a_1\\\\ a_2\\end{pmatrix}$ and $b=\\begin{pmatrix}b_1\\\\ b_2\\end{pmatrix}$ it is defined as $a\\otimes b=\\begin{pmatrix}a_1b_1\\\\a_1b_2\\\\a_2b_1\\\\ a_2b_2\\end{pmatrix}$"
      ]
    },
    {
      "cell_type": "code",
      "execution_count": 15,
      "metadata": {
        "colab": {
          "base_uri": "https://localhost:8080/"
        },
        "id": "5oyTfEhhq1rQ",
        "outputId": "d8456aa8-24a0-4577-f817-5ac1d01b6b71"
      },
      "outputs": [
        {
          "data": {
            "text/plain": [
              "array([[0],\n",
              "       [1],\n",
              "       [0],\n",
              "       [0]])"
            ]
          },
          "execution_count": 15,
          "metadata": {},
          "output_type": "execute_result"
        }
      ],
      "source": [
        "np.kron(c, d)"
      ]
    },
    {
      "cell_type": "markdown",
      "metadata": {
        "id": "2p-m9HXlrG1o"
      },
      "source": [
        "# Matrices\n",
        "\n",
        "Matrices, just like vectors, form linear spaces. The matrices we encounter in quantum computing are complex-valued, just like the vectors. For instance:"
      ]
    },
    {
      "cell_type": "code",
      "execution_count": 16,
      "metadata": {
        "colab": {
          "base_uri": "https://localhost:8080/"
        },
        "id": "L-QHkn9QrEkn",
        "outputId": "f6253d6e-5ea2-4f5d-c5d9-15d397769db8"
      },
      "outputs": [
        {
          "data": {
            "text/plain": [
              "array([[1.+2.j, 2.+0.j],\n",
              "       [0.+1.j, 3.+4.j]])"
            ]
          },
          "execution_count": 16,
          "metadata": {},
          "output_type": "execute_result"
        }
      ],
      "source": [
        "A = np.array([[1+2j, 2], [1j, 3+4j]])\n",
        "A"
      ]
    },
    {
      "cell_type": "markdown",
      "metadata": {
        "id": "EVYKpc_IrMC1"
      },
      "source": [
        "The conjugate transpose works just the same way as for vectors:"
      ]
    },
    {
      "cell_type": "code",
      "execution_count": 17,
      "metadata": {
        "colab": {
          "base_uri": "https://localhost:8080/"
        },
        "id": "C1IRyJCprKpO",
        "outputId": "566e08b6-871d-4d1c-c6f7-d6bbeaf4f058"
      },
      "outputs": [
        {
          "data": {
            "text/plain": [
              "array([[1.-2.j, 0.-1.j],\n",
              "       [2.-0.j, 3.-4.j]])"
            ]
          },
          "execution_count": 17,
          "metadata": {},
          "output_type": "execute_result"
        }
      ],
      "source": [
        "A.T.conj()"
      ]
    },
    {
      "cell_type": "markdown",
      "metadata": {
        "id": "sDzl_IHPrPV8"
      },
      "source": [
        "We can apply a matrix to a vector:"
      ]
    },
    {
      "cell_type": "code",
      "execution_count": 18,
      "metadata": {
        "colab": {
          "base_uri": "https://localhost:8080/"
        },
        "id": "f80uLvRwrN-R",
        "outputId": "3f716dbf-565c-43d2-e265-dfa3792e9cbc"
      },
      "outputs": [
        {
          "data": {
            "text/plain": [
              "array([[ 1. +8.j],\n",
              "       [-4.+15.j]])"
            ]
          },
          "execution_count": 18,
          "metadata": {},
          "output_type": "execute_result"
        }
      ],
      "source": [
        "A @ a"
      ]
    },
    {
      "cell_type": "markdown",
      "metadata": {
        "id": "x6S_rw2DrTIL"
      },
      "source": [
        "We can also construct matrices by vectors. We saw that the inner product is the multiplication of a row vector with a column vector. If we multiply a column vector with a row vector, we get a matrix:"
      ]
    },
    {
      "cell_type": "code",
      "execution_count": 19,
      "metadata": {
        "colab": {
          "base_uri": "https://localhost:8080/"
        },
        "id": "lFLYDTdlrRnS",
        "outputId": "445b7636-1497-4d2a-8383-ac1734c92e47"
      },
      "outputs": [
        {
          "data": {
            "text/plain": [
              "array([[5.+0.j, 6.+2.j],\n",
              "       [6.-2.j, 8.+0.j]])"
            ]
          },
          "execution_count": 19,
          "metadata": {},
          "output_type": "execute_result"
        }
      ],
      "source": [
        "a @ a.T.conj()"
      ]
    },
    {
      "cell_type": "markdown",
      "metadata": {
        "id": "4e6opO2KrWu_"
      },
      "source": [
        "The eigendecomposition of a matrix gives you its eigenvalues \n",
        " and the corresponding eigenvectors:"
      ]
    },
    {
      "cell_type": "code",
      "execution_count": 20,
      "metadata": {
        "id": "2VGmT9NGrVbP"
      },
      "outputs": [],
      "source": [
        "λs, eigenvectors = np.linalg.eig(A)"
      ]
    },
    {
      "cell_type": "markdown",
      "metadata": {
        "id": "iDq0wUdHra_0"
      },
      "source": [
        "The eigenvalues of the matrix are also called its spectrum. The spectrum is of central interest in quantum mechanics. For instance, the spectrum of a specific matrix called Hamiltonian gives you the discrete energy levels that the quantum system can take.\n",
        "\n",
        "\n",
        "-----\n",
        "\n",
        "\n",
        "Matrices often have some interesting properties. For instance, they can be symmetric, that is, they equal their transpose. Since we work with complex-valued matrices, we are interested in generalizing this to the complex conjugate. If a matrix equals its complex conjugate, it is called Hermitian (or self-adjoint). Hermitian matrices are ubiquitous in quantum mechanics: the Hamiltonian we just referred to is Hermitian, so are density matrices that represent quantum states, and measurements we make on the system. All of these concepts will be introduced in the course. Our example matrix is not Hermitian:"
      ]
    },
    {
      "cell_type": "code",
      "execution_count": 21,
      "metadata": {
        "colab": {
          "base_uri": "https://localhost:8080/"
        },
        "id": "4-c5X7XJrZLV",
        "outputId": "bc09edc1-3e94-4957-e983-3ed2fe67c936"
      },
      "outputs": [
        {
          "data": {
            "text/plain": [
              "False"
            ]
          },
          "execution_count": 21,
          "metadata": {},
          "output_type": "execute_result"
        }
      ],
      "source": [
        "np.all(A == A.T.conj())"
      ]
    },
    {
      "cell_type": "markdown",
      "metadata": {
        "id": "ot9DkPcyrfO2"
      },
      "source": [
        "But the one we obtained from the vector $a$\n",
        " is:"
      ]
    },
    {
      "cell_type": "code",
      "execution_count": 22,
      "metadata": {
        "colab": {
          "base_uri": "https://localhost:8080/"
        },
        "id": "gNOtND0qrd6-",
        "outputId": "43164663-eb2c-4d52-9ca9-fbdf80a57ff2"
      },
      "outputs": [
        {
          "data": {
            "text/plain": [
              "True"
            ]
          },
          "execution_count": 22,
          "metadata": {},
          "output_type": "execute_result"
        }
      ],
      "source": [
        "B = a @ a.T.conj()\n",
        "np.all(B == B.T.conj())"
      ]
    }
  ],
  "metadata": {
    "colab": {
      "authorship_tag": "ABX9TyP7HuKOZ7rs9b5FBdDSHpF5",
      "include_colab_link": true,
      "provenance": []
    },
    "kernelspec": {
      "display_name": "Python 3",
      "name": "python3"
    },
    "language_info": {
      "codemirror_mode": {
        "name": "ipython",
        "version": 3
      },
      "file_extension": ".py",
      "mimetype": "text/x-python",
      "name": "python",
      "nbconvert_exporter": "python",
      "pygments_lexer": "ipython3",
      "version": "3.12.2"
    }
  },
  "nbformat": 4,
  "nbformat_minor": 0
}
