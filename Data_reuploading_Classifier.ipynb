{
  "nbformat": 4,
  "nbformat_minor": 0,
  "metadata": {
    "colab": {
      "provenance": [],
      "authorship_tag": "ABX9TyO0TD+TgT9HpqzCePCO9och",
      "include_colab_link": true
    },
    "kernelspec": {
      "name": "python3",
      "display_name": "Python 3"
    },
    "language_info": {
      "name": "python"
    }
  },
  "cells": [
    {
      "cell_type": "markdown",
      "metadata": {
        "id": "view-in-github",
        "colab_type": "text"
      },
      "source": [
        "<a href=\"https://colab.research.google.com/github/MonitSharma/Learn-Quantum-Machine-Learning/blob/main/Data_reuploading_Classifier.ipynb\" target=\"_parent\"><img src=\"https://colab.research.google.com/assets/colab-badge.svg\" alt=\"Open In Colab\"/></a>"
      ]
    },
    {
      "cell_type": "markdown",
      "source": [
        "# Data Re-Uploading Classifier\n",
        "\n",
        "A single-qubit quantum circuit which can implement arbitrary unitary operations can be used as a universal classifier much like a single hidden-layered Neural Network. As surprising as it sounds, Pérez-Salinas et al. (2019) discuss this with their idea of ‘data reuploading’. It is possible to load a single qubit with arbitrary dimensional data and then use it as a universal classifier.\n",
        "\n",
        "We will implement this idea with Pennylane - a python based tool for quantum machine learning, automatic differentiation, and optimization of hybrid quantum-classical computations."
      ],
      "metadata": {
        "id": "4jgf-ltM3BO3"
      }
    },
    {
      "cell_type": "markdown",
      "source": [
        "## Background\n",
        "We consider a simple classification problem and will train a single-qubit variational quantum circuit to achieve this goal. The data is generated as a set of random points in a plane $(x_1,x_2)$\n",
        " and labeled as $1$ (blue) or $0$ (red) depending on whether they lie inside or outside a circle. The goal is to train a quantum circuit to predict the label (red or blue) given an input point’s coordinate.\n",
        "\n",
        "\n",
        "![alt text](https://pennylane.ai/qml/_images/universal_circles.png)"
      ],
      "metadata": {
        "id": "hlAHS33P3HtQ"
      }
    },
    {
      "cell_type": "markdown",
      "source": [
        "## Transforming quantum states using unitary operations\n",
        "A single-qubit quantum state is characterized by a two-dimensional state vector and can be visualized as a point in the so-called Bloch sphere. Instead of just being a 0 (up) or 1 (down), it can exist in a superposition with say 30% chance of being in the $\n",
        "|\n",
        "0\n",
        "⟩$\n",
        " and 70% chance of being in the \n",
        "$|\n",
        "1\n",
        "⟩$\n",
        " state. This is represented by a state vector \n",
        "$|\n",
        "ψ\n",
        "⟩\n",
        "=\n",
        "√\n",
        "0.3\n",
        "|\n",
        "0\n",
        "⟩\n",
        "+\n",
        "√\n",
        "0.7\n",
        "|\n",
        "1\n",
        "⟩$\n",
        " - the probability “amplitude” of the quantum state. In general we can take a vector \n",
        "$(\n",
        "α\n",
        ",\n",
        "β\n",
        ")$\n",
        " to represent the probabilities of a qubit being in a particular state and visualize it on the Bloch sphere as an arrow.\n",
        "\n",
        "\n",
        "![alt text](https://pennylane.ai/qml/_images/universal_bloch.png)\n"
      ],
      "metadata": {
        "id": "bpmQuvNU3X8j"
      }
    },
    {
      "cell_type": "markdown",
      "source": [
        "## Data loading using unitaries\n",
        "In order to load data onto a single qubit, we use a unitary operation \n",
        "$U\n",
        "(\n",
        "x_\n",
        "1\n",
        ",\n",
        "x_\n",
        "2\n",
        ",\n",
        "x_\n",
        "3\n",
        ")$\n",
        " which is just a parameterized matrix multiplication representing the rotation of the state vector in the Bloch sphere. E.g., to load \n",
        "$(\n",
        "x_\n",
        "1\n",
        ",\n",
        "x_\n",
        "2\n",
        ")$\n",
        " into the qubit, we just start from some initial state vector, \n",
        "$|\n",
        "0\n",
        "⟩$\n",
        ", apply the unitary operation \n",
        "$U\n",
        "(\n",
        "x_\n",
        "1\n",
        ",\n",
        "x_\n",
        "2\n",
        ",\n",
        "0\n",
        ")$\n",
        " and end up at a new point on the Bloch sphere. Here we have padded 0 since our data is only 2D. Pérez-Salinas et al. (2019) discuss how to load a higher dimensional data point $(\n",
        "[\n",
        "x_\n",
        "1\n",
        ",\n",
        "x_\n",
        "2\n",
        ",\n",
        "x_\n",
        "3\n",
        ",\n",
        "x_\n",
        "4\n",
        ",\n",
        "x_\n",
        "5\n",
        ",\n",
        "x_\n",
        "6\n",
        "]\n",
        ")$ by breaking it down in sets of three parameters $(\n",
        "U\n",
        "(\n",
        "x_\n",
        "1\n",
        ",\n",
        "x_\n",
        "2\n",
        ",\n",
        "x_\n",
        "3\n",
        ")\n",
        ",\n",
        "U\n",
        "(\n",
        "x_\n",
        "4\n",
        ",\n",
        "x_\n",
        "5\n",
        ",\n",
        "x_\n",
        "6\n",
        ")\n",
        ").$\n",
        "\n",
        "\n"
      ],
      "metadata": {
        "id": "CEPIlkRT3tl5"
      }
    },
    {
      "cell_type": "markdown",
      "source": [
        "## Model parameters with data re-uploading\n",
        "Once we load the data onto the quantum circuit, we want to have some trainable nonlinear model similar to a neural network as well as a way of learning the weights of the model from data. This is again done with unitaries, \n",
        "$U\n",
        "(\n",
        "θ_\n",
        "1\n",
        ",\n",
        "θ_\n",
        "2\n",
        ",\n",
        "θ_\n",
        "3\n",
        ")$\n",
        ", such that we load the data first and then apply the weights to form a single layer \n",
        "$L\n",
        "(\n",
        "\\vec{\n",
        "θ}\n",
        ",\n",
        "\\vec{\n",
        "x}\n",
        ")\n",
        "=\n",
        "U\n",
        "(\n",
        "\\vec{\n",
        "θ}\n",
        ")\n",
        "U\n",
        "(\n",
        "\\vec{\n",
        "x}\n",
        ")$\n",
        ". In principle, this is just application of two matrix multiplications on an input vector initialized to some value. In order to increase the number of trainable parameters (similar to increasing neurons in a single layer of a neural network), we can reapply this layer again and again with new sets of weights,$ \n",
        "L\n",
        "(\n",
        "\\vec{\n",
        "θ}_\n",
        "1\n",
        ",\n",
        "\\vec{\n",
        "x}_\n",
        ")\n",
        "L\n",
        "(\n",
        "\\vec{\n",
        "θ}_\n",
        "2\n",
        ",\n",
        ",\n",
        "\\vec{\n",
        "x}\n",
        ")\n",
        ".\n",
        ".\n",
        ".\n",
        "L\n",
        "(\n",
        "\\vec{\n",
        "θ}_\n",
        "L\n",
        ",\n",
        "\\vec{\n",
        "x}\n",
        ")$\n",
        " for \n",
        "$L$\n",
        " layers. The quantum circuit would look like the following:\n",
        "\n",
        "\n",
        "\n",
        "![alt text](https://pennylane.ai/qml/_images/universal_layers.png)\n"
      ],
      "metadata": {
        "id": "Q2r2VhlP4JI8"
      }
    },
    {
      "cell_type": "markdown",
      "source": [
        "## The cost function\n",
        "\n",
        "So far, we have only performed linear operations (matrix multiplications) and we know that we need to have some nonlinear squashing similar to activation functions in neural networks to really make a universal classifier (Cybenko 1989). Here is where things gets a bit quantum. After the application of the layers, we will end up at some point on the Bloch sphere due to the sequence of unitaries implementing rotations of the input. These are still just linear transformations of the input state. Now, the output of the model should be a class label which can be encoded as fixed vectors (Blue = \n",
        "$[\n",
        "1\n",
        ",\n",
        "0\n",
        "]$\n",
        ", Red = \n",
        "$[\n",
        "0\n",
        ",\n",
        "1\n",
        "]$\n",
        ") on the Bloch sphere. We want to end up at either of them after transforming our input state through alternate applications of data layer and weights.\n",
        "\n",
        "We can use the idea of the “collapse” of our quantum state into one or other class. This happens when we measure the quantum state which leads to its projection as either the state $0$ or $1$. We can compute the fidelity (or closeness) of the output state to the class label making the output state jump to either \n",
        "$|\n",
        "0\n",
        "⟩$\n",
        " or \n",
        "$|\n",
        "1\n",
        "⟩\n",
        "$.By repeating this process several times, we can compute the probability or overlap of our output to both labels and assign a class based on the label our output has a higher overlap. This is much like having a set of output neurons and selecting the one which has the highest value as the label.\n",
        "\n",
        "We can encode the output label as a particular quantum state that we want to end up in and use Pennylane to find the probability of ending up in that state after running the circuit. We construct an observable corresponding to the output label using the Hermitian operator. The expectation value of the observable gives the overlap or fidelity. We can then define the cost function as the sum of the fidelities for all the data points after passing through the circuit and optimize the parameters $\n",
        "(\n",
        "\\vec{\n",
        "θ}\n",
        ")$\n",
        " to minimize the cost.\n",
        "\n",
        "$$\\text{Cost}=\\sum_{\\text{data points}}(\n",
        "1\n",
        "−\n",
        "\\text{fidelity}\n",
        "(\n",
        "ψ_{\\text{output}}\n",
        "(\n",
        "\\vec{\n",
        "x}\n",
        ",\n",
        "\\vec{\n",
        "θ}\n",
        ")\n",
        ",\n",
        "ψ_{\\text{label}}\n",
        ")\n",
        ")$$\n",
        "Now, we can use our favorite optimizer to maximize the sum of the fidelities over all data points (or batches of datapoints) and find the optimal weights for classification. Gradient-based optimizers such as Adam (Kingma et. al., 2014) can be used if we have a good model of the circuit and how noise might affect it. Or, we can use some gradient-free method such as L-BFGS (Liu, Dong C., and Nocedal, J., 1989) to evaluate the gradient and find the optimal weights where we can treat the quantum circuit as a black-box and the gradients are computed numerically using a fixed number of function evaluations and iterations. The L-BFGS method can be used with the PyTorch interface for Pennylane.\n",
        "\n"
      ],
      "metadata": {
        "id": "reSqhsJT5GMD"
      }
    },
    {
      "cell_type": "markdown",
      "source": [
        "## Multiple qubits, entanglement and Deep Neural Network\n",
        "\n",
        "\n",
        "The Universal Approximation Theorem declares that a neural network with two or more hidden layers can serve as a universal function approximator. Recently, we have witnessed remarkable progress of learning algorithms using Deep Neural Networks.\n",
        "\n",
        "Pérez-Salinas et al. (2019) make a connection to Deep Neural Networks by describing that in their approach the “layers” $\n",
        "L_\n",
        "i\n",
        "(\n",
        "\\vec{\n",
        "θ}_\n",
        "i\n",
        ",\n",
        "\\vec{\n",
        "x}\n",
        ")$\n",
        " are analogous to the size of the intermediate hidden layer of a neural network. And the concept of deep (multiple layers of the neural network) relates to the number of qubits. So, multiple qubits with entanglement between them could provide some quantum advantage over classical neural networks. But here, we will only implement a single qubit classifier.\n"
      ],
      "metadata": {
        "id": "DpzyObeQ55jn"
      }
    },
    {
      "cell_type": "markdown",
      "source": [
        "![alt text](https://pennylane.ai/qml/_images/universal_dnn.png)"
      ],
      "metadata": {
        "id": "QGqh7u2d6Hon"
      }
    },
    {
      "cell_type": "code",
      "source": [
        "import pennylane as qml\n",
        "from pennylane import numpy as np\n",
        "from pennylane.optimize import AdamOptimizer, GradientDescentOptimizer\n",
        "\n",
        "import matplotlib.pyplot as plt\n",
        "\n",
        "\n",
        "# Set a random seed\n",
        "np.random.seed(42)\n",
        "\n",
        "\n",
        "# Make a dataset of points inside and outside of a circle\n",
        "def circle(samples, center=[0.0, 0.0], radius=np.sqrt(2 / np.pi)):\n",
        "    \"\"\"\n",
        "    Generates a dataset of points with 1/0 labels inside a given radius.\n",
        "\n",
        "    Args:\n",
        "        samples (int): number of samples to generate\n",
        "        center (tuple): center of the circle\n",
        "        radius (float: radius of the circle\n",
        "\n",
        "    Returns:\n",
        "        Xvals (array[tuple]): coordinates of points\n",
        "        yvals (array[int]): classification labels\n",
        "    \"\"\"\n",
        "    Xvals, yvals = [], []\n",
        "\n",
        "    for i in range(samples):\n",
        "        x = 2 * (np.random.rand(2)) - 1\n",
        "        y = 0\n",
        "        if np.linalg.norm(x - center) < radius:\n",
        "            y = 1\n",
        "        Xvals.append(x)\n",
        "        yvals.append(y)\n",
        "    return np.array(Xvals, requires_grad=False), np.array(yvals, requires_grad=False)\n",
        "\n",
        "\n",
        "def plot_data(x, y, fig=None, ax=None):\n",
        "    \"\"\"\n",
        "    Plot data with red/blue values for a binary classification.\n",
        "\n",
        "    Args:\n",
        "        x (array[tuple]): array of data points as tuples\n",
        "        y (array[int]): array of data points as tuples\n",
        "    \"\"\"\n",
        "    if fig == None:\n",
        "        fig, ax = plt.subplots(1, 1, figsize=(5, 5))\n",
        "    reds = y == 0\n",
        "    blues = y == 1\n",
        "    ax.scatter(x[reds, 0], x[reds, 1], c=\"red\", s=20, edgecolor=\"k\")\n",
        "    ax.scatter(x[blues, 0], x[blues, 1], c=\"blue\", s=20, edgecolor=\"k\")\n",
        "    ax.set_xlabel(\"$x_1$\")\n",
        "    ax.set_ylabel(\"$x_2$\")\n",
        "\n",
        "\n",
        "Xdata, ydata = circle(500)\n",
        "fig, ax = plt.subplots(1, 1, figsize=(4, 4))\n",
        "plot_data(Xdata, ydata, fig=fig, ax=ax)\n",
        "plt.show()\n",
        "\n",
        "\n",
        "# Define output labels as quantum state vectors\n",
        "def density_matrix(state):\n",
        "    \"\"\"Calculates the density matrix representation of a state.\n",
        "\n",
        "    Args:\n",
        "        state (array[complex]): array representing a quantum state vector\n",
        "\n",
        "    Returns:\n",
        "        dm: (array[complex]): array representing the density matrix\n",
        "    \"\"\"\n",
        "    return state * np.conj(state).T\n",
        "\n",
        "\n",
        "label_0 = [[1], [0]]\n",
        "label_1 = [[0], [1]]\n",
        "state_labels = np.array([label_0, label_1], requires_grad=False)"
      ],
      "metadata": {
        "colab": {
          "base_uri": "https://localhost:8080/",
          "height": 281
        },
        "id": "tqN-4wjl4vdf",
        "outputId": "f8528b79-232b-43cf-d7a1-4f00611fc72e"
      },
      "execution_count": 2,
      "outputs": [
        {
          "output_type": "display_data",
          "data": {
            "text/plain": [
              "<Figure size 288x288 with 1 Axes>"
            ],
            "image/png": "[encoded data removed]"
          },
          "metadata": {
            "needs_background": "light"
          }
        }
      ]
    },
    {
      "cell_type": "markdown",
      "source": [
        "## Simple classifier with data reloading and fidelity loss"
      ],
      "metadata": {
        "id": "PUVDfgmY6Np1"
      }
    },
    {
      "cell_type": "code",
      "source": [
        "dev = qml.device(\"default.qubit\", wires=1)\n",
        "# Install any pennylane-plugin to run on some particular backend\n",
        "\n",
        "\n",
        "@qml.qnode(dev)\n",
        "def qcircuit(params, x, y):\n",
        "    \"\"\"A variational quantum circuit representing the Universal classifier.\n",
        "\n",
        "    Args:\n",
        "        params (array[float]): array of parameters\n",
        "        x (array[float]): single input vector\n",
        "        y (array[float]): single output state density matrix\n",
        "\n",
        "    Returns:\n",
        "        float: fidelity between output state and input\n",
        "    \"\"\"\n",
        "    for p in params:\n",
        "        qml.Rot(*x, wires=0)\n",
        "        qml.Rot(*p, wires=0)\n",
        "    return qml.expval(qml.Hermitian(y, wires=[0]))\n",
        "\n",
        "\n",
        "def cost(params, x, y, state_labels=None):\n",
        "    \"\"\"Cost function to be minimized.\n",
        "\n",
        "    Args:\n",
        "        params (array[float]): array of parameters\n",
        "        x (array[float]): 2-d array of input vectors\n",
        "        y (array[float]): 1-d array of targets\n",
        "        state_labels (array[float]): array of state representations for labels\n",
        "\n",
        "    Returns:\n",
        "        float: loss value to be minimized\n",
        "    \"\"\"\n",
        "    # Compute prediction for each input in data batch\n",
        "    loss = 0.0\n",
        "    dm_labels = [density_matrix(s) for s in state_labels]\n",
        "    for i in range(len(x)):\n",
        "        f = qcircuit(params, x[i], dm_labels[y[i]])\n",
        "        loss = loss + (1 - f) ** 2\n",
        "    return loss / len(x)\n"
      ],
      "metadata": {
        "id": "63kkJLms4wJM"
      },
      "execution_count": 3,
      "outputs": []
    },
    {
      "cell_type": "markdown",
      "source": [
        "## Utility functions for testing and creating batches"
      ],
      "metadata": {
        "id": "yoXBhreW6TFN"
      }
    },
    {
      "cell_type": "code",
      "source": [
        "def test(params, x, y, state_labels=None):\n",
        "    \"\"\"\n",
        "    Tests on a given set of data.\n",
        "\n",
        "    Args:\n",
        "        params (array[float]): array of parameters\n",
        "        x (array[float]): 2-d array of input vectors\n",
        "        y (array[float]): 1-d array of targets\n",
        "        state_labels (array[float]): 1-d array of state representations for labels\n",
        "\n",
        "    Returns:\n",
        "        predicted (array([int]): predicted labels for test data\n",
        "        output_states (array[float]): output quantum states from the circuit\n",
        "    \"\"\"\n",
        "    fidelity_values = []\n",
        "    dm_labels = [density_matrix(s) for s in state_labels]\n",
        "    predicted = []\n",
        "\n",
        "    for i in range(len(x)):\n",
        "        fidel_function = lambda y: qcircuit(params, x[i], y)\n",
        "        fidelities = [fidel_function(dm) for dm in dm_labels]\n",
        "        best_fidel = np.argmax(fidelities)\n",
        "\n",
        "        predicted.append(best_fidel)\n",
        "        fidelity_values.append(fidelities)\n",
        "\n",
        "    return np.array(predicted), np.array(fidelity_values)\n",
        "\n",
        "\n",
        "def accuracy_score(y_true, y_pred):\n",
        "    \"\"\"Accuracy score.\n",
        "\n",
        "    Args:\n",
        "        y_true (array[float]): 1-d array of targets\n",
        "        y_predicted (array[float]): 1-d array of predictions\n",
        "        state_labels (array[float]): 1-d array of state representations for labels\n",
        "\n",
        "    Returns:\n",
        "        score (float): the fraction of correctly classified samples\n",
        "    \"\"\"\n",
        "    score = y_true == y_pred\n",
        "    return score.sum() / len(y_true)\n",
        "\n",
        "\n",
        "def iterate_minibatches(inputs, targets, batch_size):\n",
        "    \"\"\"\n",
        "    A generator for batches of the input data\n",
        "\n",
        "    Args:\n",
        "        inputs (array[float]): input data\n",
        "        targets (array[float]): targets\n",
        "\n",
        "    Returns:\n",
        "        inputs (array[float]): one batch of input data of length `batch_size`\n",
        "        targets (array[float]): one batch of targets of length `batch_size`\n",
        "    \"\"\"\n",
        "    for start_idx in range(0, inputs.shape[0] - batch_size + 1, batch_size):\n",
        "        idxs = slice(start_idx, start_idx + batch_size)\n",
        "        yield inputs[idxs], targets[idxs]\n"
      ],
      "metadata": {
        "id": "Ut8bzAmy4zeY"
      },
      "execution_count": 4,
      "outputs": []
    },
    {
      "cell_type": "markdown",
      "source": [
        "## Train a quantum classifier on the circle dataset"
      ],
      "metadata": {
        "id": "eKvNL5K46ZD5"
      }
    },
    {
      "cell_type": "code",
      "source": [
        "# Generate training and test data\n",
        "num_training = 200\n",
        "num_test = 2000\n",
        "\n",
        "Xdata, y_train = circle(num_training)\n",
        "X_train = np.hstack((Xdata, np.zeros((Xdata.shape[0], 1), requires_grad=False)))\n",
        "\n",
        "Xtest, y_test = circle(num_test)\n",
        "X_test = np.hstack((Xtest, np.zeros((Xtest.shape[0], 1), requires_grad=False)))\n",
        "\n",
        "\n",
        "# Train using Adam optimizer and evaluate the classifier\n",
        "num_layers = 3\n",
        "learning_rate = 0.6\n",
        "epochs = 10\n",
        "batch_size = 32\n",
        "\n",
        "opt = AdamOptimizer(learning_rate, beta1=0.9, beta2=0.999)\n",
        "\n",
        "# initialize random weights\n",
        "params = np.random.uniform(size=(num_layers, 3), requires_grad=True)\n",
        "\n",
        "predicted_train, fidel_train = test(params, X_train, y_train, state_labels)\n",
        "accuracy_train = accuracy_score(y_train, predicted_train)\n",
        "\n",
        "predicted_test, fidel_test = test(params, X_test, y_test, state_labels)\n",
        "accuracy_test = accuracy_score(y_test, predicted_test)\n",
        "\n",
        "# save predictions with random weights for comparison\n",
        "initial_predictions = predicted_test\n",
        "\n",
        "loss = cost(params, X_test, y_test, state_labels)\n",
        "\n",
        "print(\n",
        "    \"Epoch: {:2d} | Cost: {:3f} | Train accuracy: {:3f} | Test Accuracy: {:3f}\".format(\n",
        "        0, loss, accuracy_train, accuracy_test\n",
        "    )\n",
        ")\n",
        "\n",
        "for it in range(epochs):\n",
        "    for Xbatch, ybatch in iterate_minibatches(X_train, y_train, batch_size=batch_size):\n",
        "        params, _, _, _ = opt.step(cost, params, Xbatch, ybatch, state_labels)\n",
        "\n",
        "    predicted_train, fidel_train = test(params, X_train, y_train, state_labels)\n",
        "    accuracy_train = accuracy_score(y_train, predicted_train)\n",
        "    loss = cost(params, X_train, y_train, state_labels)\n",
        "\n",
        "    predicted_test, fidel_test = test(params, X_test, y_test, state_labels)\n",
        "    accuracy_test = accuracy_score(y_test, predicted_test)\n",
        "    res = [it + 1, loss, accuracy_train, accuracy_test]\n",
        "    print(\n",
        "        \"Epoch: {:2d} | Loss: {:3f} | Train accuracy: {:3f} | Test accuracy: {:3f}\".format(\n",
        "            *res\n",
        "        )\n",
        "    )"
      ],
      "metadata": {
        "colab": {
          "base_uri": "https://localhost:8080/"
        },
        "id": "AdL8oyO046uM",
        "outputId": "9a311e9a-7c5b-48b9-96d7-0d65c215dcb4"
      },
      "execution_count": 5,
      "outputs": [
        {
          "output_type": "stream",
          "name": "stdout",
          "text": [
            "Epoch:  0 | Cost: 0.415535 | Train accuracy: 0.460000 | Test Accuracy: 0.448500\n",
            "Epoch:  1 | Loss: 0.125417 | Train accuracy: 0.840000 | Test accuracy: 0.804000\n",
            "Epoch:  2 | Loss: 0.154322 | Train accuracy: 0.775000 | Test accuracy: 0.756000\n",
            "Epoch:  3 | Loss: 0.145234 | Train accuracy: 0.810000 | Test accuracy: 0.799000\n",
            "Epoch:  4 | Loss: 0.126142 | Train accuracy: 0.805000 | Test accuracy: 0.781500\n",
            "Epoch:  5 | Loss: 0.127102 | Train accuracy: 0.845000 | Test accuracy: 0.794500\n",
            "Epoch:  6 | Loss: 0.128556 | Train accuracy: 0.825000 | Test accuracy: 0.807000\n",
            "Epoch:  7 | Loss: 0.113327 | Train accuracy: 0.810000 | Test accuracy: 0.794500\n",
            "Epoch:  8 | Loss: 0.109549 | Train accuracy: 0.895000 | Test accuracy: 0.857000\n",
            "Epoch:  9 | Loss: 0.147936 | Train accuracy: 0.750000 | Test accuracy: 0.750000\n",
            "Epoch: 10 | Loss: 0.104038 | Train accuracy: 0.890000 | Test accuracy: 0.847000\n"
          ]
        }
      ]
    },
    {
      "cell_type": "markdown",
      "source": [
        "## Results"
      ],
      "metadata": {
        "id": "KuOFdQKZ6d3e"
      }
    },
    {
      "cell_type": "code",
      "source": [
        "print(\n",
        "    \"Cost: {:3f} | Train accuracy {:3f} | Test Accuracy : {:3f}\".format(\n",
        "        loss, accuracy_train, accuracy_test\n",
        "    )\n",
        ")\n",
        "\n",
        "print(\"Learned weights\")\n",
        "for i in range(num_layers):\n",
        "    print(\"Layer {}: {}\".format(i, params[i]))\n",
        "\n",
        "\n",
        "fig, axes = plt.subplots(1, 3, figsize=(10, 3))\n",
        "plot_data(X_test, initial_predictions, fig, axes[0])\n",
        "plot_data(X_test, predicted_test, fig, axes[1])\n",
        "plot_data(X_test, y_test, fig, axes[2])\n",
        "axes[0].set_title(\"Predictions with random weights\")\n",
        "axes[1].set_title(\"Predictions after training\")\n",
        "axes[2].set_title(\"True test data\")\n",
        "plt.tight_layout()\n",
        "plt.show()"
      ],
      "metadata": {
        "colab": {
          "base_uri": "https://localhost:8080/",
          "height": 312
        },
        "id": "R6JRSPmc4-ha",
        "outputId": "d577f55a-f4d6-4935-e8ad-a2ce4c167ca2"
      },
      "execution_count": 6,
      "outputs": [
        {
          "output_type": "stream",
          "name": "stdout",
          "text": [
            "Cost: 0.104038 | Train accuracy 0.890000 | Test Accuracy : 0.847000\n",
            "Learned weights\n",
            "Layer 0: [-0.23838965  1.17081693 -0.19781887]\n",
            "Layer 1: [0.64850867 0.71778245 0.46408056]\n",
            "Layer 2: [ 2.39560597 -1.21404538  0.32099705]\n"
          ]
        },
        {
          "output_type": "display_data",
          "data": {
            "text/plain": [
              "<Figure size 720x216 with 3 Axes>"
            ],
            "image/png": "[encoded data removed]"
          },
          "metadata": {
            "needs_background": "light"
          }
        }
      ]
    },
    {
      "cell_type": "code",
      "source": [],
      "metadata": {
        "id": "DjPiJTaS5CJ1"
      },
      "execution_count": null,
      "outputs": []
    }
  ]
}