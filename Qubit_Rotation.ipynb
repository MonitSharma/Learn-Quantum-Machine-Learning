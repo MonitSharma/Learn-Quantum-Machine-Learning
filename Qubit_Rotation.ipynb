{
  "nbformat": 4,
  "nbformat_minor": 0,
  "metadata": {
    "colab": {
      "provenance": [],
      "authorship_tag": "ABX9TyNpdtP2tmeNtfyduINrt7WY",
      "include_colab_link": true
    },
    "kernelspec": {
      "name": "python3",
      "display_name": "Python 3"
    },
    "language_info": {
      "name": "python"
    }
  },
  "cells": [
    {
      "cell_type": "markdown",
      "metadata": {
        "id": "view-in-github",
        "colab_type": "text"
      },
      "source": [
        "<a href=\"https://colab.research.google.com/github/MonitSharma/Learn-Quantum-Machine-Learning/blob/main/Qubit_Rotation.ipynb\" target=\"_parent\"><img src=\"https://colab.research.google.com/assets/colab-badge.svg\" alt=\"Open In Colab\"/></a>"
      ]
    },
    {
      "cell_type": "markdown",
      "source": [
        "## Qubit Rotation"
      ],
      "metadata": {
        "id": "bixomjaTwiZW"
      }
    },
    {
      "cell_type": "markdown",
      "source": [
        "### The Quantum Circuit\n",
        "\n",
        "---\n",
        "In the qubit rotation example, we wish to implement the following quantum circuit:\n",
        "\n",
        "![alt text](https://pennylane.ai/qml/_images/rotation_circuit.png)\n",
        "\n",
        "---\n",
        "Breaking this down step-by-step, we first start with a qubit in the ground state $|0\\rangle = \\begin{bmatrix}1 & 0 \\end{bmatrix}^T$\n",
        ", and rotate it around the x-axis by applying the gate:\n",
        "\n",
        "$$\\begin{split}R_x(\\phi_1) = e^{-i \\phi_1 \\sigma_x /2} =\n",
        "\\begin{bmatrix} \\cos \\frac{\\phi_1}{2} &  -i \\sin \\frac{\\phi_1}{2} \\\\\n",
        "               -i \\sin \\frac{\\phi_1}{2} &  \\cos \\frac{\\phi_1}{2}\n",
        "\\end{bmatrix},\\end{split}$$\n",
        "\n",
        "\n",
        "and then around the y-axis via the gate:\n",
        "\n",
        "$$\\begin{split}R_y(\\phi_2) = e^{-i \\phi_2 \\sigma_y/2} =\n",
        "\\begin{bmatrix} \\cos \\frac{\\phi_2}{2} &  - \\sin \\frac{\\phi_2}{2} \\\\\n",
        "                \\sin \\frac{\\phi_2}{2} &  \\cos \\frac{\\phi_2}{2}\n",
        "\\end{bmatrix}.\\end{split}$$\n",
        "\n",
        "After these operations the qubit is now in the state:\n",
        "\n",
        "$$| \\psi \\rangle = R_y(\\phi_2) R_x(\\phi_1) | 0 \\rangle$$\n",
        "\n",
        "Finally, we measure the expectation value $\\langle \\psi \\mid \\sigma_z \\mid \\psi \\rangle$ of the Pauli-Z operator\n",
        "\n",
        "$$\\begin{split}\\sigma_z =\n",
        "\\begin{bmatrix} 1 &  0 \\\\\n",
        "                0 & -1\n",
        "\\end{bmatrix}.\\end{split}$$\n",
        "\n",
        "\n",
        "Using the above calculate the exact expectation value, we find that\n",
        "\n",
        "$$\\langle \\psi \\mid \\sigma_z \\mid \\psi \\rangle\n",
        "= \\langle 0 \\mid R_x(\\phi_1)^\\dagger R_y(\\phi_2)^\\dagger \\sigma_z  R_y(\\phi_2) R_x(\\phi_1) \\mid 0 \\rangle\n",
        "= \\cos(\\phi_1)\\cos(\\phi_2)$$\n",
        "\n",
        "\n",
        "Depending on the circuit parameters $\\phi_1$ and $\\phi_2$, the output expecatation lies between $1$ if $|\\psi\\rangle = |0\\rangle$ and $-1$ if $|\\psi⟩ = |1⟩$"
      ],
      "metadata": {
        "id": "SmQlKt0ywktA"
      }
    },
    {
      "cell_type": "markdown",
      "source": [
        "## Importing Pennylane and Numpy\n",
        "\n",
        "The first thing we need to do is import PennyLane, as well as the wrapped version of NumPy provided by PennyLane."
      ],
      "metadata": {
        "id": "lXYzgus3x59W"
      }
    },
    {
      "cell_type": "code",
      "execution_count": 3,
      "metadata": {
        "id": "-EJf-KDauS6m"
      },
      "outputs": [],
      "source": [
        "import pennylane as qml\n",
        "from pennylane import numpy as np"
      ]
    },
    {
      "cell_type": "markdown",
      "source": [
        "#### Important\n",
        "\n",
        "When constructing a hybrid quantum/classical computational model with PennyLane, it is important to always import NumPy from PennyLane, not the standard NumPy!\n",
        "\n",
        "By importing the wrapped version of NumPy provided by PennyLane, you can combine the power of NumPy with PennyLane:\n",
        "\n",
        "* continue to use the classical NumPy functions and arrays you know and love\n",
        "\n",
        "* combine quantum functions (evaluated on quantum hardware/simulators) and classical functions (provided by NumPy)\n",
        "\n",
        "* allow PennyLane to automatically calculate gradients of both classical and quantum functions"
      ],
      "metadata": {
        "id": "22CjZdL3yfk7"
      }
    },
    {
      "cell_type": "markdown",
      "source": [
        "## Creating a device\n",
        "\n",
        "Before we can construct our quantum node, we need to initialize a device.\n",
        "\n",
        "-----\n",
        "-----\n",
        "\n",
        "  **Definition**\n",
        "\n",
        "Any computational object that can apply quantum operations and return a measurement value is called a quantum device.\n",
        "\n",
        "\n",
        "In PennyLane, a device could be a hardware device (such as the IBM QX4, via the PennyLane-PQ plugin), or a software simulator (such as Strawberry Fields, via the PennyLane-SF plugin).\n",
        "\n",
        "\n",
        "\n",
        "``` Device are loaded in Pennylane via the function device()```\n",
        "\n",
        "\n",
        "For this tutorial, we are using qubit model, so let's initialize the `default.qubit` device provided"
      ],
      "metadata": {
        "id": "WTWvl2cuys2U"
      }
    },
    {
      "cell_type": "code",
      "source": [
        "dev1 = qml.device(\"default.qubit\", wires=1)"
      ],
      "metadata": {
        "id": "3b0vxroIyCp4"
      },
      "execution_count": 4,
      "outputs": []
    },
    {
      "cell_type": "markdown",
      "source": [
        "For all devices, `device()` accepts the following arguments:\n",
        "\n",
        "1. `name` : the name of the device to be loaded\n",
        "2. `wires` : the number of subsystems to initialize the devices with\n",
        "\n",
        "\n",
        "Here, as we only require a single qubit for this example, we set `wires=1`"
      ],
      "metadata": {
        "id": "bTeOt0v5zMBl"
      }
    },
    {
      "cell_type": "markdown",
      "source": [
        "## Constructing the QNode\n",
        "\n",
        "Now that we have intialized pur device, we can begin to construct a **quantum node**\n",
        "\n",
        "----\n",
        "----\n",
        "  **Definition**\n",
        "\n",
        "  QNodes are an abstract encapsulation of a quantum function, described by a quantum circuit. QNodes are bound to a particular quantum device, which is used to evaluate expectation and variance values of this circuit.\n",
        "\n",
        "\n",
        "\n",
        "\n",
        "\n",
        "```QNodes can be constructed via the QNode class, or by using the provided qnode() decorator.```\n",
        "\n",
        "-----\n",
        "\n",
        "\n"
      ],
      "metadata": {
        "id": "t2jldfQizhGB"
      }
    },
    {
      "cell_type": "markdown",
      "source": [
        "We need to define the quantum function that will be evaluated in the QNode:\n",
        "\n",
        "\n",
        "```python\n",
        "def circuit(params):\n",
        "    qml.RX(params[0], wires=0)\n",
        "    qml.RY(params[1], wires=0)\n",
        "    return qml.expval(qml.PauliZ(0))\n",
        "```\n",
        "\n",
        "This is a simple circuit, matching the one described above. Notice that the function `circuit()` is constructed as if it were any other Python function; it accepts a positional argument `params`, which may be a list, tuple, or array, and uses the individual elements for gate parameters.\n",
        "\n",
        "\n",
        "------\n",
        "\n",
        "\n",
        "However, quantum functions are a **restricted subset** of Python functions. For a Python function to also be a valid quantum function, there are some important restrictions:\n",
        "\n",
        "\n",
        "1. **Quantum functions must contain quantum operations, one operation per line, in the order in which they are to be applied.**\n",
        "\n",
        "      In addition, we must always specify the subsystem the operation applies to, by passing the wires argument; this may be a list or an integer, depending on how many wires the operation acts on.\n",
        " \n",
        " See the [documentation](https://docs.pennylane.ai/en/stable/introduction/operations.html)\n",
        "\n",
        "\n",
        "\n",
        "\n",
        "2. **Quantum functions must return either a single or a tuple of measured observables.**\n",
        "   \n",
        "   As a result, the quantum function always returns a classical quantity, allowing the QNode to interface with other classical functions (and also other QNodes).\n",
        "\n",
        "\n",
        "-----\n",
        "\n",
        "Once we have written the quantum function, we convert it into a `QNode` running on device `dev1` by applying the `qnode()` decorator. directly above the function definition:\n",
        "\n"
      ],
      "metadata": {
        "id": "0ORqXK230ec5"
      }
    },
    {
      "cell_type": "code",
      "source": [
        "@qml.qnode(dev1)\n",
        "def circuit(params):\n",
        "  qml.RX(params[0], wires=0)\n",
        "  qml.RY(params[1], wires=0)\n",
        "\n",
        "  return qml.expval(qml.PauliZ(0))"
      ],
      "metadata": {
        "id": "pRwJerDGzLHf"
      },
      "execution_count": 5,
      "outputs": []
    },
    {
      "cell_type": "markdown",
      "source": [
        "Thus, our `circuit()` quantum function is now a `QNode`, which will run on devoce `dev1` every time it is evaluated.\n",
        "\n",
        "----\n",
        "To evaluate , we simply call the function with some appropriate numerical inputs:\n",
        "\n"
      ],
      "metadata": {
        "id": "tCoUxdSN1lMP"
      }
    },
    {
      "cell_type": "code",
      "source": [
        "print(circuit([0.54,0.12]))"
      ],
      "metadata": {
        "colab": {
          "base_uri": "https://localhost:8080/"
        },
        "id": "POQngFxH1jTW",
        "outputId": "13787f86-be49-4cf1-a7c8-0a6e12079cc9"
      },
      "execution_count": 6,
      "outputs": [
        {
          "output_type": "stream",
          "name": "stdout",
          "text": [
            "0.8515405859048367\n"
          ]
        }
      ]
    },
    {
      "cell_type": "markdown",
      "source": [
        "## Calculating quantum gradients\n",
        "\n",
        "The gradient of the function `circuit`, encapsulated within the `QNode`, can be evaluated by utilizing the same quantum device (`dev1`) that we used to evaluate the function itself.\n",
        "\n",
        "---\n",
        "\n",
        "PennyLane incorporates both analytic differentiation, as well as numerical methods (such as the method of finite differences). Both of these are done automatically.\n",
        "\n",
        "---\n",
        "\n",
        "We can differentiate by using the built-in `grad()` function. This returns another function, representing the gradient (i.e., the vector of partial derivatives) of `circuit`. The gradient can be evaluated in the same way as the original function:"
      ],
      "metadata": {
        "id": "kTrH2PuV2LFy"
      }
    },
    {
      "cell_type": "code",
      "source": [
        "dcircuit = qml.grad(circuit, argnum = 0)"
      ],
      "metadata": {
        "id": "nvMOt5sN13wG"
      },
      "execution_count": 7,
      "outputs": []
    },
    {
      "cell_type": "markdown",
      "source": [
        "The function `grad()` itself **returns a function**, representing the derivative of the QNode with respect to the argument specified in `argnum`. In this case, the function `circuit` takes one argument (`params`), so we specify `argnum=0`. Because the argument has two elements, the returned gradient is two-dimensional. We can then evaluate this gradient function at any point in the parameter space."
      ],
      "metadata": {
        "id": "ydbaUwGt2mKd"
      }
    },
    {
      "cell_type": "code",
      "source": [
        "print(dcircuit([0.54,0.12]))"
      ],
      "metadata": {
        "colab": {
          "base_uri": "https://localhost:8080/"
        },
        "id": "gbqfMyds2lBb",
        "outputId": "bd635142-dd53-43d9-a88d-27172f08ece8"
      },
      "execution_count": 8,
      "outputs": [
        {
          "output_type": "stream",
          "name": "stdout",
          "text": [
            "[array(-0.51043865), array(-0.1026782)]\n"
          ]
        }
      ]
    },
    {
      "cell_type": "markdown",
      "source": [
        "##### A Note on arguments\n",
        "\n",
        "Quantum circuit functions, being a restricted subset of Python functions, can also make use of multiple positional arguments and keyword arguments. For example, we could have defined the above quantum circuit function using two positional arguments, instead of one array argument:"
      ],
      "metadata": {
        "id": "ryBfA5CX242r"
      }
    },
    {
      "cell_type": "code",
      "source": [
        "@qml.qnode(dev1)\n",
        "def circuit2(phi1, phi2):\n",
        "    qml.RX(phi1, wires=0)\n",
        "    qml.RY(phi2, wires=0)\n",
        "    return qml.expval(qml.PauliZ(0))"
      ],
      "metadata": {
        "id": "Qsew9WEd22cg"
      },
      "execution_count": 9,
      "outputs": []
    },
    {
      "cell_type": "markdown",
      "source": [
        "When we calculate the gradient for such a function, the usage of `argnum` will be slightly different. In this case, `argnum=0` will return the gradient with respect to only the first parameter (`phi1`), and `argnum=1` will give the gradient for `phi2`. To get the gradient with respect to both parameters, we can use `argnum=[0,1]`:"
      ],
      "metadata": {
        "id": "FOn5PjWY3D9S"
      }
    },
    {
      "cell_type": "code",
      "source": [
        "dcircuit = qml.grad(circuit2, argnum=[0, 1])\n",
        "print(dcircuit(0.54, 0.12))"
      ],
      "metadata": {
        "colab": {
          "base_uri": "https://localhost:8080/"
        },
        "id": "zYotIUZT3AJ1",
        "outputId": "b1526366-b4aa-4621-ebf5-d001f886ad71"
      },
      "execution_count": 10,
      "outputs": [
        {
          "output_type": "stream",
          "name": "stdout",
          "text": [
            "(array(-0.51043865), array(-0.1026782))\n"
          ]
        }
      ]
    },
    {
      "cell_type": "markdown",
      "source": [
        "## Optimization\n",
        "\n",
        "  **Definition**\n",
        "\n",
        "  If using the default NumPy/Autograd interface, PennyLane provides a collection of optimizers based on gradient descent. These optimizers accept a cost function and initial parameters, and utilize PennyLane’s automatic differentiation to perform gradient descent.\n",
        "\n",
        "-----\n",
        "\n",
        "Next, let’s make use of PennyLane’s built-in optimizers to optimize the two circuit parameters $\\phi_1$ and $\\phi_2$ such that the qubit, originally in state $|0⟩$ , is rotated to be in state $|1⟩$. This is equivalent to measuring a Pauli-Z expectation value of $-1$, since the state $|1⟩$ is an eigenvector of the Pauli-Z matrix with eigenvalue $λ=−1$.\n",
        "\n",
        "\n",
        "-----\n",
        "\n",
        "In other words, the optimization procedure will find the weights $\\phi_1$ and $\\phi_2$ that result in the following rotation on the Bloch sphere:\n",
        "\n",
        "![alt text](https://pennylane.ai/qml/_images/bloch.png)\n",
        "\n",
        "To do so, we need to define a cost function. By minimizing the cost function, the optimizer will determine the values of the circuit parameters that produce the desired outcome.\n",
        "\n",
        "\n",
        "In this case, our desired outcome is a Pauli-Z expectation value of $-1$ Since we know that the Pauli-Z expectation is bound between $[−1,1]$\n",
        ", we can define our cost directly as the output of the QNode:\n",
        "\n",
        "\n",
        "\n"
      ],
      "metadata": {
        "id": "rZUgzoeX3QYK"
      }
    },
    {
      "cell_type": "code",
      "source": [
        "def cost(x):\n",
        "  return circuit(x)"
      ],
      "metadata": {
        "id": "FjDpYtnB3Nmm"
      },
      "execution_count": 11,
      "outputs": []
    },
    {
      "cell_type": "markdown",
      "source": [
        "To begin our optimization, let's choose small initial values of $\\phi_1$ and $\\phi_2$"
      ],
      "metadata": {
        "id": "nqGw5a2G4NXm"
      }
    },
    {
      "cell_type": "code",
      "source": [
        "init_params = np.array([0.011, 0.012], requires_grad=True)\n",
        "print(cost(init_params))"
      ],
      "metadata": {
        "colab": {
          "base_uri": "https://localhost:8080/"
        },
        "id": "uQ0SApBF4MEv",
        "outputId": "92621acc-41c5-4bd9-e130-842f9ba035b2"
      },
      "execution_count": 12,
      "outputs": [
        {
          "output_type": "stream",
          "name": "stdout",
          "text": [
            "0.9998675058299389\n"
          ]
        }
      ]
    },
    {
      "cell_type": "markdown",
      "source": [
        "We can see that, for these initial parameter values, the cost function is close to $1$\n",
        "\n",
        "\n",
        "Finally, we use an optimizer to update the circuit parameters for $100$ steps. We can use the built-in `GradientDescentOptimizer` class:"
      ],
      "metadata": {
        "id": "r5BxvQQm4W8M"
      }
    },
    {
      "cell_type": "code",
      "source": [
        "# initialise the optimizer\n",
        "opt = qml.GradientDescentOptimizer(stepsize=0.4)\n",
        "\n",
        "# set the number of steps\n",
        "steps = 100\n",
        "# set the initial parameter values\n",
        "params = init_params\n",
        "\n",
        "for i in range(steps):\n",
        "    # update the circuit parameters\n",
        "    params = opt.step(cost, params)\n",
        "\n",
        "    if (i + 1) % 5 == 0:\n",
        "        print(\"Cost after step {:5d}: {: .7f}\".format(i + 1, cost(params)))\n",
        "\n",
        "print(\"Optimized rotation angles: {}\".format(params))"
      ],
      "metadata": {
        "colab": {
          "base_uri": "https://localhost:8080/"
        },
        "id": "1u80oqFR4Uqs",
        "outputId": "8d2553cc-1756-4762-ab5f-b3d0d647c004"
      },
      "execution_count": 13,
      "outputs": [
        {
          "output_type": "stream",
          "name": "stdout",
          "text": [
            "Cost after step     5:  0.9961778\n",
            "Cost after step    10:  0.8974944\n",
            "Cost after step    15:  0.1440490\n",
            "Cost after step    20: -0.1536720\n",
            "Cost after step    25: -0.9152496\n",
            "Cost after step    30: -0.9994046\n",
            "Cost after step    35: -0.9999964\n",
            "Cost after step    40: -1.0000000\n",
            "Cost after step    45: -1.0000000\n",
            "Cost after step    50: -1.0000000\n",
            "Cost after step    55: -1.0000000\n",
            "Cost after step    60: -1.0000000\n",
            "Cost after step    65: -1.0000000\n",
            "Cost after step    70: -1.0000000\n",
            "Cost after step    75: -1.0000000\n",
            "Cost after step    80: -1.0000000\n",
            "Cost after step    85: -1.0000000\n",
            "Cost after step    90: -1.0000000\n",
            "Cost after step    95: -1.0000000\n",
            "Cost after step   100: -1.0000000\n",
            "Optimized rotation angles: [7.15266381e-18 3.14159265e+00]\n"
          ]
        }
      ]
    },
    {
      "cell_type": "markdown",
      "source": [
        "We can see that the optimization converges after approximately 40 steps.\n",
        "\n",
        "\n",
        "----\n",
        "\n",
        "Substituting this into the theoretical result $\\langle \\psi \\mid \\sigma_z \\mid \\psi \\rangle = \\cos\\phi_1\\cos\\phi_2$ , we can verify that this is indeed one possible value of the circuit parameters that produces $\\langle \\psi \\mid \\sigma_z \\mid \\psi \\rangle=-1$ , resulting in the qubit being rotated to the state $|1⟩$\n",
        "\n",
        "------\n",
        "\n",
        "\n",
        "##### Note\n",
        "\n",
        "Some optimizers, such as `AdagradOptimizer`, have internal hyperparameters that are stored in the optimizer instance. These can be reset using the reset() method.\n"
      ],
      "metadata": {
        "id": "IwhED5Cz4kyU"
      }
    }
  ]
}